{
 "cells": [
  {
   "cell_type": "code",
   "execution_count": 1,
   "metadata": {
    "collapsed": false
   },
   "outputs": [],
   "source": [
    "import sys\n",
    "import platform\n",
    "import os\n",
    "import random as rnd\n",
    "import math\n",
    "import numpy as np\n",
    "import pandas as pd\n",
    "from numba import jit\n",
    "import numba\n",
    "import numexpr as ne"
   ]
  },
  {
   "cell_type": "markdown",
   "metadata": {},
   "source": [
    "# Software Versions and Machine Hardware"
   ]
  },
  {
   "cell_type": "code",
   "execution_count": 2,
   "metadata": {
    "collapsed": false
   },
   "outputs": [
    {
     "name": "stdout",
     "output_type": "stream",
     "text": [
      "Python: 3.5.2 |Anaconda 4.1.1 (64-bit)| (default, Jul  5 2016, 11:41:13) [MSC v.1900 64 bit (AMD64)]\n",
      "Numpy: 1.11.1\n",
      "Pandas: 0.18.1\n",
      "Numba: 0.26.0\n",
      "Numexpr: 2.6.0\n",
      "Processor: Intel64 Family 6 Model 78 Stepping 3, GenuineIntel\n",
      "# of Cores: 4\n",
      "Machine: AMD64\n",
      "Architecture: ('64bit', 'WindowsPE')\n"
     ]
    }
   ],
   "source": [
    "print(\"Python: {}\\nNumpy: {}\\nPandas: {}\\nNumba: {}\\nNumexpr: {}\".format(sys.version,\n",
    "                                                                         np.__version__,\n",
    "                                                                         pd.__version__,\n",
    "                                                                         numba.__version__,\n",
    "                                                                         ne.__version__))\n",
    "print(\"Processor: {}\\n# of Cores: {}\\nMachine: {}\\nArchitecture: {}\".format(platform.processor(),\n",
    "                                                                            os.cpu_count(),\n",
    "                                                                            platform.machine(),\n",
    "                                                                            platform.architecture()))\n",
    "#Note:\n",
    "#Intel64 Family 6 Model 78 Stepping 3 = Intel(R) Core(TM) i5-6300U CPU @ 2.40GHz"
   ]
  },
  {
   "cell_type": "markdown",
   "metadata": {},
   "source": [
    "# Define Sample Data"
   ]
  },
  {
   "cell_type": "markdown",
   "metadata": {},
   "source": [
    "List of tuples where list is 1,000,000 long and each tuple has 4 values defining the point."
   ]
  },
  {
   "cell_type": "code",
   "execution_count": 3,
   "metadata": {
    "collapsed": false
   },
   "outputs": [
    {
     "name": "stdout",
     "output_type": "stream",
     "text": [
      "<class 'list'> of <class 'tuple'> containing <class 'float'>.\n"
     ]
    }
   ],
   "source": [
    "size=1000000\n",
    "points = []\n",
    "for i in range(size):\n",
    "    points.append((rnd.uniform(-85,85),rnd.uniform(-175,175),rnd.uniform(-50,12000), rnd.uniform(-50,50)))\n",
    "print ('{} of {} containing {}.'.format(type(points),type(points[0]),type(points[0][0])))"
   ]
  },
  {
   "cell_type": "markdown",
   "metadata": {},
   "source": [
    "Numpy arrays, 4 arrays each 1000 long."
   ]
  },
  {
   "cell_type": "code",
   "execution_count": 4,
   "metadata": {
    "collapsed": false
   },
   "outputs": [
    {
     "name": "stdout",
     "output_type": "stream",
     "text": [
      "<class 'numpy.ndarray'> (x4) containing <class 'numpy.float64'>.\n"
     ]
    }
   ],
   "source": [
    "#instead of using np.random.uniform to define these arrays, converting the points list\n",
    "#so the same values are used for all methods\n",
    "lat_np = np.empty(size)\n",
    "long_np = np.empty(size)\n",
    "alt_np = np.empty(size)\n",
    "geoid_np = np.empty(size)\n",
    "for i, point in enumerate(points):\n",
    "    lat_np[i] = point[0]\n",
    "    long_np[i] = point[1]\n",
    "    alt_np[i] = point[2]\n",
    "    geoid_np[i] = point[3]\n",
    "print ('{} (x4) containing {}.'.format(type(lat_np),type(lat_np[0])))"
   ]
  },
  {
   "cell_type": "markdown",
   "metadata": {},
   "source": [
    "Pandas DataFrame that is 1000 x 4"
   ]
  },
  {
   "cell_type": "code",
   "execution_count": 5,
   "metadata": {
    "collapsed": false
   },
   "outputs": [
    {
     "name": "stdout",
     "output_type": "stream",
     "text": [
      "<class 'pandas.core.frame.DataFrame'> containing <class 'numpy.float64'>.\n"
     ]
    }
   ],
   "source": [
    "points_df = pd.DataFrame(points, columns=['Lat','Long','Alt','Geoid'])\n",
    "print ('{} containing {}.'.format(type(points_df),type(points_df.ix[0,0])))"
   ]
  },
  {
   "cell_type": "code",
   "execution_count": 6,
   "metadata": {
    "collapsed": false
   },
   "outputs": [],
   "source": [
    "#results df\n",
    "timing_results = pd.DataFrame(columns=['Loops','Repeat','Best (sec)'])\n",
    "def timing_results_filler (r):\n",
    "    #Loops,Repeat,Best\n",
    "    return [r.loops, r.repeat, r.best]"
   ]
  },
  {
   "cell_type": "markdown",
   "metadata": {},
   "source": [
    "# Native Python Lists"
   ]
  },
  {
   "cell_type": "code",
   "execution_count": 7,
   "metadata": {
    "collapsed": false
   },
   "outputs": [
    {
     "data": {
      "text/plain": [
       "(-2856867.422762463, -4132876.8004144537, -3916387.577890978)"
      ]
     },
     "execution_count": 7,
     "metadata": {},
     "output_type": "execute_result"
    }
   ],
   "source": [
    "a = 6378137  # Semi-major axis \n",
    "b = 6356752.3142  # Semi-minor axis\n",
    "f = (a - b) / a  # flattening\n",
    "e = 0.081819191\n",
    "\n",
    "def LLAtoXYZ_raw (latitude, longitude, altitude, geoidSepIn = 0):\n",
    "    # LLAtoXYZ converts a position (latitude, longitude, altitude) to the ECEF X, Y, Z format.\n",
    "    # The function expects Lat and Long in degrees and Alt in meters and outputs X, Y, Z in meters. \n",
    "    # geoidSepIn is the height of the geoid above the WGS84 ellipsoid. It is optional and assumed \n",
    "    # to be 0 if not provided (meaning geoid-to-ellipsoid differences are ignored)\n",
    "    \n",
    "    latitude_rad = math.radians(latitude)\n",
    "    longitude_rad = math.radians(longitude)\n",
    "    height = altitude - geoidSepIn\n",
    "     \n",
    "    r = a / math.sqrt(1 - math.pow(e, 2) * math.pow(math.sin(latitude_rad), 2))\n",
    "    x = (r + height) * math.cos(latitude_rad) * math.cos(longitude_rad)\n",
    "    y = (r + height) * math.cos(latitude_rad) * math.sin(longitude_rad)\n",
    "    z = ((1 - math.pow(e, 2)) * r + height) * math.sin(latitude_rad)\n",
    "        \n",
    "    return x,y,z\n",
    "LLAtoXYZ_raw(-38.123456,-124.65432,230,-20)\n",
    "#X= -2856867.422762463\n",
    "#Y= -4132876.8004144537\n",
    "#Z= -3916387.577890978"
   ]
  },
  {
   "cell_type": "code",
   "execution_count": 8,
   "metadata": {
    "collapsed": false
   },
   "outputs": [
    {
     "name": "stdout",
     "output_type": "stream",
     "text": [
      "1 loop, best of 5: 3.1 s per loop\n"
     ]
    }
   ],
   "source": [
    "results = []\n",
    "r = %timeit -n 1 -r 5 -o for p in points: results.append(LLAtoXYZ_raw(p[0],p[1],p[2],p[3]))\n",
    "timing_results.loc['Native Python'] = timing_results_filler(r)"
   ]
  },
  {
   "cell_type": "markdown",
   "metadata": {},
   "source": [
    "# Numpy Arrays"
   ]
  },
  {
   "cell_type": "code",
   "execution_count": 9,
   "metadata": {
    "collapsed": false
   },
   "outputs": [
    {
     "data": {
      "text/plain": [
       "(-2856867.4227624629, -4132876.8004144537, -3916387.5778909782)"
      ]
     },
     "execution_count": 9,
     "metadata": {},
     "output_type": "execute_result"
    }
   ],
   "source": [
    "def LLAtoXYZ_numpy (latitude, longitude, altitude, geoidSepIn = 0, return_array = False):\n",
    "    # LLAtoXYZ converts a position (latitude, longitude, altitude) to the ECEF X, Y, Z format.\n",
    "    # The function expects Lat and Long in degrees and Alt in meters and outputs X, Y, Z in meters. \n",
    "    # geoidSepIn is the height of the geoid above the WGS84 ellipsoid. It is optional and assumed \n",
    "    # to be 0 if not provided (meaning geoid-to-ellipsoid differences are ignored)\n",
    "    \n",
    "    latitude_rad = np.radians(latitude)\n",
    "    longitude_rad = np.radians(longitude)\n",
    "    height = altitude - geoidSepIn\n",
    "     \n",
    "    r = a / np.sqrt(1 - np.power(e, 2) * np.power(np.sin(latitude_rad), 2))\n",
    "    x = (r + height) * np.cos(latitude_rad) * np.cos(longitude_rad)\n",
    "    y = (r + height) * np.cos(latitude_rad) * np.sin(longitude_rad)\n",
    "    z = ((1 - np.power(e, 2)) * r + height) * np.sin(latitude_rad)\n",
    "    \n",
    "    if return_array:\n",
    "        return np.array([x,y,z])\n",
    "    else:\n",
    "        return x,y,z\n",
    "    \n",
    "LLAtoXYZ_numpy(-38.123456,-124.65432,230,-20)\n",
    "#X= -2856867.422762463\n",
    "#Y= -4132876.8004144537\n",
    "#Z= -3916387.577890978"
   ]
  },
  {
   "cell_type": "code",
   "execution_count": 10,
   "metadata": {
    "collapsed": false
   },
   "outputs": [
    {
     "name": "stdout",
     "output_type": "stream",
     "text": [
      "1 loop, best of 5: 186 ms per loop\n"
     ]
    }
   ],
   "source": [
    "r = %timeit -n 1 -r 5 -o results=LLAtoXYZ_numpy(lat_np,long_np,alt_np,geoid_np,True)\n",
    "timing_results.loc['Numpy'] = timing_results_filler(r)"
   ]
  },
  {
   "cell_type": "markdown",
   "metadata": {},
   "source": [
    "# Pandas (Serialized)"
   ]
  },
  {
   "cell_type": "code",
   "execution_count": 11,
   "metadata": {
    "collapsed": false
   },
   "outputs": [
    {
     "name": "stdout",
     "output_type": "stream",
     "text": [
      "1 loop, best of 5: 52.2 s per loop\n"
     ]
    }
   ],
   "source": [
    "r = %timeit -n 1 -r 5 -o points_df['X'],points_df['Y'],points_df['Z']  = zip(*points_df.apply(lambda row: LLAtoXYZ_raw(row[0],row[1],row[2],row[3]), axis=1))\n",
    "timing_results.loc['Pandas (Serialized)'] = timing_results_filler(r)"
   ]
  },
  {
   "cell_type": "markdown",
   "metadata": {},
   "source": [
    "# Pandas (Vectorized)"
   ]
  },
  {
   "cell_type": "code",
   "execution_count": 12,
   "metadata": {
    "collapsed": false
   },
   "outputs": [
    {
     "name": "stdout",
     "output_type": "stream",
     "text": [
      "1 loop, best of 5: 185 ms per loop\n"
     ]
    }
   ],
   "source": [
    "r = %timeit -n 1 -r 5 -o points_df['X'],points_df['Y'],points_df['Z'] = LLAtoXYZ_numpy(points_df['Lat'],points_df['Long'],points_df['Alt'],points_df['Geoid'],False)\n",
    "timing_results.loc['Pandas (Vectorized)'] = timing_results_filler(r)"
   ]
  },
  {
   "cell_type": "markdown",
   "metadata": {},
   "source": [
    "# Numba"
   ]
  },
  {
   "cell_type": "code",
   "execution_count": 13,
   "metadata": {
    "collapsed": false
   },
   "outputs": [
    {
     "data": {
      "text/plain": [
       "(-2856867.4227624629, -4132876.8004144537, -3916387.5778909782)"
      ]
     },
     "execution_count": 13,
     "metadata": {},
     "output_type": "execute_result"
    }
   ],
   "source": [
    "@jit\n",
    "def LLAtoXYZ_jit (latitude, longitude, altitude, geoidSepIn = 0, return_array = False):\n",
    "    # LLAtoXYZ converts a position (latitude, longitude, altitude) to the ECEF X, Y, Z format.\n",
    "    # The function expects Lat and Long in degrees and Alt in meters and outputs X, Y, Z in meters. \n",
    "    # geoidSepIn is the height of the geoid above the WGS84 ellipsoid. It is optional and assumed \n",
    "    # to be 0 if not provided (meaning geoid-to-ellipsoid differences are ignored)\n",
    "    \n",
    "    latitude_rad = np.radians(latitude)\n",
    "    longitude_rad = np.radians(longitude)\n",
    "    height = altitude - geoidSepIn\n",
    "     \n",
    "    r = a / np.sqrt(1 - np.power(e, 2) * np.power(np.sin(latitude_rad), 2))\n",
    "    x = (r + height) * np.cos(latitude_rad) * np.cos(longitude_rad)\n",
    "    y = (r + height) * np.cos(latitude_rad) * np.sin(longitude_rad)\n",
    "    z = ((1 - np.power(e, 2)) * r + height) * np.sin(latitude_rad)\n",
    "    \n",
    "    if return_array:\n",
    "        return np.array([x,y,z])\n",
    "    else:\n",
    "        return x,y,z\n",
    "    \n",
    "LLAtoXYZ_jit(-38.123456,-124.65432,230,-20)\n",
    "#X= -2856867.422762463\n",
    "#Y= -4132876.8004144537\n",
    "#Z= -3916387.577890978"
   ]
  },
  {
   "cell_type": "code",
   "execution_count": 14,
   "metadata": {
    "collapsed": false
   },
   "outputs": [
    {
     "name": "stdout",
     "output_type": "stream",
     "text": [
      "1 loop, best of 5: 183 ms per loop\n"
     ]
    }
   ],
   "source": [
    "r = %timeit -n 1 -r 5 -o results = LLAtoXYZ_jit(lat_np,long_np,alt_np,geoid_np,True)\n",
    "timing_results.loc['Numba with Numpy Arrays'] = timing_results_filler(r)"
   ]
  },
  {
   "cell_type": "code",
   "execution_count": 15,
   "metadata": {
    "collapsed": false
   },
   "outputs": [
    {
     "name": "stdout",
     "output_type": "stream",
     "text": [
      "1 loop, best of 5: 183 ms per loop\n"
     ]
    }
   ],
   "source": [
    "r = %timeit -n 1 -r 5 -o points_df['X'],points_df['Y'],points_df['Z'] = LLAtoXYZ_jit(points_df['Lat'],points_df['Long'],points_df['Alt'],points_df['Geoid'],False)\n",
    "timing_results.loc['Numba with Vectorized Pandas'] = timing_results_filler(r)"
   ]
  },
  {
   "cell_type": "markdown",
   "metadata": {},
   "source": [
    "# Numexpr"
   ]
  },
  {
   "cell_type": "code",
   "execution_count": 16,
   "metadata": {
    "collapsed": false
   },
   "outputs": [
    {
     "data": {
      "text/plain": [
       "(array(-2856867.422762463),\n",
       " array(-4132876.8004144537),\n",
       " array(-3916387.577890978))"
      ]
     },
     "execution_count": 16,
     "metadata": {},
     "output_type": "execute_result"
    }
   ],
   "source": [
    "def LLAtoXYZ_ne (latitude, longitude, altitude, geoidSepIn = 0, return_array = False):\n",
    "    # LLAtoXYZ converts a position (latitude, longitude, altitude) to the ECEF X, Y, Z format.\n",
    "    # The function expects Lat and Long in degrees and Alt in meters and outputs X, Y, Z in meters. \n",
    "    # geoidSepIn is the height of the geoid above the WGS84 ellipsoid. It is optional and assumed \n",
    "    # to be 0 if not provided (meaning geoid-to-ellipsoid differences are ignored)\n",
    "    \n",
    "    latitude_rad = np.radians(latitude)\n",
    "    longitude_rad = np.radians(longitude)\n",
    "    height = altitude - geoidSepIn\n",
    "     \n",
    "    r = ne.evaluate(\"a / sqrt(1 - e**2 * sin(latitude_rad)**2)\")\n",
    "    x = ne.evaluate(\"(r + height) * cos(latitude_rad) * cos(longitude_rad)\")\n",
    "    y = ne.evaluate(\"(r + height) * cos(latitude_rad) * sin(longitude_rad)\")\n",
    "    z = ne.evaluate(\"((1 - e**2) * r + height) * sin(latitude_rad)\")\n",
    "    \n",
    "    if return_array:\n",
    "        return np.array([x,y,z])\n",
    "    else:\n",
    "        return x,y,z\n",
    "    \n",
    "LLAtoXYZ_ne(-38.123456,-124.65432,230,-20)\n",
    "#X= -2856867.422762463\n",
    "#Y= -4132876.8004144537\n",
    "#Z= -3916387.577890978"
   ]
  },
  {
   "cell_type": "code",
   "execution_count": 17,
   "metadata": {
    "collapsed": false
   },
   "outputs": [
    {
     "name": "stdout",
     "output_type": "stream",
     "text": [
      "1 loop, best of 5: 39.9 ms per loop\n"
     ]
    }
   ],
   "source": [
    "r = %timeit -n 1 -r 5 -o results = LLAtoXYZ_ne(lat_np,long_np,alt_np,geoid_np,True)\n",
    "timing_results.loc['Numexpr with Numpy Arrays'] = timing_results_filler(r)"
   ]
  },
  {
   "cell_type": "code",
   "execution_count": 18,
   "metadata": {
    "collapsed": false
   },
   "outputs": [
    {
     "name": "stdout",
     "output_type": "stream",
     "text": [
      "1 loop, best of 5: 46.5 ms per loop\n"
     ]
    }
   ],
   "source": [
    "r = %timeit -n 1 -r 5 -o points_df['X'],points_df['Y'],points_df['Z'] = LLAtoXYZ_ne(points_df['Lat'],points_df['Long'],points_df['Alt'],points_df['Geoid'],False)\n",
    "timing_results.loc['Numexpr with Vectorized Pandas'] = timing_results_filler(r)"
   ]
  },
  {
   "cell_type": "markdown",
   "metadata": {},
   "source": [
    "# Summary\n",
    "Method|Timing (µs)|Vs Native Python\n",
    "---|---:|---:\n",
    "Native Python|2990|N/A\n",
    "Numpy|193|15.5X faster\n",
    "Pandas (Serialized)|61400|20.5X *slower*\n",
    "Pandas (Vectorized)|2570|1.2X faster\n",
    "Numba with Numpy Arrays|187|16.0X faster\n",
    "Numba with Vectorized Pandas|2190|1.4X faster\n",
    "Numexpr with Numpy Arrays|151|19.8X faster\n",
    "Numexpr with Vectorized Pandas|960|3.1X faster"
   ]
  },
  {
   "cell_type": "code",
   "execution_count": 24,
   "metadata": {
    "collapsed": true
   },
   "outputs": [],
   "source": [
    "timing_results['Vs Native Python'] = timing_results.loc['Native Python']['Best'] / timing_results['Best']"
   ]
  },
  {
   "cell_type": "code",
   "execution_count": 25,
   "metadata": {
    "collapsed": false
   },
   "outputs": [
    {
     "data": {
      "text/html": [
       "<div>\n",
       "<table border=\"1\" class=\"dataframe\">\n",
       "  <thead>\n",
       "    <tr style=\"text-align: right;\">\n",
       "      <th></th>\n",
       "      <th>Loops</th>\n",
       "      <th>Repeat</th>\n",
       "      <th>Best</th>\n",
       "      <th>Vs Native Python</th>\n",
       "    </tr>\n",
       "  </thead>\n",
       "  <tbody>\n",
       "    <tr>\n",
       "      <th>Numexpr with Numpy Arrays</th>\n",
       "      <td>1.0</td>\n",
       "      <td>5.0</td>\n",
       "      <td>0.039934</td>\n",
       "      <td>77.726683</td>\n",
       "    </tr>\n",
       "    <tr>\n",
       "      <th>Numexpr with Vectorized Pandas</th>\n",
       "      <td>1.0</td>\n",
       "      <td>5.0</td>\n",
       "      <td>0.046478</td>\n",
       "      <td>66.783515</td>\n",
       "    </tr>\n",
       "    <tr>\n",
       "      <th>Numba with Vectorized Pandas</th>\n",
       "      <td>1.0</td>\n",
       "      <td>5.0</td>\n",
       "      <td>0.182670</td>\n",
       "      <td>16.992103</td>\n",
       "    </tr>\n",
       "    <tr>\n",
       "      <th>Numba with Numpy Arrays</th>\n",
       "      <td>1.0</td>\n",
       "      <td>5.0</td>\n",
       "      <td>0.182699</td>\n",
       "      <td>16.989322</td>\n",
       "    </tr>\n",
       "    <tr>\n",
       "      <th>Pandas (Vectorized)</th>\n",
       "      <td>1.0</td>\n",
       "      <td>5.0</td>\n",
       "      <td>0.184662</td>\n",
       "      <td>16.808798</td>\n",
       "    </tr>\n",
       "    <tr>\n",
       "      <th>Numpy</th>\n",
       "      <td>1.0</td>\n",
       "      <td>5.0</td>\n",
       "      <td>0.186104</td>\n",
       "      <td>16.678508</td>\n",
       "    </tr>\n",
       "    <tr>\n",
       "      <th>Native Python</th>\n",
       "      <td>1.0</td>\n",
       "      <td>5.0</td>\n",
       "      <td>3.103940</td>\n",
       "      <td>1.000000</td>\n",
       "    </tr>\n",
       "    <tr>\n",
       "      <th>Pandas (Serialized)</th>\n",
       "      <td>1.0</td>\n",
       "      <td>5.0</td>\n",
       "      <td>52.202790</td>\n",
       "      <td>0.059459</td>\n",
       "    </tr>\n",
       "  </tbody>\n",
       "</table>\n",
       "</div>"
      ],
      "text/plain": [
       "                                Loops  Repeat       Best  Vs Native Python\n",
       "Numexpr with Numpy Arrays         1.0     5.0   0.039934         77.726683\n",
       "Numexpr with Vectorized Pandas    1.0     5.0   0.046478         66.783515\n",
       "Numba with Vectorized Pandas      1.0     5.0   0.182670         16.992103\n",
       "Numba with Numpy Arrays           1.0     5.0   0.182699         16.989322\n",
       "Pandas (Vectorized)               1.0     5.0   0.184662         16.808798\n",
       "Numpy                             1.0     5.0   0.186104         16.678508\n",
       "Native Python                     1.0     5.0   3.103940          1.000000\n",
       "Pandas (Serialized)               1.0     5.0  52.202790          0.059459"
      ]
     },
     "execution_count": 25,
     "metadata": {},
     "output_type": "execute_result"
    }
   ],
   "source": [
    "timing_results.sort_values('Best')"
   ]
  },
  {
   "cell_type": "markdown",
   "metadata": {},
   "source": [
    "Note: %timeit runs the function X number of loops and then repeats this for Y runs. It reports the average loop time (time for run / X) for the best of the Y runs. X is termed \"Loops\" and Y is termed \"Repeat\". \n",
    "Example: Loops = X = 1000 & Repeat = Y = 3. Best = 20ms. This would mean that it ran 3000 total loops (3 times of running 1000 loops) and the fastest of the 3 super cycles was 20,000 ms meaning the average time was 20ms."
   ]
  }
 ],
 "metadata": {
  "kernelspec": {
   "display_name": "Python [Py3.5]",
   "language": "python",
   "name": "Python [Py3.5]"
  },
  "language_info": {
   "codemirror_mode": {
    "name": "ipython",
    "version": 3
   },
   "file_extension": ".py",
   "mimetype": "text/x-python",
   "name": "python",
   "nbconvert_exporter": "python",
   "pygments_lexer": "ipython3",
   "version": "3.5.2"
  }
 },
 "nbformat": 4,
 "nbformat_minor": 0
}
