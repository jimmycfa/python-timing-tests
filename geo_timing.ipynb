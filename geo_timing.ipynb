{
 "cells": [
  {
   "cell_type": "code",
   "execution_count": 1,
   "metadata": {},
   "outputs": [
    {
     "name": "stdout",
     "output_type": "stream",
     "text": [
      "Requirement already satisfied: numexpr in /opt/anaconda3/lib/python3.7/site-packages (2.7.0)\r\n",
      "Requirement already satisfied: numpy>=1.7 in /opt/anaconda3/lib/python3.7/site-packages (from numexpr) (1.17.2)\r\n"
     ]
    }
   ],
   "source": [
    "!pip install numexpr"
   ]
  },
  {
   "cell_type": "code",
   "execution_count": 2,
   "metadata": {
    "ExecuteTime": {
     "end_time": "2016-10-10T15:12:10.279769",
     "start_time": "2016-10-10T15:12:06.325751"
    }
   },
   "outputs": [],
   "source": [
    "import sys\n",
    "import platform\n",
    "import os\n",
    "import random as rnd\n",
    "from math import sqrt, sin, cos, radians\n",
    "import numpy as np\n",
    "import pandas as pd\n",
    "from numba import jit\n",
    "import numba\n",
    "import numexpr as ne\n",
    "import matplotlib.pyplot as plt\n",
    "import seaborn"
   ]
  },
  {
   "cell_type": "code",
   "execution_count": 3,
   "metadata": {
    "ExecuteTime": {
     "end_time": "2016-10-10T15:12:10.326513",
     "start_time": "2016-10-10T15:12:10.282382"
    }
   },
   "outputs": [],
   "source": [
    "%matplotlib inline \n",
    "seaborn.set()"
   ]
  },
  {
   "cell_type": "markdown",
   "metadata": {},
   "source": [
    "# Software Versions and Machine Hardware"
   ]
  },
  {
   "cell_type": "code",
   "execution_count": 4,
   "metadata": {
    "ExecuteTime": {
     "end_time": "2016-10-10T15:12:10.368087",
     "start_time": "2016-10-10T15:12:10.329460"
    }
   },
   "outputs": [
    {
     "name": "stdout",
     "output_type": "stream",
     "text": [
      "Python: 3.7.4 (default, Aug 13 2019, 15:17:50) \n",
      "[Clang 4.0.1 (tags/RELEASE_401/final)]\n",
      "Numpy: 1.17.2\n",
      "Pandas: 0.25.1\n",
      "Numba: 0.45.1\n",
      "Numexpr: 2.7.0\n",
      "Intel(R) Math Kernel Library Version 2019.0.4 Product Build 20190411 for Intel(R) 64 architecture applications\n",
      "Processor: i386\n",
      "# of Cores: 4\n",
      "Machine: x86_64\n",
      "Architecture: ('64bit', '')\n"
     ]
    }
   ],
   "source": [
    "print(\"Python: {}\\nNumpy: {}\\nPandas: {}\\nNumba: {}\\nNumexpr: {}\\n{}\".format(sys.version,\n",
    "                                                                             np.__version__,\n",
    "                                                                             pd.__version__,\n",
    "                                                                             numba.__version__,\n",
    "                                                                             ne.__version__,\n",
    "                                                                             ne.get_vml_version()))\n",
    "print(\"Processor: {}\\n# of Cores: {}\\nMachine: {}\\nArchitecture: {}\".format(platform.processor(),\n",
    "                                                                            os.cpu_count(),\n",
    "                                                                            platform.machine(),\n",
    "                                                                            platform.architecture()))\n",
    "#Note:\n",
    "#Intel64 Family 6 Model 78 Stepping 3 = Intel(R) Core(TM) i5-6300U CPU @ 2.40GHz"
   ]
  },
  {
   "cell_type": "markdown",
   "metadata": {},
   "source": [
    "# Define Sample Data"
   ]
  },
  {
   "cell_type": "markdown",
   "metadata": {},
   "source": [
    "List of tuples where list is made of tuples and each tuple has 4 values defining the point."
   ]
  },
  {
   "cell_type": "code",
   "execution_count": 5,
   "metadata": {
    "ExecuteTime": {
     "end_time": "2016-10-10T15:12:14.299948",
     "start_time": "2016-10-10T15:12:10.371371"
    }
   },
   "outputs": [
    {
     "name": "stdout",
     "output_type": "stream",
     "text": [
      "<class 'list'> of <class 'tuple'> containing <class 'float'>, length: 10000.\n",
      "<class 'list'> of <class 'tuple'> containing <class 'float'>, length: 1000000.\n"
     ]
    }
   ],
   "source": [
    "points_10k = []\n",
    "points_1m = []\n",
    "size = (10000, 1000000)\n",
    "points_obj = (points_10k, points_1m)\n",
    "for s, var in ((size[0], points_obj[0]), (size[1], points_obj[1])):\n",
    "    for i in range(s):\n",
    "        var.append((rnd.uniform(-85,85),\n",
    "                       rnd.uniform(-175,175),\n",
    "                       rnd.uniform(-50,12000), \n",
    "                       rnd.uniform(-50,50)))\n",
    "    print ('{} of {} containing {}, length: {}.'.format(type(var),type(var[0]),type(var[0][0]),len(var)))"
   ]
  },
  {
   "cell_type": "markdown",
   "metadata": {},
   "source": [
    "Numpy arrays..."
   ]
  },
  {
   "cell_type": "code",
   "execution_count": 6,
   "metadata": {
    "ExecuteTime": {
     "end_time": "2016-10-10T15:12:14.314229",
     "start_time": "2016-10-10T15:12:14.302332"
    }
   },
   "outputs": [
    {
     "name": "stdout",
     "output_type": "stream",
     "text": [
      "<class 'numpy.ndarray'>, shape: (10000, 4).\n",
      "<class 'numpy.ndarray'>, shape: (1000000, 4).\n"
     ]
    }
   ],
   "source": [
    "#instead of using np.random.uniform to define these arrays, converting the points list\n",
    "#so the same values are used for all methods\n",
    "points_10k_np = np.empty([size[0],4], dtype=np.double)\n",
    "points_1m_np = np.empty([size[1],4], dtype=np.double)\n",
    "points_obj_np = (points_10k_np, points_1m_np)\n",
    "\n",
    "for i, var in enumerate(points_obj_np):\n",
    "    for i, point in enumerate(points_obj[i]):\n",
    "        var[i,:] = [point[0], point[1], point[2], point[3]]\n",
    "    print ('{}, shape: {}.'.format(type(var),var.shape))"
   ]
  },
  {
   "cell_type": "markdown",
   "metadata": {},
   "source": [
    "Pandas DataFrame of the points."
   ]
  },
  {
   "cell_type": "code",
   "execution_count": 8,
   "metadata": {
    "ExecuteTime": {
     "end_time": "2016-10-10T15:12:15.066702",
     "start_time": "2016-10-10T15:12:14.317145"
    }
   },
   "outputs": [
    {
     "name": "stdout",
     "output_type": "stream",
     "text": [
      "<class 'pandas.core.frame.DataFrame'> containing <class 'numpy.float64'>, length: 10000.\n",
      "<class 'pandas.core.frame.DataFrame'> containing <class 'numpy.float64'>, length: 1000000.\n"
     ]
    }
   ],
   "source": [
    "points_10k_df = pd.DataFrame(points_10k, columns=['Lat','Long','Alt','Geoid'])\n",
    "points_1m_df = pd.DataFrame(points_1m, columns=['Lat','Long','Alt','Geoid'])\n",
    "points_obj_df = (points_10k_df, points_1m_df)\n",
    "for var in points_obj_df:\n",
    "    print ('{} containing {}, length: {}.'.format(type(var),\n",
    "                                                  type(var.iloc[0,0]),\n",
    "                                                  len(var)))"
   ]
  },
  {
   "cell_type": "code",
   "execution_count": 9,
   "metadata": {
    "ExecuteTime": {
     "end_time": "2016-10-10T15:12:15.080647",
     "start_time": "2016-10-10T15:12:15.068844"
    }
   },
   "outputs": [],
   "source": [
    "timing_results = pd.DataFrame()\n",
    "\n",
    "def timing_results_filler (r, return_size=3):\n",
    "    #TODO: remove return_size\n",
    "    returner = {}\n",
    "    #Loops,Repeat,Best\n",
    "    returner['Loops'] = r.loops\n",
    "    returner['Repeat'] = r.repeat\n",
    "    returner['Time (sec)'] = r.best\n",
    "    return returner"
   ]
  },
  {
   "cell_type": "markdown",
   "metadata": {},
   "source": [
    "# Constants"
   ]
  },
  {
   "cell_type": "code",
   "execution_count": 10,
   "metadata": {
    "ExecuteTime": {
     "end_time": "2016-10-10T15:12:15.089863",
     "start_time": "2016-10-10T15:12:15.083194"
    }
   },
   "outputs": [],
   "source": [
    "a = 6378137  # Semi-major axis \n",
    "b = 6356752.3142  # Semi-minor axis\n",
    "f = (a - b) / a  # flattening\n",
    "e = 0.081819191 # eccentricity\n",
    "ee = e*e\n",
    "LOOPS = 50\n",
    "REPEAT = 5"
   ]
  },
  {
   "cell_type": "markdown",
   "metadata": {},
   "source": [
    "# Native Python Lists"
   ]
  },
  {
   "cell_type": "code",
   "execution_count": 11,
   "metadata": {
    "ExecuteTime": {
     "end_time": "2016-10-10T15:28:16.608365",
     "start_time": "2016-10-10T15:28:16.566580"
    }
   },
   "outputs": [
    {
     "data": {
      "text/plain": [
       "(-2856867.422762463, -4132876.8004144537, -3916387.577890978)"
      ]
     },
     "execution_count": 11,
     "metadata": {},
     "output_type": "execute_result"
    }
   ],
   "source": [
    "def LLAtoXYZ_raw (latitude, longitude, altitude, geoidSepIn = 0):\n",
    "    # LLAtoXYZ converts a position (latitude, longitude, altitude) to the ECEF X, Y, Z format.\n",
    "    # The function expects Lat and Long in degrees and Alt in meters and outputs X, Y, Z in meters. \n",
    "    # geoidSepIn is the height of the geoid above the WGS84 ellipsoid. It is optional and assumed \n",
    "    # to be 0 if not provided (meaning geoid-to-ellipsoid differences are ignored)\n",
    "    \n",
    "    latitude_rad = radians(latitude)\n",
    "    longitude_rad = radians(longitude)\n",
    "    height = altitude - geoidSepIn\n",
    "    cos_lat = cos(latitude_rad)\n",
    "     \n",
    "    r = a / sqrt(1 - ee * sin(latitude_rad) * sin(latitude_rad))\n",
    "    x = (r + height) * cos_lat * cos(longitude_rad)\n",
    "    y = (r + height) * cos_lat * sin(longitude_rad)\n",
    "    z = ((1 - ee) * r + height) * sin(latitude_rad)\n",
    "        \n",
    "    return x,y,z\n",
    "LLAtoXYZ_raw(-38.123456,-124.65432,230,-20)\n",
    "#X= -2856867.422762463\n",
    "#Y= -4132876.8004144537\n",
    "#Z= -3916387.577890978"
   ]
  },
  {
   "cell_type": "code",
   "execution_count": 12,
   "metadata": {
    "ExecuteTime": {
     "start_time": "2016-10-10T19:28:18.504Z"
    }
   },
   "outputs": [
    {
     "name": "stdout",
     "output_type": "stream",
     "text": [
      "14.8 ms ± 1.46 ms per loop (mean ± std. dev. of 7 runs, 100 loops each)\n",
      "1.44 s ± 113 ms per loop (mean ± std. dev. of 7 runs, 1 loop each)\n"
     ]
    }
   ],
   "source": [
    "test_config_name = 'Native Python'\n",
    "for points in points_obj:\n",
    "    results = []\n",
    "    r = %timeit -o for p in points: results.append(LLAtoXYZ_raw(p[0],p[1],p[2],p[3]))\n",
    "    row = timing_results_filler(r)\n",
    "    row['Name'] = test_config_name\n",
    "    row['Num of Points'] = len(points)\n",
    "    timing_results = timing_results.append(pd.Series(row),ignore_index=True)"
   ]
  },
  {
   "cell_type": "markdown",
   "metadata": {},
   "source": [
    "# Numpy Arrays"
   ]
  },
  {
   "cell_type": "code",
   "execution_count": 13,
   "metadata": {
    "ExecuteTime": {
     "end_time": "2016-10-10T15:28:10.199331",
     "start_time": "2016-10-10T19:12:06.364Z"
    }
   },
   "outputs": [],
   "source": [
    "#import numpy functions directly\n",
    "from numpy import sqrt, sin, cos, radians"
   ]
  },
  {
   "cell_type": "code",
   "execution_count": 14,
   "metadata": {
    "ExecuteTime": {
     "end_time": "2016-10-10T15:28:10.200385",
     "start_time": "2016-10-10T19:12:06.369Z"
    }
   },
   "outputs": [
    {
     "data": {
      "text/plain": [
       "(-2856867.422762463, -4132876.8004144537, -3916387.577890978)"
      ]
     },
     "execution_count": 14,
     "metadata": {},
     "output_type": "execute_result"
    }
   ],
   "source": [
    "def LLAtoXYZ_numpy (latitude, longitude, altitude, geoidSepIn = 0, return_array = False):\n",
    "    # LLAtoXYZ converts a position (latitude, longitude, altitude) to the ECEF X, Y, Z format.\n",
    "    # The function expects Lat and Long in degrees and Alt in meters and outputs X, Y, Z in meters. \n",
    "    # geoidSepIn is the height of the geoid above the WGS84 ellipsoid. It is optional and assumed \n",
    "    # to be 0 if not provided (meaning geoid-to-ellipsoid differences are ignored)\n",
    "    \n",
    "    latitude_rad = radians(latitude)\n",
    "    longitude_rad = radians(longitude)\n",
    "    height = altitude - geoidSepIn\n",
    "    cos_lat = cos(latitude_rad)\n",
    "     \n",
    "    r = a / sqrt(1 - ee * sin(latitude_rad) * sin(latitude_rad))\n",
    "    x = (r + height) * cos_lat * cos(longitude_rad)\n",
    "    y = (r + height) * cos_lat * sin(longitude_rad)\n",
    "    z = ((1 - ee) * r + height) * sin(latitude_rad)\n",
    "    \n",
    "    if return_array:\n",
    "        return np.array([x,y,z])\n",
    "    else:\n",
    "        return x,y,z\n",
    "    \n",
    "LLAtoXYZ_numpy(-38.123456,-124.65432,230,-20)\n",
    "#X= -2856867.422762463\n",
    "#Y= -4132876.8004144537\n",
    "#Z= -3916387.577890978"
   ]
  },
  {
   "cell_type": "code",
   "execution_count": 15,
   "metadata": {
    "ExecuteTime": {
     "end_time": "2016-10-10T15:28:10.202164",
     "start_time": "2016-10-10T19:12:06.374Z"
    }
   },
   "outputs": [
    {
     "name": "stdout",
     "output_type": "stream",
     "text": [
      "557 µs ± 171 µs per loop (mean ± std. dev. of 5 runs, 50 loops each)\n",
      "66.4 ms ± 6.12 ms per loop (mean ± std. dev. of 5 runs, 50 loops each)\n"
     ]
    }
   ],
   "source": [
    "test_config_name = 'Numpy (Native)'\n",
    "for points in points_obj_np:\n",
    "    r = %timeit -n 50 -r 5 -o results = LLAtoXYZ_numpy(points[:,0],points[:,1],points[:,2],points[:,3],True)\n",
    "    row = timing_results_filler(r)\n",
    "    row['Name'] = test_config_name\n",
    "    row['Num of Points'] = points.shape[0]\n",
    "    timing_results = timing_results.append(pd.Series(row),ignore_index=True)"
   ]
  },
  {
   "cell_type": "markdown",
   "metadata": {},
   "source": [
    "# Pandas (Serialized)\n",
    "added to show how slow pandas can be if not vectorized"
   ]
  },
  {
   "cell_type": "code",
   "execution_count": 16,
   "metadata": {
    "ExecuteTime": {
     "end_time": "2016-10-10T15:28:10.202544",
     "start_time": "2016-10-10T19:12:06.378Z"
    }
   },
   "outputs": [],
   "source": [
    "# r = %timeit -n 5 -r 5 -o points_df['X'],points_df['Y'],points_df['Z'] = \\ \n",
    "#                           zip(*points_df.apply(lambda row: LLAtoXYZ_raw(row[0], \\\n",
    "#                                                                         row[1], \\\n",
    "#                                                                         row[2], \\\n",
    "#                                                                         row[3]), \\\n",
    "#                                                                         axis=1))\n",
    "# timing_results.loc['Pandas (Serialized)'] = timing_results_filler(r)"
   ]
  },
  {
   "cell_type": "markdown",
   "metadata": {},
   "source": [
    "# Pandas (Vectorized)"
   ]
  },
  {
   "cell_type": "code",
   "execution_count": 17,
   "metadata": {
    "ExecuteTime": {
     "end_time": "2016-10-10T15:28:10.203036",
     "start_time": "2016-10-10T19:12:06.381Z"
    }
   },
   "outputs": [
    {
     "name": "stdout",
     "output_type": "stream",
     "text": [
      "4.2 ms ± 902 µs per loop (mean ± std. dev. of 5 runs, 50 loops each)\n",
      "77.1 ms ± 1.51 ms per loop (mean ± std. dev. of 5 runs, 50 loops each)\n"
     ]
    }
   ],
   "source": [
    "test_config_name = 'Pandas (Native)'\n",
    "for points_df in points_obj_df:\n",
    "    r = %timeit -n 50 -r 5 -o points_df['X'],points_df['Y'],points_df['Z'] = LLAtoXYZ_numpy(points_df['Lat'], \\\n",
    "                                                                                            points_df['Long'], \\\n",
    "                                                                                            points_df['Alt'], \\\n",
    "                                                                                            points_df['Geoid'],False)\n",
    "    row = timing_results_filler(r)\n",
    "    row['Name'] = test_config_name\n",
    "    row['Num of Points'] = len(points_df)\n",
    "    timing_results = timing_results.append(pd.Series(row),ignore_index=True)"
   ]
  },
  {
   "cell_type": "markdown",
   "metadata": {},
   "source": [
    "# Numba"
   ]
  },
  {
   "cell_type": "code",
   "execution_count": 18,
   "metadata": {
    "ExecuteTime": {
     "end_time": "2016-10-10T15:28:10.203347",
     "start_time": "2016-10-10T19:12:06.387Z"
    }
   },
   "outputs": [
    {
     "name": "stderr",
     "output_type": "stream",
     "text": [
      "<ipython-input-18-07a83d46d1da>:1: NumbaWarning: \u001b[1m\n",
      "Compilation is falling back to object mode WITH looplifting enabled because Function \"LLAtoXYZ_jit\" failed type inference due to: \u001b[1mCan't unify return type from the following types: array(float64, 1d, C), tuple(float64 x 3)\n",
      "\u001b[1mReturn of: IR name '$134.8', type 'array(float64, 1d, C)', location: \u001b[1m\n",
      "File \"<ipython-input-18-07a83d46d1da>\", line 19:\u001b[0m\n",
      "\u001b[1mdef LLAtoXYZ_jit (latitude, longitude, altitude, geoidSepIn = 0, return_array = False):\n",
      "    <source elided>\n",
      "    if return_array:\n",
      "\u001b[1m        return np.array([x,y,z])\n",
      "\u001b[0m        \u001b[1m^\u001b[0m\u001b[0m\u001b[0m\n",
      "\u001b[1mReturn of: IR name '$150.5', type 'tuple(float64 x 3)', location: \u001b[1m\n",
      "File \"<ipython-input-18-07a83d46d1da>\", line 21:\u001b[0m\n",
      "\u001b[1mdef LLAtoXYZ_jit (latitude, longitude, altitude, geoidSepIn = 0, return_array = False):\n",
      "    <source elided>\n",
      "    else:\n",
      "\u001b[1m        return x,y,z\n",
      "\u001b[0m        \u001b[1m^\u001b[0m\u001b[0m\u001b[0m\u001b[0m\u001b[0m\n",
      "  @jit\n",
      "/opt/anaconda3/lib/python3.7/site-packages/numba/compiler.py:742: NumbaWarning: \u001b[1mFunction \"LLAtoXYZ_jit\" was compiled in object mode without forceobj=True.\n",
      "\u001b[1m\n",
      "File \"<ipython-input-18-07a83d46d1da>\", line 2:\u001b[0m\n",
      "\u001b[1m@jit\n",
      "\u001b[1mdef LLAtoXYZ_jit (latitude, longitude, altitude, geoidSepIn = 0, return_array = False):\n",
      "\u001b[0m\u001b[1m^\u001b[0m\u001b[0m\n",
      "\u001b[0m\n",
      "  self.func_ir.loc))\n",
      "/opt/anaconda3/lib/python3.7/site-packages/numba/compiler.py:751: NumbaDeprecationWarning: \u001b[1m\n",
      "Fall-back from the nopython compilation path to the object mode compilation path has been detected, this is deprecated behaviour.\n",
      "\n",
      "For more information visit http://numba.pydata.org/numba-doc/latest/reference/deprecation.html#deprecation-of-object-mode-fall-back-behaviour-when-using-jit\n",
      "\u001b[1m\n",
      "File \"<ipython-input-18-07a83d46d1da>\", line 2:\u001b[0m\n",
      "\u001b[1m@jit\n",
      "\u001b[1mdef LLAtoXYZ_jit (latitude, longitude, altitude, geoidSepIn = 0, return_array = False):\n",
      "\u001b[0m\u001b[1m^\u001b[0m\u001b[0m\n",
      "\u001b[0m\n",
      "  warnings.warn(errors.NumbaDeprecationWarning(msg, self.func_ir.loc))\n"
     ]
    },
    {
     "data": {
      "text/plain": [
       "(-2856867.422762463, -4132876.8004144537, -3916387.577890978)"
      ]
     },
     "execution_count": 18,
     "metadata": {},
     "output_type": "execute_result"
    }
   ],
   "source": [
    "@jit\n",
    "def LLAtoXYZ_jit (latitude, longitude, altitude, geoidSepIn = 0, return_array = False):\n",
    "    # LLAtoXYZ converts a position (latitude, longitude, altitude) to the ECEF X, Y, Z format.\n",
    "    # The function expects Lat and Long in degrees and Alt in meters and outputs X, Y, Z in meters. \n",
    "    # geoidSepIn is the height of the geoid above the WGS84 ellipsoid. It is optional and assumed \n",
    "    # to be 0 if not provided (meaning geoid-to-ellipsoid differences are ignored)\n",
    "    \n",
    "    latitude_rad = radians(latitude)\n",
    "    longitude_rad = radians(longitude)\n",
    "    height = altitude - geoidSepIn\n",
    "    cos_lat = cos(latitude_rad)\n",
    "     \n",
    "    r = a / np.sqrt(1 - ee * sin(latitude_rad) * sin(latitude_rad))\n",
    "    x = (r + height) * cos_lat * cos(longitude_rad)\n",
    "    y = (r + height) * cos_lat * sin(longitude_rad)\n",
    "    z = ((1 - ee) * r + height) * sin(latitude_rad)\n",
    "    \n",
    "    if return_array:\n",
    "        return np.array([x,y,z])\n",
    "    else:\n",
    "        return x,y,z\n",
    "    \n",
    "LLAtoXYZ_jit(-38.123456,-124.65432,230,-20)\n",
    "#X= -2856867.422762463\n",
    "#Y= -4132876.8004144537\n",
    "#Z= -3916387.577890978"
   ]
  },
  {
   "cell_type": "code",
   "execution_count": 19,
   "metadata": {
    "ExecuteTime": {
     "end_time": "2016-10-10T15:28:10.203618",
     "start_time": "2016-10-10T19:12:06.390Z"
    }
   },
   "outputs": [
    {
     "name": "stderr",
     "output_type": "stream",
     "text": [
      "<ipython-input-18-07a83d46d1da>:1: NumbaWarning: \u001b[1m\n",
      "Compilation is falling back to object mode WITH looplifting enabled because Function \"LLAtoXYZ_jit\" failed type inference due to: \u001b[1m\u001b[1m\u001b[1mInvalid use of Function(<built-in function array>) with argument(s) of type(s): (list(array(float64, 1d, C)))\n",
      " * parameterized\n",
      "\u001b[1mIn definition 0:\u001b[0m\n",
      "\u001b[1m    TypingError: \u001b[1marray(float64, 1d, C) not allowed in a homogeneous sequence\u001b[0m\u001b[0m\n",
      "    raised from /opt/anaconda3/lib/python3.7/site-packages/numba/typing/npydecl.py:460\n",
      "\u001b[1mIn definition 1:\u001b[0m\n",
      "\u001b[1m    TypingError: \u001b[1marray(float64, 1d, C) not allowed in a homogeneous sequence\u001b[0m\u001b[0m\n",
      "    raised from /opt/anaconda3/lib/python3.7/site-packages/numba/typing/npydecl.py:460\n",
      "\u001b[1mThis error is usually caused by passing an argument of a type that is unsupported by the named function.\u001b[0m\u001b[0m\n",
      "\u001b[0m\u001b[1m[1] During: resolving callee type: Function(<built-in function array>)\u001b[0m\n",
      "\u001b[0m\u001b[1m[2] During: typing of call at <ipython-input-18-07a83d46d1da> (19)\n",
      "\u001b[0m\n",
      "\u001b[1m\n",
      "File \"<ipython-input-18-07a83d46d1da>\", line 19:\u001b[0m\n",
      "\u001b[1mdef LLAtoXYZ_jit (latitude, longitude, altitude, geoidSepIn = 0, return_array = False):\n",
      "    <source elided>\n",
      "    if return_array:\n",
      "\u001b[1m        return np.array([x,y,z])\n",
      "\u001b[0m        \u001b[1m^\u001b[0m\u001b[0m\n",
      "\u001b[0m\n",
      "  @jit\n",
      "/opt/anaconda3/lib/python3.7/site-packages/numba/compiler.py:742: NumbaWarning: \u001b[1mFunction \"LLAtoXYZ_jit\" was compiled in object mode without forceobj=True.\n",
      "\u001b[1m\n",
      "File \"<ipython-input-18-07a83d46d1da>\", line 2:\u001b[0m\n",
      "\u001b[1m@jit\n",
      "\u001b[1mdef LLAtoXYZ_jit (latitude, longitude, altitude, geoidSepIn = 0, return_array = False):\n",
      "\u001b[0m\u001b[1m^\u001b[0m\u001b[0m\n",
      "\u001b[0m\n",
      "  self.func_ir.loc))\n",
      "/opt/anaconda3/lib/python3.7/site-packages/numba/compiler.py:751: NumbaDeprecationWarning: \u001b[1m\n",
      "Fall-back from the nopython compilation path to the object mode compilation path has been detected, this is deprecated behaviour.\n",
      "\n",
      "For more information visit http://numba.pydata.org/numba-doc/latest/reference/deprecation.html#deprecation-of-object-mode-fall-back-behaviour-when-using-jit\n",
      "\u001b[1m\n",
      "File \"<ipython-input-18-07a83d46d1da>\", line 2:\u001b[0m\n",
      "\u001b[1m@jit\n",
      "\u001b[1mdef LLAtoXYZ_jit (latitude, longitude, altitude, geoidSepIn = 0, return_array = False):\n",
      "\u001b[0m\u001b[1m^\u001b[0m\u001b[0m\n",
      "\u001b[0m\n",
      "  warnings.warn(errors.NumbaDeprecationWarning(msg, self.func_ir.loc))\n"
     ]
    },
    {
     "name": "stdout",
     "output_type": "stream",
     "text": [
      "The slowest run took 20.89 times longer than the fastest. This could mean that an intermediate result is being cached.\n",
      "2.2 ms ± 3.33 ms per loop (mean ± std. dev. of 5 runs, 50 loops each)\n",
      "86.2 ms ± 11.8 ms per loop (mean ± std. dev. of 5 runs, 50 loops each)\n"
     ]
    }
   ],
   "source": [
    "test_config_name = 'Numba (with Numpy Arrays)'\n",
    "for points in points_obj_np:\n",
    "    r = %timeit -n 50 -r 5 -o results = LLAtoXYZ_jit(points[:,0],points[:,1],points[:,2],points[:,3],True)\n",
    "    row = timing_results_filler(r)\n",
    "    row['Name'] = test_config_name\n",
    "    row['Num of Points'] = points.shape[0]\n",
    "    timing_results = timing_results.append(pd.Series(row),ignore_index=True)"
   ]
  },
  {
   "cell_type": "code",
   "execution_count": 20,
   "metadata": {
    "ExecuteTime": {
     "end_time": "2016-10-10T15:28:10.204080",
     "start_time": "2016-10-10T19:12:06.394Z"
    }
   },
   "outputs": [
    {
     "name": "stderr",
     "output_type": "stream",
     "text": [
      "<ipython-input-18-07a83d46d1da>:1: NumbaWarning: \u001b[1m\n",
      "Compilation is falling back to object mode WITH looplifting enabled because Function \"LLAtoXYZ_jit\" failed type inference due to: \u001b[1m\u001b[1mnon-precise type pyobject\u001b[0m\n",
      "\u001b[0m\u001b[1m[1] During: typing of argument at <ipython-input-18-07a83d46d1da> (8)\u001b[0m\n",
      "\u001b[1m\n",
      "File \"<ipython-input-18-07a83d46d1da>\", line 8:\u001b[0m\n",
      "\u001b[1mdef LLAtoXYZ_jit (latitude, longitude, altitude, geoidSepIn = 0, return_array = False):\n",
      "    <source elided>\n",
      "    \n",
      "\u001b[1m    latitude_rad = radians(latitude)\n",
      "\u001b[0m    \u001b[1m^\u001b[0m\u001b[0m\n",
      "\u001b[0m\n",
      "  @jit\n",
      "/opt/anaconda3/lib/python3.7/site-packages/numba/compiler.py:742: NumbaWarning: \u001b[1mFunction \"LLAtoXYZ_jit\" was compiled in object mode without forceobj=True.\n",
      "\u001b[1m\n",
      "File \"<ipython-input-18-07a83d46d1da>\", line 2:\u001b[0m\n",
      "\u001b[1m@jit\n",
      "\u001b[1mdef LLAtoXYZ_jit (latitude, longitude, altitude, geoidSepIn = 0, return_array = False):\n",
      "\u001b[0m\u001b[1m^\u001b[0m\u001b[0m\n",
      "\u001b[0m\n",
      "  self.func_ir.loc))\n",
      "/opt/anaconda3/lib/python3.7/site-packages/numba/compiler.py:751: NumbaDeprecationWarning: \u001b[1m\n",
      "Fall-back from the nopython compilation path to the object mode compilation path has been detected, this is deprecated behaviour.\n",
      "\n",
      "For more information visit http://numba.pydata.org/numba-doc/latest/reference/deprecation.html#deprecation-of-object-mode-fall-back-behaviour-when-using-jit\n",
      "\u001b[1m\n",
      "File \"<ipython-input-18-07a83d46d1da>\", line 2:\u001b[0m\n",
      "\u001b[1m@jit\n",
      "\u001b[1mdef LLAtoXYZ_jit (latitude, longitude, altitude, geoidSepIn = 0, return_array = False):\n",
      "\u001b[0m\u001b[1m^\u001b[0m\u001b[0m\n",
      "\u001b[0m\n",
      "  warnings.warn(errors.NumbaDeprecationWarning(msg, self.func_ir.loc))\n"
     ]
    },
    {
     "name": "stdout",
     "output_type": "stream",
     "text": [
      "6.91 ms ± 3.71 ms per loop (mean ± std. dev. of 5 runs, 50 loops each)\n",
      "100 ms ± 22.4 ms per loop (mean ± std. dev. of 5 runs, 50 loops each)\n"
     ]
    }
   ],
   "source": [
    "test_config_name = 'Numba (with Pandas)'\n",
    "for points_df in points_obj_df:\n",
    "    r = %timeit -n 50 -r 5 -o points_df['X'],points_df['Y'],points_df['Z'] = LLAtoXYZ_jit(points_df['Lat'], \\\n",
    "                                                                                          points_df['Long'], \\\n",
    "                                                                                          points_df['Alt'], \\\n",
    "                                                                                          points_df['Geoid'],False)\n",
    "    row = timing_results_filler(r)\n",
    "    row['Name'] = test_config_name\n",
    "    row['Num of Points'] = len(points_df)\n",
    "    timing_results = timing_results.append(pd.Series(row),ignore_index=True)"
   ]
  },
  {
   "cell_type": "markdown",
   "metadata": {},
   "source": [
    "# Numexpr"
   ]
  },
  {
   "cell_type": "code",
   "execution_count": 21,
   "metadata": {
    "ExecuteTime": {
     "end_time": "2016-10-10T15:28:10.213655",
     "start_time": "2016-10-10T19:12:06.397Z"
    }
   },
   "outputs": [
    {
     "data": {
      "text/plain": [
       "(array(-2856867.42276246), array(-4132876.80041445), array(-3916387.57789098))"
      ]
     },
     "execution_count": 21,
     "metadata": {},
     "output_type": "execute_result"
    }
   ],
   "source": [
    "def LLAtoXYZ_ne (latitude, longitude, altitude, geoidSepIn = 0, return_array = False):\n",
    "    # LLAtoXYZ converts a position (latitude, longitude, altitude) to the ECEF X, Y, Z format.\n",
    "    # The function expects Lat and Long in degrees and Alt in meters and outputs X, Y, Z in meters. \n",
    "    # geoidSepIn is the height of the geoid above the WGS84 ellipsoid. It is optional and assumed \n",
    "    # to be 0 if not provided (meaning geoid-to-ellipsoid differences are ignored)\n",
    "    \n",
    "    latitude_rad = radians(latitude)\n",
    "    longitude_rad = radians(longitude)\n",
    "    height = altitude - geoidSepIn\n",
    "     \n",
    "    r = ne.evaluate(\"a / sqrt(1 - ee * sin(latitude_rad)**2)\")\n",
    "    x = ne.evaluate(\"(r + height) * cos(latitude_rad) * cos(longitude_rad)\")\n",
    "    y = ne.evaluate(\"(r + height) * cos(latitude_rad) * sin(longitude_rad)\")\n",
    "    z = ne.evaluate(\"((1 - ee) * r + height) * sin(latitude_rad)\")\n",
    "    \n",
    "    if return_array:\n",
    "        return np.array([x,y,z])\n",
    "    else:\n",
    "        return x,y,z\n",
    "    \n",
    "LLAtoXYZ_ne(-38.123456,-124.65432,230,-20)\n",
    "#X= -2856867.422762463\n",
    "#Y= -4132876.8004144537\n",
    "#Z= -3916387.577890978"
   ]
  },
  {
   "cell_type": "code",
   "execution_count": 22,
   "metadata": {
    "ExecuteTime": {
     "end_time": "2016-10-10T15:28:10.214670",
     "start_time": "2016-10-10T19:12:06.401Z"
    }
   },
   "outputs": [
    {
     "name": "stdout",
     "output_type": "stream",
     "text": [
      "934 µs ± 200 µs per loop (mean ± std. dev. of 5 runs, 50 loops each)\n",
      "44.3 ms ± 1.17 ms per loop (mean ± std. dev. of 5 runs, 50 loops each)\n"
     ]
    }
   ],
   "source": [
    "test_config_name = 'Numexpr (with Numpy Arrays)'\n",
    "for points in points_obj_np:\n",
    "    r = %timeit -n 50 -r 5 -o results = LLAtoXYZ_ne(points[:,0],points[:,0],points[:,0],points[:,0],True)\n",
    "    row = timing_results_filler(r)\n",
    "    row['Name'] = test_config_name\n",
    "    row['Num of Points'] = points.shape[0]\n",
    "    timing_results = timing_results.append(pd.Series(row),ignore_index=True)"
   ]
  },
  {
   "cell_type": "code",
   "execution_count": 23,
   "metadata": {
    "ExecuteTime": {
     "end_time": "2016-10-10T15:28:10.216565",
     "start_time": "2016-10-10T19:12:06.405Z"
    }
   },
   "outputs": [
    {
     "name": "stdout",
     "output_type": "stream",
     "text": [
      "2.76 ms ± 799 µs per loop (mean ± std. dev. of 5 runs, 50 loops each)\n",
      "55.8 ms ± 7.98 ms per loop (mean ± std. dev. of 5 runs, 50 loops each)\n"
     ]
    }
   ],
   "source": [
    "test_config_name = 'Numexpr (with Pandas)'\n",
    "for points_df in points_obj_df:\n",
    "    r = %timeit -n 50 -r 5 -o points_df['X'],points_df['Y'],points_df['Z'] = LLAtoXYZ_ne(points_df['Lat'], \\\n",
    "                                                                                         points_df['Long'], \\\n",
    "                                                                                         points_df['Alt'], \\\n",
    "                                                                                         points_df['Geoid'],False)\n",
    "    row = timing_results_filler(r)\n",
    "    row['Name'] = test_config_name\n",
    "    row['Num of Points'] = len(points_df)\n",
    "    timing_results = timing_results.append(pd.Series(row),ignore_index=True)"
   ]
  },
  {
   "cell_type": "markdown",
   "metadata": {},
   "source": [
    "# Cython"
   ]
  },
  {
   "cell_type": "code",
   "execution_count": 24,
   "metadata": {
    "ExecuteTime": {
     "end_time": "2016-10-10T15:28:10.217095",
     "start_time": "2016-10-10T19:12:06.408Z"
    }
   },
   "outputs": [],
   "source": [
    "%load_ext Cython"
   ]
  },
  {
   "cell_type": "code",
   "execution_count": 25,
   "metadata": {
    "ExecuteTime": {
     "end_time": "2016-10-10T15:28:10.217407",
     "start_time": "2016-10-10T19:12:06.417Z"
    }
   },
   "outputs": [],
   "source": [
    "%%cython\n",
    "from cython cimport boundscheck, wraparound\n",
    "from libc.math cimport sin, cos, sqrt, M_PI\n",
    "import numpy as np\n",
    "cimport numpy as cnp\n",
    "\n",
    "cdef double a = 6378137       # Semi-major axis \n",
    "cdef double b = 6356752.3142  # Semi-minor axis\n",
    "cdef double f = (a - b) / a   # flattening\n",
    "cdef double e = 0.081819191\n",
    "cdef double ecc = e*e\n",
    "cdef double radians = M_PI/180.0\n",
    "\n",
    "@boundscheck(False)\n",
    "@wraparound(False)\n",
    "def LLAtoXYZ_cy(double[:] latitude, \n",
    "                double[:] longitude, \n",
    "                double[:] altitude, \n",
    "                double[:] geoidSepIn):\n",
    "    cdef int i\n",
    "    cdef int l = len(latitude)\n",
    "    \n",
    "    cdef double[:] x = np.empty(l, dtype=np.double)\n",
    "    cdef double[:] y = np.empty(l, dtype=np.double)\n",
    "    cdef double[:] z = np.empty(l, dtype=np.double)\n",
    "    \n",
    "    cdef double latitude_rad\n",
    "    cdef double longitude_rad\n",
    "    cdef double height\n",
    "    cdef double s_lat\n",
    "    cdef double c_lat\n",
    "    cdef double r\n",
    "    \n",
    "    for i in range(l):\n",
    "        latitude_rad = radians*latitude[i]\n",
    "        longitude_rad = radians*longitude[i]\n",
    "        height = altitude[i] - geoidSepIn[i]\n",
    "        s_lat  = sin(latitude_rad)\n",
    "        c_lat  = cos(latitude_rad)\n",
    "         \n",
    "        r = a / sqrt(1 - ecc * s_lat * s_lat)\n",
    "        x[i] = (r + height) * c_lat * cos(longitude_rad)\n",
    "        y[i] = (r + height) * c_lat * sin(longitude_rad)\n",
    "        z[i] = ((1-ecc) * r + height) * s_lat\n",
    "        \n",
    "    return x,y,z"
   ]
  },
  {
   "cell_type": "code",
   "execution_count": 26,
   "metadata": {
    "ExecuteTime": {
     "end_time": "2016-10-10T15:28:10.217921",
     "start_time": "2016-10-10T19:12:06.421Z"
    }
   },
   "outputs": [
    {
     "name": "stdout",
     "output_type": "stream",
     "text": [
      "-2856867.422762463 -4132876.8004144537 -3916387.577890978\n"
     ]
    }
   ],
   "source": [
    "results_c = LLAtoXYZ_cy(np.array([-38.123456], dtype=np.double),\n",
    "                     np.array([-124.65432], dtype=np.double),\n",
    "                     np.array([230], dtype=np.double),\n",
    "                       np.array([-20], dtype=np.double))\n",
    "print (results_c[0][0], results_c[1][0], results_c[2][0])\n",
    "#X= -2856867.422762463\n",
    "#Y= -4132876.8004144537\n",
    "#Z= -3916387.577890978)"
   ]
  },
  {
   "cell_type": "code",
   "execution_count": 27,
   "metadata": {
    "ExecuteTime": {
     "end_time": "2016-10-10T15:28:10.218412",
     "start_time": "2016-10-10T19:12:06.423Z"
    }
   },
   "outputs": [
    {
     "name": "stdout",
     "output_type": "stream",
     "text": [
      "681 µs ± 141 µs per loop (mean ± std. dev. of 5 runs, 50 loops each)\n",
      "59 ms ± 1.53 ms per loop (mean ± std. dev. of 5 runs, 50 loops each)\n"
     ]
    }
   ],
   "source": [
    "test_config_name = 'Cython (with Numpy Arrays)'\n",
    "for points in points_obj_np:\n",
    "    r = %timeit -n 50 -r 5 -o results=LLAtoXYZ_cy(points[:,0],points[:,1],points[:,2],points[:,3])\n",
    "    row = timing_results_filler(r)\n",
    "    row['Name'] = test_config_name\n",
    "    row['Num of Points'] = points.shape[0]\n",
    "    timing_results = timing_results.append(pd.Series(row),ignore_index=True)"
   ]
  },
  {
   "cell_type": "markdown",
   "metadata": {},
   "source": [
    "# Cython (parallel)"
   ]
  },
  {
   "cell_type": "code",
   "execution_count": 28,
   "metadata": {
    "ExecuteTime": {
     "end_time": "2016-10-10T15:28:10.218963",
     "start_time": "2016-10-10T19:12:06.426Z"
    }
   },
   "outputs": [],
   "source": [
    "%%cython\n",
    "from cython cimport boundscheck, wraparound\n",
    "from cython.parallel cimport prange\n",
    "from libc.math cimport sin, cos, sqrt, M_PI\n",
    "import numpy as np\n",
    "cimport numpy as cnp\n",
    "\n",
    "cdef double a = 6378137       # Semi-major axis \n",
    "cdef double b = 6356752.3142  # Semi-minor axis\n",
    "cdef double f = (a - b) / a   # flattening\n",
    "cdef double e = 0.081819191\n",
    "cdef double ecc = e*e\n",
    "cdef double radians = M_PI/180.0\n",
    "\n",
    "@boundscheck(False)\n",
    "@wraparound(False)\n",
    "def LLAtoXYZ_cy_par(double[:] latitude, \n",
    "                double[:] longitude, \n",
    "                double[:] altitude, \n",
    "                double[:] geoidSepIn):\n",
    "    cdef int i\n",
    "    cdef int l = len(latitude)\n",
    "    \n",
    "    cdef double[:] x = np.empty(l, dtype=np.double)\n",
    "    cdef double[:] y = np.empty(l, dtype=np.double)\n",
    "    cdef double[:] z = np.empty(l, dtype=np.double)\n",
    "    \n",
    "    cdef double latitude_rad\n",
    "    cdef double longitude_rad\n",
    "    cdef double height\n",
    "    cdef double s_lat\n",
    "    cdef double c_lat\n",
    "    cdef double r\n",
    "    \n",
    "    for i in prange(l, nogil=True):\n",
    "        latitude_rad = radians*latitude[i]\n",
    "        longitude_rad = radians*longitude[i]\n",
    "        height = altitude[i] - geoidSepIn[i]\n",
    "        s_lat  = sin(latitude_rad)\n",
    "        c_lat  = cos(latitude_rad)\n",
    "         \n",
    "        r = a / sqrt(1 - ecc * s_lat * s_lat)\n",
    "        x[i] = (r + height) * c_lat * cos(longitude_rad)\n",
    "        y[i] = (r + height) * c_lat * sin(longitude_rad)\n",
    "        z[i] = ((1-ecc) * r + height) * s_lat\n",
    "        \n",
    "    return x,y,z"
   ]
  },
  {
   "cell_type": "code",
   "execution_count": 29,
   "metadata": {
    "ExecuteTime": {
     "end_time": "2016-10-10T15:28:10.219491",
     "start_time": "2016-10-10T19:12:06.432Z"
    }
   },
   "outputs": [
    {
     "name": "stdout",
     "output_type": "stream",
     "text": [
      "-2856867.422762463 -4132876.8004144537 -3916387.577890978\n"
     ]
    }
   ],
   "source": [
    "results_c = LLAtoXYZ_cy_par(np.array([-38.123456], dtype=np.double),\n",
    "                     np.array([-124.65432], dtype=np.double),\n",
    "                     np.array([230], dtype=np.double),\n",
    "                       np.array([-20], dtype=np.double))\n",
    "print (results_c[0][0], results_c[1][0], results_c[2][0])\n",
    "#X= -2856867.422762463\n",
    "#Y= -4132876.8004144537\n",
    "#Z= -3916387.577890978)"
   ]
  },
  {
   "cell_type": "code",
   "execution_count": 30,
   "metadata": {
    "ExecuteTime": {
     "end_time": "2016-10-10T15:28:10.227590",
     "start_time": "2016-10-10T19:12:06.436Z"
    }
   },
   "outputs": [
    {
     "name": "stdout",
     "output_type": "stream",
     "text": [
      "710 µs ± 159 µs per loop (mean ± std. dev. of 5 runs, 50 loops each)\n",
      "61.8 ms ± 4.58 ms per loop (mean ± std. dev. of 5 runs, 50 loops each)\n"
     ]
    }
   ],
   "source": [
    "test_config_name = 'Cython.Parallel (with Numpy Arrays)'\n",
    "for points in points_obj_np:\n",
    "    r = %timeit -n 50 -r 5 -o results=LLAtoXYZ_cy_par(points[:,0],points[:,1],points[:,2],points[:,3])\n",
    "    row = timing_results_filler(r)\n",
    "    row['Name'] = test_config_name\n",
    "    row['Num of Points'] = points.shape[0]\n",
    "    timing_results = timing_results.append(pd.Series(row),ignore_index=True)"
   ]
  },
  {
   "cell_type": "markdown",
   "metadata": {},
   "source": [
    "# Summary"
   ]
  },
  {
   "cell_type": "code",
   "execution_count": 31,
   "metadata": {
    "ExecuteTime": {
     "end_time": "2016-10-10T15:28:10.231555",
     "start_time": "2016-10-10T19:12:06.438Z"
    }
   },
   "outputs": [],
   "source": [
    "def results_update(data):\n",
    "    data = data.set_index('Name')\n",
    "    data['Vs Native Python'] = data.loc['Native Python']['Time (sec)'] / data['Time (sec)']\n",
    "    data['Time per Point (usec)'] = data['Time (sec)'] / data['Num of Points'] * 1000000\n",
    "    return data"
   ]
  },
  {
   "cell_type": "code",
   "execution_count": 32,
   "metadata": {
    "ExecuteTime": {
     "end_time": "2016-10-10T15:28:10.232181",
     "start_time": "2016-10-10T19:12:06.443Z"
    }
   },
   "outputs": [],
   "source": [
    "timing_results = timing_results.groupby('Num of Points').apply(results_update)"
   ]
  },
  {
   "cell_type": "code",
   "execution_count": 33,
   "metadata": {
    "ExecuteTime": {
     "end_time": "2016-10-10T15:28:10.232468",
     "start_time": "2016-10-10T19:12:06.446Z"
    }
   },
   "outputs": [
    {
     "data": {
      "text/html": [
       "<div>\n",
       "<style scoped>\n",
       "    .dataframe tbody tr th:only-of-type {\n",
       "        vertical-align: middle;\n",
       "    }\n",
       "\n",
       "    .dataframe tbody tr th {\n",
       "        vertical-align: top;\n",
       "    }\n",
       "\n",
       "    .dataframe thead th {\n",
       "        text-align: right;\n",
       "    }\n",
       "</style>\n",
       "<table border=\"1\" class=\"dataframe\">\n",
       "  <thead>\n",
       "    <tr style=\"text-align: right;\">\n",
       "      <th></th>\n",
       "      <th></th>\n",
       "      <th>Loops</th>\n",
       "      <th>Num of Points</th>\n",
       "      <th>Repeat</th>\n",
       "      <th>Time (sec)</th>\n",
       "      <th>Vs Native Python</th>\n",
       "      <th>Time per Point (usec)</th>\n",
       "    </tr>\n",
       "    <tr>\n",
       "      <th>Num of Points</th>\n",
       "      <th>Name</th>\n",
       "      <th></th>\n",
       "      <th></th>\n",
       "      <th></th>\n",
       "      <th></th>\n",
       "      <th></th>\n",
       "      <th></th>\n",
       "    </tr>\n",
       "  </thead>\n",
       "  <tbody>\n",
       "    <tr>\n",
       "      <td rowspan=\"9\" valign=\"top\">10000.0</td>\n",
       "      <td>Native Python</td>\n",
       "      <td>100.0</td>\n",
       "      <td>10000.0</td>\n",
       "      <td>7.0</td>\n",
       "      <td>0.013334</td>\n",
       "      <td>1.000000</td>\n",
       "      <td>1.333408</td>\n",
       "    </tr>\n",
       "    <tr>\n",
       "      <td>Numpy (Native)</td>\n",
       "      <td>50.0</td>\n",
       "      <td>10000.0</td>\n",
       "      <td>5.0</td>\n",
       "      <td>0.000368</td>\n",
       "      <td>36.196117</td>\n",
       "      <td>0.036838</td>\n",
       "    </tr>\n",
       "    <tr>\n",
       "      <td>Pandas (Native)</td>\n",
       "      <td>50.0</td>\n",
       "      <td>10000.0</td>\n",
       "      <td>5.0</td>\n",
       "      <td>0.003458</td>\n",
       "      <td>3.856104</td>\n",
       "      <td>0.345792</td>\n",
       "    </tr>\n",
       "    <tr>\n",
       "      <td>Numba (with Numpy Arrays)</td>\n",
       "      <td>50.0</td>\n",
       "      <td>10000.0</td>\n",
       "      <td>5.0</td>\n",
       "      <td>0.000424</td>\n",
       "      <td>31.418776</td>\n",
       "      <td>0.042440</td>\n",
       "    </tr>\n",
       "    <tr>\n",
       "      <td>Numba (with Pandas)</td>\n",
       "      <td>50.0</td>\n",
       "      <td>10000.0</td>\n",
       "      <td>5.0</td>\n",
       "      <td>0.004258</td>\n",
       "      <td>3.131846</td>\n",
       "      <td>0.425758</td>\n",
       "    </tr>\n",
       "    <tr>\n",
       "      <td>Numexpr (with Numpy Arrays)</td>\n",
       "      <td>50.0</td>\n",
       "      <td>10000.0</td>\n",
       "      <td>5.0</td>\n",
       "      <td>0.000716</td>\n",
       "      <td>18.635119</td>\n",
       "      <td>0.071554</td>\n",
       "    </tr>\n",
       "    <tr>\n",
       "      <td>Numexpr (with Pandas)</td>\n",
       "      <td>50.0</td>\n",
       "      <td>10000.0</td>\n",
       "      <td>5.0</td>\n",
       "      <td>0.002033</td>\n",
       "      <td>6.558189</td>\n",
       "      <td>0.203320</td>\n",
       "    </tr>\n",
       "    <tr>\n",
       "      <td>Cython (with Numpy Arrays)</td>\n",
       "      <td>50.0</td>\n",
       "      <td>10000.0</td>\n",
       "      <td>5.0</td>\n",
       "      <td>0.000553</td>\n",
       "      <td>24.128654</td>\n",
       "      <td>0.055262</td>\n",
       "    </tr>\n",
       "    <tr>\n",
       "      <td>Cython.Parallel (with Numpy Arrays)</td>\n",
       "      <td>50.0</td>\n",
       "      <td>10000.0</td>\n",
       "      <td>5.0</td>\n",
       "      <td>0.000583</td>\n",
       "      <td>22.881178</td>\n",
       "      <td>0.058275</td>\n",
       "    </tr>\n",
       "    <tr>\n",
       "      <td rowspan=\"9\" valign=\"top\">1000000.0</td>\n",
       "      <td>Native Python</td>\n",
       "      <td>1.0</td>\n",
       "      <td>1000000.0</td>\n",
       "      <td>7.0</td>\n",
       "      <td>1.361399</td>\n",
       "      <td>1.000000</td>\n",
       "      <td>1.361399</td>\n",
       "    </tr>\n",
       "    <tr>\n",
       "      <td>Numpy (Native)</td>\n",
       "      <td>50.0</td>\n",
       "      <td>1000000.0</td>\n",
       "      <td>5.0</td>\n",
       "      <td>0.060222</td>\n",
       "      <td>22.606372</td>\n",
       "      <td>0.060222</td>\n",
       "    </tr>\n",
       "    <tr>\n",
       "      <td>Pandas (Native)</td>\n",
       "      <td>50.0</td>\n",
       "      <td>1000000.0</td>\n",
       "      <td>5.0</td>\n",
       "      <td>0.074824</td>\n",
       "      <td>18.194576</td>\n",
       "      <td>0.074824</td>\n",
       "    </tr>\n",
       "    <tr>\n",
       "      <td>Numba (with Numpy Arrays)</td>\n",
       "      <td>50.0</td>\n",
       "      <td>1000000.0</td>\n",
       "      <td>5.0</td>\n",
       "      <td>0.072409</td>\n",
       "      <td>18.801451</td>\n",
       "      <td>0.072409</td>\n",
       "    </tr>\n",
       "    <tr>\n",
       "      <td>Numba (with Pandas)</td>\n",
       "      <td>50.0</td>\n",
       "      <td>1000000.0</td>\n",
       "      <td>5.0</td>\n",
       "      <td>0.080729</td>\n",
       "      <td>16.863864</td>\n",
       "      <td>0.080729</td>\n",
       "    </tr>\n",
       "    <tr>\n",
       "      <td>Numexpr (with Numpy Arrays)</td>\n",
       "      <td>50.0</td>\n",
       "      <td>1000000.0</td>\n",
       "      <td>5.0</td>\n",
       "      <td>0.042405</td>\n",
       "      <td>32.104754</td>\n",
       "      <td>0.042405</td>\n",
       "    </tr>\n",
       "    <tr>\n",
       "      <td>Numexpr (with Pandas)</td>\n",
       "      <td>50.0</td>\n",
       "      <td>1000000.0</td>\n",
       "      <td>5.0</td>\n",
       "      <td>0.046602</td>\n",
       "      <td>29.213492</td>\n",
       "      <td>0.046602</td>\n",
       "    </tr>\n",
       "    <tr>\n",
       "      <td>Cython (with Numpy Arrays)</td>\n",
       "      <td>50.0</td>\n",
       "      <td>1000000.0</td>\n",
       "      <td>5.0</td>\n",
       "      <td>0.056426</td>\n",
       "      <td>24.127171</td>\n",
       "      <td>0.056426</td>\n",
       "    </tr>\n",
       "    <tr>\n",
       "      <td>Cython.Parallel (with Numpy Arrays)</td>\n",
       "      <td>50.0</td>\n",
       "      <td>1000000.0</td>\n",
       "      <td>5.0</td>\n",
       "      <td>0.057513</td>\n",
       "      <td>23.671287</td>\n",
       "      <td>0.057513</td>\n",
       "    </tr>\n",
       "  </tbody>\n",
       "</table>\n",
       "</div>"
      ],
      "text/plain": [
       "                                                   Loops  Num of Points  \\\n",
       "Num of Points Name                                                        \n",
       "10000.0       Native Python                        100.0        10000.0   \n",
       "              Numpy (Native)                        50.0        10000.0   \n",
       "              Pandas (Native)                       50.0        10000.0   \n",
       "              Numba (with Numpy Arrays)             50.0        10000.0   \n",
       "              Numba (with Pandas)                   50.0        10000.0   \n",
       "              Numexpr (with Numpy Arrays)           50.0        10000.0   \n",
       "              Numexpr (with Pandas)                 50.0        10000.0   \n",
       "              Cython (with Numpy Arrays)            50.0        10000.0   \n",
       "              Cython.Parallel (with Numpy Arrays)   50.0        10000.0   \n",
       "1000000.0     Native Python                          1.0      1000000.0   \n",
       "              Numpy (Native)                        50.0      1000000.0   \n",
       "              Pandas (Native)                       50.0      1000000.0   \n",
       "              Numba (with Numpy Arrays)             50.0      1000000.0   \n",
       "              Numba (with Pandas)                   50.0      1000000.0   \n",
       "              Numexpr (with Numpy Arrays)           50.0      1000000.0   \n",
       "              Numexpr (with Pandas)                 50.0      1000000.0   \n",
       "              Cython (with Numpy Arrays)            50.0      1000000.0   \n",
       "              Cython.Parallel (with Numpy Arrays)   50.0      1000000.0   \n",
       "\n",
       "                                                   Repeat  Time (sec)  \\\n",
       "Num of Points Name                                                      \n",
       "10000.0       Native Python                           7.0    0.013334   \n",
       "              Numpy (Native)                          5.0    0.000368   \n",
       "              Pandas (Native)                         5.0    0.003458   \n",
       "              Numba (with Numpy Arrays)               5.0    0.000424   \n",
       "              Numba (with Pandas)                     5.0    0.004258   \n",
       "              Numexpr (with Numpy Arrays)             5.0    0.000716   \n",
       "              Numexpr (with Pandas)                   5.0    0.002033   \n",
       "              Cython (with Numpy Arrays)              5.0    0.000553   \n",
       "              Cython.Parallel (with Numpy Arrays)     5.0    0.000583   \n",
       "1000000.0     Native Python                           7.0    1.361399   \n",
       "              Numpy (Native)                          5.0    0.060222   \n",
       "              Pandas (Native)                         5.0    0.074824   \n",
       "              Numba (with Numpy Arrays)               5.0    0.072409   \n",
       "              Numba (with Pandas)                     5.0    0.080729   \n",
       "              Numexpr (with Numpy Arrays)             5.0    0.042405   \n",
       "              Numexpr (with Pandas)                   5.0    0.046602   \n",
       "              Cython (with Numpy Arrays)              5.0    0.056426   \n",
       "              Cython.Parallel (with Numpy Arrays)     5.0    0.057513   \n",
       "\n",
       "                                                   Vs Native Python  \\\n",
       "Num of Points Name                                                    \n",
       "10000.0       Native Python                                1.000000   \n",
       "              Numpy (Native)                              36.196117   \n",
       "              Pandas (Native)                              3.856104   \n",
       "              Numba (with Numpy Arrays)                   31.418776   \n",
       "              Numba (with Pandas)                          3.131846   \n",
       "              Numexpr (with Numpy Arrays)                 18.635119   \n",
       "              Numexpr (with Pandas)                        6.558189   \n",
       "              Cython (with Numpy Arrays)                  24.128654   \n",
       "              Cython.Parallel (with Numpy Arrays)         22.881178   \n",
       "1000000.0     Native Python                                1.000000   \n",
       "              Numpy (Native)                              22.606372   \n",
       "              Pandas (Native)                             18.194576   \n",
       "              Numba (with Numpy Arrays)                   18.801451   \n",
       "              Numba (with Pandas)                         16.863864   \n",
       "              Numexpr (with Numpy Arrays)                 32.104754   \n",
       "              Numexpr (with Pandas)                       29.213492   \n",
       "              Cython (with Numpy Arrays)                  24.127171   \n",
       "              Cython.Parallel (with Numpy Arrays)         23.671287   \n",
       "\n",
       "                                                   Time per Point (usec)  \n",
       "Num of Points Name                                                        \n",
       "10000.0       Native Python                                     1.333408  \n",
       "              Numpy (Native)                                    0.036838  \n",
       "              Pandas (Native)                                   0.345792  \n",
       "              Numba (with Numpy Arrays)                         0.042440  \n",
       "              Numba (with Pandas)                               0.425758  \n",
       "              Numexpr (with Numpy Arrays)                       0.071554  \n",
       "              Numexpr (with Pandas)                             0.203320  \n",
       "              Cython (with Numpy Arrays)                        0.055262  \n",
       "              Cython.Parallel (with Numpy Arrays)               0.058275  \n",
       "1000000.0     Native Python                                     1.361399  \n",
       "              Numpy (Native)                                    0.060222  \n",
       "              Pandas (Native)                                   0.074824  \n",
       "              Numba (with Numpy Arrays)                         0.072409  \n",
       "              Numba (with Pandas)                               0.080729  \n",
       "              Numexpr (with Numpy Arrays)                       0.042405  \n",
       "              Numexpr (with Pandas)                             0.046602  \n",
       "              Cython (with Numpy Arrays)                        0.056426  \n",
       "              Cython.Parallel (with Numpy Arrays)               0.057513  "
      ]
     },
     "execution_count": 33,
     "metadata": {},
     "output_type": "execute_result"
    }
   ],
   "source": [
    "timing_results"
   ]
  },
  {
   "cell_type": "code",
   "execution_count": 34,
   "metadata": {
    "ExecuteTime": {
     "end_time": "2016-10-10T15:28:10.232737",
     "start_time": "2016-10-10T19:12:06.448Z"
    }
   },
   "outputs": [],
   "source": [
    "timing_results.to_csv('results.csv')"
   ]
  },
  {
   "cell_type": "markdown",
   "metadata": {},
   "source": [
    "## Graphs"
   ]
  },
  {
   "cell_type": "code",
   "execution_count": 35,
   "metadata": {
    "ExecuteTime": {
     "end_time": "2016-10-10T15:28:10.232996",
     "start_time": "2016-10-10T19:12:06.451Z"
    }
   },
   "outputs": [
    {
     "data": {
      "image/png": "[encoded data removed]",
      "text/plain": [
       "<Figure size 432x288 with 1 Axes>"
      ]
     },
     "metadata": {},
     "output_type": "display_data"
    }
   ],
   "source": [
    "tenK_df = timing_results.where(timing_results['Num of Points'] == 10000).dropna().reset_index(0,drop=True)\n",
    "tenK_df.sort_values('Time (sec)', inplace=True, ascending=False)\n",
    "tenK_df_subset = tenK_df.reindex(columns=['Time (sec)'])\n",
    "ax_10k_time = tenK_df_subset.plot(kind='barh')\n",
    "ax_10k_time.set_yticklabels(list(tenK_df.index))\n",
    "ax_10k_time.set_xbound(upper=.004)\n",
    "ax_10k_time.set_xlabel('seconds')\n",
    "ax_10k_time.set_title('Total Time for 10K Points by Method')\n",
    "plt.savefig('time_10k.png')"
   ]
  },
  {
   "cell_type": "code",
   "execution_count": 36,
   "metadata": {
    "ExecuteTime": {
     "end_time": "2016-10-10T15:28:10.233256",
     "start_time": "2016-10-10T19:12:06.462Z"
    }
   },
   "outputs": [
    {
     "data": {
      "image/png": "[encoded data removed]",
      "text/plain": [
       "<Figure size 432x288 with 1 Axes>"
      ]
     },
     "metadata": {},
     "output_type": "display_data"
    }
   ],
   "source": [
    "tenK_df.sort_values('Vs Native Python', inplace=True, ascending=True)\n",
    "tenK_df_subset = tenK_df.reindex(columns=['Vs Native Python'])\n",
    "ax_10k_vs = tenK_df_subset.plot(kind='barh')\n",
    "ax_10k_vs.set_yticklabels(list(tenK_df.index))\n",
    "ax_10k_vs.set_xlabel('Multiplier')\n",
    "ax_10k_vs.set_title('Method Compared to Native Python (10K Points)')\n",
    "plt.savefig('compare_10k.png')"
   ]
  },
  {
   "cell_type": "code",
   "execution_count": 37,
   "metadata": {
    "ExecuteTime": {
     "end_time": "2016-10-10T15:28:10.233503",
     "start_time": "2016-10-10T19:12:06.471Z"
    }
   },
   "outputs": [
    {
     "data": {
      "image/png": "[encoded data removed]",
      "text/plain": [
       "<Figure size 432x288 with 1 Axes>"
      ]
     },
     "metadata": {},
     "output_type": "display_data"
    }
   ],
   "source": [
    "oneM_df = timing_results.where(timing_results['Num of Points'] == 1000000).dropna().reset_index(0,drop=True)\n",
    "oneM_df.sort_values('Time (sec)', inplace=True, ascending=False)\n",
    "oneM_df_subset = oneM_df.reindex(columns=['Time (sec)'])\n",
    "ax_1M_time = oneM_df_subset.plot(kind='barh')\n",
    "ax_1M_time.set_yticklabels(list(oneM_df.index))\n",
    "ax_1M_time.set_xbound(upper=.25)\n",
    "ax_1M_time.set_xlabel('seconds')\n",
    "ax_1M_time.set_title('Total Time for 1M Points by Method')\n",
    "plt.savefig('time_1M.png')"
   ]
  },
  {
   "cell_type": "code",
   "execution_count": 38,
   "metadata": {
    "ExecuteTime": {
     "end_time": "2016-10-10T15:28:10.233878",
     "start_time": "2016-10-10T19:12:06.477Z"
    }
   },
   "outputs": [
    {
     "data": {
      "image/png": "[encoded data removed]",
      "text/plain": [
       "<Figure size 432x288 with 1 Axes>"
      ]
     },
     "metadata": {},
     "output_type": "display_data"
    }
   ],
   "source": [
    "oneM_df.sort_values('Vs Native Python', inplace=True, ascending=True)\n",
    "oneM_df_subset = oneM_df.reindex(columns=['Vs Native Python'])\n",
    "ax_1M_vs = oneM_df_subset.plot(kind='barh')\n",
    "ax_1M_vs.set_yticklabels(list(oneM_df.index))\n",
    "ax_1M_vs.set_xlabel('Multiplier')\n",
    "ax_1M_vs.set_title('Method Compared to Native Python (1M Points)')\n",
    "plt.savefig('compare_1M.png')"
   ]
  },
  {
   "cell_type": "code",
   "execution_count": 39,
   "metadata": {
    "ExecuteTime": {
     "end_time": "2016-10-10T15:28:10.234185",
     "start_time": "2016-10-10T19:12:06.486Z"
    }
   },
   "outputs": [
    {
     "data": {
      "image/png": "[encoded data removed]",
      "text/plain": [
       "<Figure size 864x504 with 1 Axes>"
      ]
     },
     "metadata": {},
     "output_type": "display_data"
    }
   ],
   "source": [
    "per_pt_df = pd.DataFrame()\n",
    "per_pt_df['1M Points'] = timing_results['Time per Point (usec)'].where(timing_results['Num of Points'] == 1000000) \\\n",
    "                                                                            .dropna().reset_index(0,drop=True) * 1000\n",
    "per_pt_df['10K Points'] = timing_results['Time per Point (usec)'].where(timing_results['Num of Points'] == 10000) \\\n",
    "                                                                            .dropna().reset_index(0,drop=True) * 1000\n",
    "del per_pt_df.index.name\n",
    "per_pt_df.sort_values('1M Points', inplace=True, ascending=False)\n",
    "ax_per_pt = per_pt_df.plot(kind='barh', width = .8, figsize=(12,7))\n",
    "ax_per_pt.set_xbound(upper=500)\n",
    "ax_per_pt.set_title('Per Point Execution Time', fontsize=18)\n",
    "ax_per_pt.set_xlabel('nanoseconds', fontsize=18)\n",
    "ax_per_pt.xaxis.grid(True, linestyle='--', which='major', color='grey', alpha=.5)\n",
    "plt.legend(fontsize=14)\n",
    "rects = ax_per_pt.patches\n",
    "labels = per_pt_df.values.flatten('F')\n",
    "ax_per_pt.tick_params(axis='y', labelsize=14)\n",
    "for rect, label in zip(rects, labels):\n",
    "    width = rect.get_width()\n",
    "    height = rect.get_height()\n",
    "    ax_per_pt.text(min(width - 20, 475), rect.get_y()+ height*3/4, int(label), color='white',fontsize=12, ha='left', va='top', weight='heavy')\n",
    "plt.savefig('exec_time.png')"
   ]
  },
  {
   "cell_type": "code",
   "execution_count": 40,
   "metadata": {
    "ExecuteTime": {
     "end_time": "2016-10-10T15:28:10.237021",
     "start_time": "2016-10-10T19:12:06.489Z"
    }
   },
   "outputs": [
    {
     "data": {
      "image/png": "[encoded data removed]",
      "text/plain": [
       "<Figure size 864x504 with 1 Axes>"
      ]
     },
     "metadata": {},
     "output_type": "display_data"
    }
   ],
   "source": [
    "vs_df = pd.DataFrame()\n",
    "vs_df['1M Points'] = timing_results['Vs Native Python'].where(timing_results['Num of Points'] == 1000000) \\\n",
    "                                                                        .dropna().reset_index(0,drop=True)\n",
    "vs_df['10K Points'] = timing_results['Vs Native Python'].where(timing_results['Num of Points'] == 10000) \\\n",
    "                                                                        .dropna().reset_index(0,drop=True)\n",
    "\n",
    "\n",
    "del vs_df.index.name\n",
    "vs_df.sort_values('1M Points', inplace=True, ascending=False)\n",
    "ax_vs = vs_df.plot(kind='barh', width = .8, figsize=(12,7))\n",
    "ax_vs.set_title('Method Compared to Native Python', fontsize=18)\n",
    "ax_vs.set_xlabel('Improvement Over Native Python (as Multiplier)', fontsize=18)\n",
    "ax_vs.yaxis.get_label_text()\n",
    "ax_vs.xaxis.grid(True, linestyle='--', which='major', color='grey', alpha=.5)\n",
    "plt.legend(fontsize=14)\n",
    "rects = ax_vs.patches\n",
    "labels = vs_df.values.flatten('F')\n",
    "labels = np.rint(labels)\n",
    "ax_vs.tick_params(axis='y', labelsize=14)\n",
    "for rect, label in zip(rects, labels):\n",
    "    width = rect.get_width()\n",
    "    height = rect.get_height()\n",
    "    ax_vs.text(width+0.5, rect.get_y() + height/2, int(label), \n",
    "               fontsize=12, ha='left', va='center', weight='heavy')\n",
    "plt.savefig('method_compare.png')"
   ]
  },
  {
   "cell_type": "code",
   "execution_count": null,
   "metadata": {},
   "outputs": [],
   "source": []
  },
  {
   "cell_type": "code",
   "execution_count": null,
   "metadata": {},
   "outputs": [],
   "source": []
  },
  {
   "cell_type": "code",
   "execution_count": null,
   "metadata": {},
   "outputs": [],
   "source": []
  }
 ],
 "metadata": {
  "anaconda-cloud": {},
  "kernelspec": {
   "display_name": "Python 3",
   "language": "python",
   "name": "python3"
  },
  "language_info": {
   "codemirror_mode": {
    "name": "ipython",
    "version": 3
   },
   "file_extension": ".py",
   "mimetype": "text/x-python",
   "name": "python",
   "nbconvert_exporter": "python",
   "pygments_lexer": "ipython3",
   "version": "3.7.4"
  }
 },
 "nbformat": 4,
 "nbformat_minor": 1
}
