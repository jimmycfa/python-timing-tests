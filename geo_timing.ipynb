{
 "cells": [
  {
   "cell_type": "code",
   "execution_count": 1,
   "metadata": {},
   "outputs": [
    {
     "name": "stdout",
     "output_type": "stream",
     "text": [
      "Requirement already satisfied: numba in /home/ec2-user/anaconda3/envs/python3/lib/python3.6/site-packages (0.52.0)\n",
      "Requirement already satisfied: numexpr in /home/ec2-user/anaconda3/envs/python3/lib/python3.6/site-packages (2.7.2)\n",
      "Requirement already satisfied: seaborn in /home/ec2-user/anaconda3/envs/python3/lib/python3.6/site-packages (0.11.1)\n",
      "Requirement already satisfied: Cython in /home/ec2-user/anaconda3/envs/python3/lib/python3.6/site-packages (0.29.22)\n",
      "Requirement already satisfied: setuptools in /home/ec2-user/anaconda3/envs/python3/lib/python3.6/site-packages (from numba) (49.6.0.post20210108)\n",
      "Requirement already satisfied: llvmlite<0.36,>=0.35.0 in /home/ec2-user/anaconda3/envs/python3/lib/python3.6/site-packages (from numba) (0.35.0)\n",
      "Requirement already satisfied: numpy>=1.15 in /home/ec2-user/anaconda3/envs/python3/lib/python3.6/site-packages (from numba) (1.19.5)\n",
      "Requirement already satisfied: pandas>=0.23 in /home/ec2-user/anaconda3/envs/python3/lib/python3.6/site-packages (from seaborn) (1.1.5)\n",
      "Requirement already satisfied: matplotlib>=2.2 in /home/ec2-user/anaconda3/envs/python3/lib/python3.6/site-packages (from seaborn) (3.3.4)\n",
      "Requirement already satisfied: scipy>=1.0 in /home/ec2-user/anaconda3/envs/python3/lib/python3.6/site-packages (from seaborn) (1.5.3)\n",
      "Requirement already satisfied: kiwisolver>=1.0.1 in /home/ec2-user/anaconda3/envs/python3/lib/python3.6/site-packages (from matplotlib>=2.2->seaborn) (1.3.1)\n",
      "Requirement already satisfied: pillow>=6.2.0 in /home/ec2-user/anaconda3/envs/python3/lib/python3.6/site-packages (from matplotlib>=2.2->seaborn) (7.2.0)\n",
      "Requirement already satisfied: cycler>=0.10 in /home/ec2-user/anaconda3/envs/python3/lib/python3.6/site-packages (from matplotlib>=2.2->seaborn) (0.10.0)\n",
      "Requirement already satisfied: pyparsing!=2.0.4,!=2.1.2,!=2.1.6,>=2.0.3 in /home/ec2-user/anaconda3/envs/python3/lib/python3.6/site-packages (from matplotlib>=2.2->seaborn) (2.4.7)\n",
      "Requirement already satisfied: python-dateutil>=2.1 in /home/ec2-user/anaconda3/envs/python3/lib/python3.6/site-packages (from matplotlib>=2.2->seaborn) (2.8.1)\n",
      "Requirement already satisfied: six in /home/ec2-user/anaconda3/envs/python3/lib/python3.6/site-packages (from cycler>=0.10->matplotlib>=2.2->seaborn) (1.15.0)\n",
      "Requirement already satisfied: pytz>=2017.2 in /home/ec2-user/anaconda3/envs/python3/lib/python3.6/site-packages (from pandas>=0.23->seaborn) (2021.1)\n"
     ]
    }
   ],
   "source": [
    "!pip install numba numexpr seaborn Cython"
   ]
  },
  {
   "cell_type": "code",
   "execution_count": 2,
   "metadata": {},
   "outputs": [
    {
     "name": "stdout",
     "output_type": "stream",
     "text": [
      "nvcc: NVIDIA (R) Cuda compiler driver\r\n",
      "Copyright (c) 2005-2018 NVIDIA Corporation\r\n",
      "Built on Sat_Aug_25_21:08:01_CDT_2018\r\n",
      "Cuda compilation tools, release 10.0, V10.0.130\r\n"
     ]
    }
   ],
   "source": [
    "!nvcc --version"
   ]
  },
  {
   "cell_type": "code",
   "execution_count": 3,
   "metadata": {},
   "outputs": [
    {
     "name": "stdout",
     "output_type": "stream",
     "text": [
      "Requirement already satisfied: cupy-cuda100 in /home/ec2-user/anaconda3/envs/python3/lib/python3.6/site-packages (8.5.0)\r\n",
      "Requirement already satisfied: fastrlock>=0.3 in /home/ec2-user/anaconda3/envs/python3/lib/python3.6/site-packages (from cupy-cuda100) (0.5)\r\n",
      "Requirement already satisfied: numpy>=1.15 in /home/ec2-user/anaconda3/envs/python3/lib/python3.6/site-packages (from cupy-cuda100) (1.19.5)\r\n"
     ]
    }
   ],
   "source": [
    "!pip install cupy-cuda100 #the cuda100 corresponds to the release 10.0 above. It was 10.1 we would use cuda101"
   ]
  },
  {
   "cell_type": "code",
   "execution_count": 4,
   "metadata": {
    "ExecuteTime": {
     "end_time": "2016-10-10T15:12:10.279769",
     "start_time": "2016-10-10T15:12:06.325751"
    }
   },
   "outputs": [],
   "source": [
    "import sys\n",
    "import platform\n",
    "import os\n",
    "import random as rnd\n",
    "from math import sqrt, sin, cos, radians\n",
    "import numpy as np\n",
    "import pandas as pd\n",
    "from numba import jit\n",
    "import numba\n",
    "import numexpr as ne\n",
    "import matplotlib.pyplot as plt\n",
    "import seaborn\n",
    "import cupy as cp"
   ]
  },
  {
   "cell_type": "code",
   "execution_count": 5,
   "metadata": {
    "ExecuteTime": {
     "end_time": "2016-10-10T15:12:10.326513",
     "start_time": "2016-10-10T15:12:10.282382"
    }
   },
   "outputs": [],
   "source": [
    "%matplotlib inline \n",
    "seaborn.set()"
   ]
  },
  {
   "cell_type": "markdown",
   "metadata": {},
   "source": [
    "# Software Versions and Machine Hardware"
   ]
  },
  {
   "cell_type": "code",
   "execution_count": 6,
   "metadata": {
    "ExecuteTime": {
     "end_time": "2016-10-10T15:12:10.368087",
     "start_time": "2016-10-10T15:12:10.329460"
    }
   },
   "outputs": [
    {
     "name": "stdout",
     "output_type": "stream",
     "text": [
      "Python: 3.6.13 | packaged by conda-forge | (default, Feb 19 2021, 05:36:01) \n",
      "[GCC 9.3.0]\n",
      "Numpy: 1.19.5\n",
      "Pandas: 1.1.5\n",
      "Numba: 0.52.0\n",
      "Numexpr: 2.7.2\n",
      "None\n",
      "Processor: x86_64\n",
      "# of Cores: 4\n",
      "Machine: x86_64\n",
      "Architecture: ('64bit', '')\n"
     ]
    }
   ],
   "source": [
    "print(\"Python: {}\\nNumpy: {}\\nPandas: {}\\nNumba: {}\\nNumexpr: {}\\n{}\".format(sys.version,\n",
    "                                                                             np.__version__,\n",
    "                                                                             pd.__version__,\n",
    "                                                                             numba.__version__,\n",
    "                                                                             ne.__version__,\n",
    "                                                                             ne.get_vml_version()))\n",
    "print(\"Processor: {}\\n# of Cores: {}\\nMachine: {}\\nArchitecture: {}\".format(platform.processor(),\n",
    "                                                                            os.cpu_count(),\n",
    "                                                                            platform.machine(),\n",
    "                                                                            platform.architecture()))\n",
    "#Note:\n",
    "#Intel64 Family 6 Model 78 Stepping 3 = Intel(R) Core(TM) i5-6300U CPU @ 2.40GHz"
   ]
  },
  {
   "cell_type": "markdown",
   "metadata": {},
   "source": [
    "# Define Sample Data"
   ]
  },
  {
   "cell_type": "markdown",
   "metadata": {},
   "source": [
    "List of tuples where list is made of tuples and each tuple has 4 values defining the point."
   ]
  },
  {
   "cell_type": "code",
   "execution_count": 7,
   "metadata": {
    "ExecuteTime": {
     "end_time": "2016-10-10T15:12:14.299948",
     "start_time": "2016-10-10T15:12:10.371371"
    }
   },
   "outputs": [
    {
     "name": "stdout",
     "output_type": "stream",
     "text": [
      "<class 'list'> of <class 'tuple'> containing <class 'float'>, length: 10000.\n",
      "<class 'list'> of <class 'tuple'> containing <class 'float'>, length: 1000000.\n"
     ]
    }
   ],
   "source": [
    "points_10k = []\n",
    "points_1m = []\n",
    "size = (10000, 1000000)\n",
    "points_obj = (points_10k, points_1m)\n",
    "for s, var in ((size[0], points_obj[0]), (size[1], points_obj[1])):\n",
    "    for i in range(s):\n",
    "        var.append((rnd.uniform(-85,85),\n",
    "                       rnd.uniform(-175,175),\n",
    "                       rnd.uniform(-50,12000), \n",
    "                       rnd.uniform(-50,50)))\n",
    "    print ('{} of {} containing {}, length: {}.'.format(type(var),type(var[0]),type(var[0][0]),len(var)))"
   ]
  },
  {
   "cell_type": "markdown",
   "metadata": {},
   "source": [
    "Numpy arrays..."
   ]
  },
  {
   "cell_type": "code",
   "execution_count": 8,
   "metadata": {
    "ExecuteTime": {
     "end_time": "2016-10-10T15:12:14.314229",
     "start_time": "2016-10-10T15:12:14.302332"
    }
   },
   "outputs": [
    {
     "name": "stdout",
     "output_type": "stream",
     "text": [
      "<class 'numpy.ndarray'>, shape: (10000, 4).\n",
      "<class 'numpy.ndarray'>, shape: (1000000, 4).\n"
     ]
    }
   ],
   "source": [
    "#instead of using np.random.uniform to define these arrays, converting the points list\n",
    "#so the same values are used for all methods\n",
    "points_10k_np = np.empty([size[0],4], dtype=np.double)\n",
    "points_1m_np = np.empty([size[1],4], dtype=np.double)\n",
    "points_obj_np = (points_10k_np, points_1m_np)\n",
    "\n",
    "for i, var in enumerate(points_obj_np):\n",
    "    for i, point in enumerate(points_obj[i]):\n",
    "        var[i,:] = [point[0], point[1], point[2], point[3]]\n",
    "    print ('{}, shape: {}.'.format(type(var),var.shape))"
   ]
  },
  {
   "cell_type": "markdown",
   "metadata": {},
   "source": [
    "Pandas DataFrame of the points."
   ]
  },
  {
   "cell_type": "code",
   "execution_count": 9,
   "metadata": {
    "ExecuteTime": {
     "end_time": "2016-10-10T15:12:15.066702",
     "start_time": "2016-10-10T15:12:14.317145"
    }
   },
   "outputs": [
    {
     "name": "stdout",
     "output_type": "stream",
     "text": [
      "<class 'pandas.core.frame.DataFrame'> containing <class 'numpy.float64'>, length: 10000.\n",
      "<class 'pandas.core.frame.DataFrame'> containing <class 'numpy.float64'>, length: 1000000.\n"
     ]
    }
   ],
   "source": [
    "points_10k_df = pd.DataFrame(points_10k, columns=['Lat','Long','Alt','Geoid'])\n",
    "points_1m_df = pd.DataFrame(points_1m, columns=['Lat','Long','Alt','Geoid'])\n",
    "points_obj_df = (points_10k_df, points_1m_df)\n",
    "for var in points_obj_df:\n",
    "    print ('{} containing {}, length: {}.'.format(type(var),\n",
    "                                                  type(var.iloc[0,0]),\n",
    "                                                  len(var)))"
   ]
  },
  {
   "cell_type": "code",
   "execution_count": 10,
   "metadata": {
    "ExecuteTime": {
     "end_time": "2016-10-10T15:12:15.080647",
     "start_time": "2016-10-10T15:12:15.068844"
    }
   },
   "outputs": [],
   "source": [
    "timing_results = pd.DataFrame()\n",
    "\n",
    "def timing_results_filler (r, return_size=3):\n",
    "    #TODO: remove return_size\n",
    "    returner = {}\n",
    "    #Loops,Repeat,Best\n",
    "    returner['Loops'] = r.loops\n",
    "    returner['Repeat'] = r.repeat\n",
    "    returner['Time (sec)'] = r.best\n",
    "    return returner"
   ]
  },
  {
   "cell_type": "markdown",
   "metadata": {},
   "source": [
    "# Constants"
   ]
  },
  {
   "cell_type": "code",
   "execution_count": 11,
   "metadata": {
    "ExecuteTime": {
     "end_time": "2016-10-10T15:12:15.089863",
     "start_time": "2016-10-10T15:12:15.083194"
    }
   },
   "outputs": [],
   "source": [
    "a = 6378137  # Semi-major axis \n",
    "b = 6356752.3142  # Semi-minor axis\n",
    "f = (a - b) / a  # flattening\n",
    "e = 0.081819191 # eccentricity\n",
    "ee = e*e\n",
    "LOOPS = 50\n",
    "REPEAT = 5"
   ]
  },
  {
   "cell_type": "markdown",
   "metadata": {},
   "source": [
    "# Native Python Lists"
   ]
  },
  {
   "cell_type": "code",
   "execution_count": 12,
   "metadata": {
    "ExecuteTime": {
     "end_time": "2016-10-10T15:28:16.608365",
     "start_time": "2016-10-10T15:28:16.566580"
    }
   },
   "outputs": [
    {
     "data": {
      "text/plain": [
       "(-2856867.422762463, -4132876.8004144537, -3916387.577890978)"
      ]
     },
     "execution_count": 12,
     "metadata": {},
     "output_type": "execute_result"
    }
   ],
   "source": [
    "def LLAtoXYZ_raw (latitude, longitude, altitude, geoidSepIn = 0):\n",
    "    # LLAtoXYZ converts a position (latitude, longitude, altitude) to the ECEF X, Y, Z format.\n",
    "    # The function expects Lat and Long in degrees and Alt in meters and outputs X, Y, Z in meters. \n",
    "    # geoidSepIn is the height of the geoid above the WGS84 ellipsoid. It is optional and assumed \n",
    "    # to be 0 if not provided (meaning geoid-to-ellipsoid differences are ignored)\n",
    "    \n",
    "    latitude_rad = radians(latitude)\n",
    "    longitude_rad = radians(longitude)\n",
    "    height = altitude - geoidSepIn\n",
    "    cos_lat = cos(latitude_rad)\n",
    "     \n",
    "    r = a / sqrt(1 - ee * sin(latitude_rad) * sin(latitude_rad))\n",
    "    x = (r + height) * cos_lat * cos(longitude_rad)\n",
    "    y = (r + height) * cos_lat * sin(longitude_rad)\n",
    "    z = ((1 - ee) * r + height) * sin(latitude_rad)\n",
    "        \n",
    "    return x,y,z\n",
    "LLAtoXYZ_raw(-38.123456,-124.65432,230,-20)\n",
    "#X= -2856867.422762463\n",
    "#Y= -4132876.8004144537\n",
    "#Z= -3916387.577890978"
   ]
  },
  {
   "cell_type": "code",
   "execution_count": 13,
   "metadata": {
    "ExecuteTime": {
     "start_time": "2016-10-10T19:28:18.504Z"
    }
   },
   "outputs": [
    {
     "name": "stdout",
     "output_type": "stream",
     "text": [
      "13.8 ms ± 542 µs per loop (mean ± std. dev. of 7 runs, 100 loops each)\n",
      "1.36 s ± 10.9 ms per loop (mean ± std. dev. of 7 runs, 1 loop each)\n"
     ]
    }
   ],
   "source": [
    "test_config_name = 'Native Python'\n",
    "for points in points_obj:\n",
    "    results = []\n",
    "    r = %timeit -o for p in points: results.append(LLAtoXYZ_raw(p[0],p[1],p[2],p[3]))\n",
    "    row = timing_results_filler(r)\n",
    "    row['Name'] = test_config_name\n",
    "    row['Num of Points'] = len(points)\n",
    "    timing_results = timing_results.append(pd.Series(row),ignore_index=True)"
   ]
  },
  {
   "cell_type": "markdown",
   "metadata": {},
   "source": [
    "# Numpy Arrays"
   ]
  },
  {
   "cell_type": "code",
   "execution_count": 14,
   "metadata": {
    "ExecuteTime": {
     "end_time": "2016-10-10T15:28:10.199331",
     "start_time": "2016-10-10T19:12:06.364Z"
    }
   },
   "outputs": [],
   "source": [
    "#import numpy functions directly\n",
    "from numpy import sqrt, sin, cos, radians"
   ]
  },
  {
   "cell_type": "code",
   "execution_count": 15,
   "metadata": {
    "ExecuteTime": {
     "end_time": "2016-10-10T15:28:10.200385",
     "start_time": "2016-10-10T19:12:06.369Z"
    }
   },
   "outputs": [
    {
     "data": {
      "text/plain": [
       "(-2856867.422762463, -4132876.8004144537, -3916387.577890978)"
      ]
     },
     "execution_count": 15,
     "metadata": {},
     "output_type": "execute_result"
    }
   ],
   "source": [
    "def LLAtoXYZ_numpy (latitude, longitude, altitude, geoidSepIn = 0, return_array = False):\n",
    "    # LLAtoXYZ converts a position (latitude, longitude, altitude) to the ECEF X, Y, Z format.\n",
    "    # The function expects Lat and Long in degrees and Alt in meters and outputs X, Y, Z in meters. \n",
    "    # geoidSepIn is the height of the geoid above the WGS84 ellipsoid. It is optional and assumed \n",
    "    # to be 0 if not provided (meaning geoid-to-ellipsoid differences are ignored)\n",
    "    \n",
    "    latitude_rad = radians(latitude)\n",
    "    longitude_rad = radians(longitude)\n",
    "    height = altitude - geoidSepIn\n",
    "    cos_lat = cos(latitude_rad)\n",
    "     \n",
    "    r = a / sqrt(1 - ee * sin(latitude_rad) * sin(latitude_rad))\n",
    "    x = (r + height) * cos_lat * cos(longitude_rad)\n",
    "    y = (r + height) * cos_lat * sin(longitude_rad)\n",
    "    z = ((1 - ee) * r + height) * sin(latitude_rad)\n",
    "    \n",
    "    if return_array:\n",
    "        return np.array([x,y,z])\n",
    "    else:\n",
    "        return x,y,z\n",
    "    \n",
    "LLAtoXYZ_numpy(-38.123456,-124.65432,230,-20)\n",
    "#X= -2856867.422762463\n",
    "#Y= -4132876.8004144537\n",
    "#Z= -3916387.577890978"
   ]
  },
  {
   "cell_type": "code",
   "execution_count": 16,
   "metadata": {
    "ExecuteTime": {
     "end_time": "2016-10-10T15:28:10.202164",
     "start_time": "2016-10-10T19:12:06.374Z"
    }
   },
   "outputs": [
    {
     "name": "stdout",
     "output_type": "stream",
     "text": [
      "2 ms ± 20.4 µs per loop (mean ± std. dev. of 5 runs, 50 loops each)\n",
      "211 ms ± 1.14 ms per loop (mean ± std. dev. of 5 runs, 50 loops each)\n"
     ]
    }
   ],
   "source": [
    "test_config_name = 'Numpy (Native)'\n",
    "for points in points_obj_np:\n",
    "    r = %timeit -n 50 -r 5 -o results = LLAtoXYZ_numpy(points[:,0],points[:,1],points[:,2],points[:,3],True)\n",
    "    row = timing_results_filler(r)\n",
    "    row['Name'] = test_config_name\n",
    "    row['Num of Points'] = points.shape[0]\n",
    "    timing_results = timing_results.append(pd.Series(row),ignore_index=True)"
   ]
  },
  {
   "cell_type": "markdown",
   "metadata": {},
   "source": [
    "# Cupy Arrays"
   ]
  },
  {
   "cell_type": "code",
   "execution_count": 17,
   "metadata": {},
   "outputs": [],
   "source": [
    "#import numpy functions directly\n",
    "import cupy as cp"
   ]
  },
  {
   "cell_type": "code",
   "execution_count": 18,
   "metadata": {},
   "outputs": [
    {
     "data": {
      "text/plain": [
       "(array(-2856867.42276246), array(-4132876.80041445), array(-3916387.57789098))"
      ]
     },
     "execution_count": 18,
     "metadata": {},
     "output_type": "execute_result"
    }
   ],
   "source": [
    "def LLAtoXYZ_cupy (latitude, longitude, altitude, geoidSepIn = 0, return_array = False):\n",
    "    # LLAtoXYZ converts a position (latitude, longitude, altitude) to the ECEF X, Y, Z format.\n",
    "    # The function expects Lat and Long in degrees and Alt in meters and outputs X, Y, Z in meters. \n",
    "    # geoidSepIn is the height of the geoid above the WGS84 ellipsoid. It is optional and assumed \n",
    "    # to be 0 if not provided (meaning geoid-to-ellipsoid differences are ignored)\n",
    "    \n",
    "    latitude_rad = cp.radians(latitude)\n",
    "    longitude_rad = cp.radians(longitude)\n",
    "    height = altitude - geoidSepIn\n",
    "    cos_lat = cp.cos(latitude_rad)\n",
    "     \n",
    "    r = a / cp.sqrt(1 - ee * cp.sin(latitude_rad) * cp.sin(latitude_rad))\n",
    "    x = (r + height) * cos_lat * cp.cos(longitude_rad)\n",
    "    y = (r + height) * cos_lat * cp.sin(longitude_rad)\n",
    "    z = ((1 - ee) * r + height) * cp.sin(latitude_rad)\n",
    "    \n",
    "    if return_array:\n",
    "        return cp.array([x,y,z])\n",
    "    else:\n",
    "        return x,y,z\n",
    "    \n",
    "LLAtoXYZ_cupy(-38.123456,-124.65432,230,-20)\n",
    "#X= -2856867.422762463\n",
    "#Y= -4132876.8004144537\n",
    "#Z= -3916387.577890978"
   ]
  },
  {
   "cell_type": "code",
   "execution_count": 25,
   "metadata": {},
   "outputs": [],
   "source": [
    "points_10k_cp = cp.array(points_10k_np)\n",
    "points_1m_cp = cp.array(points_1m_np)\n",
    "points_obj_cp = (points_10k_cp, points_1m_cp)"
   ]
  },
  {
   "cell_type": "code",
   "execution_count": 26,
   "metadata": {},
   "outputs": [
    {
     "name": "stdout",
     "output_type": "stream",
     "text": [
      "456 µs ± 84.4 µs per loop (mean ± std. dev. of 5 runs, 50 loops each)\n",
      "The slowest run took 4.27 times longer than the fastest. This could mean that an intermediate result is being cached.\n",
      "3.27 ms ± 1.16 ms per loop (mean ± std. dev. of 5 runs, 50 loops each)\n"
     ]
    }
   ],
   "source": [
    "test_config_name = 'Cupy (Native)'\n",
    "for points in points_obj_cp:\n",
    "    r = %timeit -n 50 -r 5 -o results = LLAtoXYZ_cupy(points[:,0],points[:,1],points[:,2],points[:,3],True)\n",
    "    row = timing_results_filler(r)\n",
    "    row['Name'] = test_config_name\n",
    "    row['Num of Points'] = points.shape[0]\n",
    "    timing_results = timing_results.append(pd.Series(row),ignore_index=True)"
   ]
  },
  {
   "cell_type": "markdown",
   "metadata": {},
   "source": [
    "# Pandas (Serialized)\n",
    "added to show how slow pandas can be if not vectorized"
   ]
  },
  {
   "cell_type": "code",
   "execution_count": 27,
   "metadata": {
    "ExecuteTime": {
     "end_time": "2016-10-10T15:28:10.202544",
     "start_time": "2016-10-10T19:12:06.378Z"
    }
   },
   "outputs": [],
   "source": [
    "# r = %timeit -n 5 -r 5 -o points_df['X'],points_df['Y'],points_df['Z'] = \\ \n",
    "#                           zip(*points_df.apply(lambda row: LLAtoXYZ_raw(row[0], \\\n",
    "#                                                                         row[1], \\\n",
    "#                                                                         row[2], \\\n",
    "#                                                                         row[3]), \\\n",
    "#                                                                         axis=1))\n",
    "# timing_results.loc['Pandas (Serialized)'] = timing_results_filler(r)"
   ]
  },
  {
   "cell_type": "markdown",
   "metadata": {},
   "source": [
    "# Pandas (Vectorized)"
   ]
  },
  {
   "cell_type": "code",
   "execution_count": 28,
   "metadata": {
    "ExecuteTime": {
     "end_time": "2016-10-10T15:28:10.203036",
     "start_time": "2016-10-10T19:12:06.381Z"
    }
   },
   "outputs": [
    {
     "name": "stdout",
     "output_type": "stream",
     "text": [
      "6.19 ms ± 146 µs per loop (mean ± std. dev. of 5 runs, 50 loops each)\n",
      "235 ms ± 3.33 ms per loop (mean ± std. dev. of 5 runs, 50 loops each)\n"
     ]
    }
   ],
   "source": [
    "test_config_name = 'Pandas (Native)'\n",
    "for points_df in points_obj_df:\n",
    "    r = %timeit -n 50 -r 5 -o points_df['X'],points_df['Y'],points_df['Z'] = LLAtoXYZ_numpy(points_df['Lat'], \\\n",
    "                                                                                            points_df['Long'], \\\n",
    "                                                                                            points_df['Alt'], \\\n",
    "                                                                                            points_df['Geoid'],False)\n",
    "    row = timing_results_filler(r)\n",
    "    row['Name'] = test_config_name\n",
    "    row['Num of Points'] = len(points_df)\n",
    "    timing_results = timing_results.append(pd.Series(row),ignore_index=True)"
   ]
  },
  {
   "cell_type": "markdown",
   "metadata": {},
   "source": [
    "# Numpy (Vectorize)"
   ]
  },
  {
   "cell_type": "code",
   "execution_count": 29,
   "metadata": {},
   "outputs": [],
   "source": [
    "np_vec = np.vectorize(LLAtoXYZ_numpy)"
   ]
  },
  {
   "cell_type": "code",
   "execution_count": 30,
   "metadata": {},
   "outputs": [
    {
     "name": "stdout",
     "output_type": "stream",
     "text": [
      "146 ms ± 0 ns per loop (mean ± std. dev. of 1 run, 1 loop each)\n",
      "14.6 s ± 0 ns per loop (mean ± std. dev. of 1 run, 1 loop each)\n"
     ]
    }
   ],
   "source": [
    "test_config_name = 'Numpy (Vectorize)'\n",
    "for points_df in points_obj_df:\n",
    "    r = %timeit -n 1 -r 1 -o points_df['X'],points_df['Y'],points_df['Z'] = np_vec(points_df['Lat'], \\\n",
    "                                                                                            points_df['Long'], \\\n",
    "                                                                                            points_df['Alt'], \\\n",
    "                                                                                            points_df['Geoid'],False)\n",
    "    row = timing_results_filler(r)\n",
    "    row['Name'] = test_config_name\n",
    "    row['Num of Points'] = len(points_df)\n",
    "    timing_results = timing_results.append(pd.Series(row),ignore_index=True)"
   ]
  },
  {
   "cell_type": "markdown",
   "metadata": {},
   "source": [
    "# Numba"
   ]
  },
  {
   "cell_type": "code",
   "execution_count": 31,
   "metadata": {
    "ExecuteTime": {
     "end_time": "2016-10-10T15:28:10.203347",
     "start_time": "2016-10-10T19:12:06.387Z"
    }
   },
   "outputs": [
    {
     "name": "stderr",
     "output_type": "stream",
     "text": [
      "<ipython-input-31-07a83d46d1da>:1: NumbaWarning: \u001b[1m\n",
      "Compilation is falling back to object mode WITH looplifting enabled because Function \"LLAtoXYZ_jit\" failed type inference due to: \u001b[1mCan't unify return type from the following types: UniTuple(float64 x 3), array(float64, 1d, C)\n",
      "\u001b[1mReturn of: IR name '$152.5', type 'UniTuple(float64 x 3)', location: \u001b[1m\n",
      "File \"<ipython-input-31-07a83d46d1da>\", line 21:\u001b[0m\n",
      "\u001b[1mdef LLAtoXYZ_jit (latitude, longitude, altitude, geoidSepIn = 0, return_array = False):\n",
      "    <source elided>\n",
      "    else:\n",
      "\u001b[1m        return x,y,z\n",
      "\u001b[0m        \u001b[1m^\u001b[0m\u001b[0m\u001b[0m\n",
      "\u001b[1mReturn of: IR name '$136.8', type 'array(float64, 1d, C)', location: \u001b[1m\n",
      "File \"<ipython-input-31-07a83d46d1da>\", line 19:\u001b[0m\n",
      "\u001b[1mdef LLAtoXYZ_jit (latitude, longitude, altitude, geoidSepIn = 0, return_array = False):\n",
      "    <source elided>\n",
      "    if return_array:\n",
      "\u001b[1m        return np.array([x,y,z])\n",
      "\u001b[0m        \u001b[1m^\u001b[0m\u001b[0m\u001b[0m\u001b[0m\u001b[0m\n",
      "  @jit\n",
      "/home/ec2-user/anaconda3/envs/python3/lib/python3.6/site-packages/numba/core/object_mode_passes.py:152: NumbaWarning: \u001b[1mFunction \"LLAtoXYZ_jit\" was compiled in object mode without forceobj=True.\n",
      "\u001b[1m\n",
      "File \"<ipython-input-31-07a83d46d1da>\", line 2:\u001b[0m\n",
      "\u001b[1m@jit\n",
      "\u001b[1mdef LLAtoXYZ_jit (latitude, longitude, altitude, geoidSepIn = 0, return_array = False):\n",
      "\u001b[0m\u001b[1m^\u001b[0m\u001b[0m\n",
      "\u001b[0m\n",
      "  state.func_ir.loc))\n",
      "/home/ec2-user/anaconda3/envs/python3/lib/python3.6/site-packages/numba/core/object_mode_passes.py:162: NumbaDeprecationWarning: \u001b[1m\n",
      "Fall-back from the nopython compilation path to the object mode compilation path has been detected, this is deprecated behaviour.\n",
      "\n",
      "For more information visit https://numba.pydata.org/numba-doc/latest/reference/deprecation.html#deprecation-of-object-mode-fall-back-behaviour-when-using-jit\n",
      "\u001b[1m\n",
      "File \"<ipython-input-31-07a83d46d1da>\", line 2:\u001b[0m\n",
      "\u001b[1m@jit\n",
      "\u001b[1mdef LLAtoXYZ_jit (latitude, longitude, altitude, geoidSepIn = 0, return_array = False):\n",
      "\u001b[0m\u001b[1m^\u001b[0m\u001b[0m\n",
      "\u001b[0m\n",
      "  state.func_ir.loc))\n"
     ]
    },
    {
     "data": {
      "text/plain": [
       "(-2856867.422762463, -4132876.8004144537, -3916387.577890978)"
      ]
     },
     "execution_count": 31,
     "metadata": {},
     "output_type": "execute_result"
    }
   ],
   "source": [
    "@jit\n",
    "def LLAtoXYZ_jit (latitude, longitude, altitude, geoidSepIn = 0, return_array = False):\n",
    "    # LLAtoXYZ converts a position (latitude, longitude, altitude) to the ECEF X, Y, Z format.\n",
    "    # The function expects Lat and Long in degrees and Alt in meters and outputs X, Y, Z in meters. \n",
    "    # geoidSepIn is the height of the geoid above the WGS84 ellipsoid. It is optional and assumed \n",
    "    # to be 0 if not provided (meaning geoid-to-ellipsoid differences are ignored)\n",
    "    \n",
    "    latitude_rad = radians(latitude)\n",
    "    longitude_rad = radians(longitude)\n",
    "    height = altitude - geoidSepIn\n",
    "    cos_lat = cos(latitude_rad)\n",
    "     \n",
    "    r = a / np.sqrt(1 - ee * sin(latitude_rad) * sin(latitude_rad))\n",
    "    x = (r + height) * cos_lat * cos(longitude_rad)\n",
    "    y = (r + height) * cos_lat * sin(longitude_rad)\n",
    "    z = ((1 - ee) * r + height) * sin(latitude_rad)\n",
    "    \n",
    "    if return_array:\n",
    "        return np.array([x,y,z])\n",
    "    else:\n",
    "        return x,y,z\n",
    "    \n",
    "LLAtoXYZ_jit(-38.123456,-124.65432,230,-20)\n",
    "#X= -2856867.422762463\n",
    "#Y= -4132876.8004144537\n",
    "#Z= -3916387.577890978"
   ]
  },
  {
   "cell_type": "code",
   "execution_count": 32,
   "metadata": {
    "ExecuteTime": {
     "end_time": "2016-10-10T15:28:10.203618",
     "start_time": "2016-10-10T19:12:06.390Z"
    }
   },
   "outputs": [
    {
     "name": "stderr",
     "output_type": "stream",
     "text": [
      "<ipython-input-31-07a83d46d1da>:1: NumbaWarning: \u001b[1m\n",
      "Compilation is falling back to object mode WITH looplifting enabled because Function \"LLAtoXYZ_jit\" failed type inference due to: \u001b[1m\u001b[1m\u001b[1mNo implementation of function Function(<built-in function array>) found for signature:\n",
      " \n",
      " >>> array(list(array(float64, 1d, C))<iv=None>)\n",
      " \n",
      "There are 2 candidate implementations:\n",
      "\u001b[1m  - Of which 2 did not match due to:\n",
      "  Overload in function 'array': File: numba/core/typing/npydecl.py: Line 485.\n",
      "    With argument(s): '(list(array(float64, 1d, C))<iv=None>)':\u001b[0m\n",
      "\u001b[1m   Rejected as the implementation raised a specific error:\n",
      "     TypingError: \u001b[1marray(float64, 1d, C) not allowed in a homogeneous sequence\u001b[0m\u001b[0m\n",
      "  raised from /home/ec2-user/anaconda3/envs/python3/lib/python3.6/site-packages/numba/core/typing/npydecl.py:453\n",
      "\u001b[0m\n",
      "\u001b[0m\u001b[1mDuring: resolving callee type: Function(<built-in function array>)\u001b[0m\n",
      "\u001b[0m\u001b[1mDuring: typing of call at <ipython-input-31-07a83d46d1da> (19)\n",
      "\u001b[0m\n",
      "\u001b[1m\n",
      "File \"<ipython-input-31-07a83d46d1da>\", line 19:\u001b[0m\n",
      "\u001b[1mdef LLAtoXYZ_jit (latitude, longitude, altitude, geoidSepIn = 0, return_array = False):\n",
      "    <source elided>\n",
      "    if return_array:\n",
      "\u001b[1m        return np.array([x,y,z])\n",
      "\u001b[0m        \u001b[1m^\u001b[0m\u001b[0m\n",
      "\u001b[0m\n",
      "  @jit\n",
      "/home/ec2-user/anaconda3/envs/python3/lib/python3.6/site-packages/numba/core/object_mode_passes.py:152: NumbaWarning: \u001b[1mFunction \"LLAtoXYZ_jit\" was compiled in object mode without forceobj=True.\n",
      "\u001b[1m\n",
      "File \"<ipython-input-31-07a83d46d1da>\", line 2:\u001b[0m\n",
      "\u001b[1m@jit\n",
      "\u001b[1mdef LLAtoXYZ_jit (latitude, longitude, altitude, geoidSepIn = 0, return_array = False):\n",
      "\u001b[0m\u001b[1m^\u001b[0m\u001b[0m\n",
      "\u001b[0m\n",
      "  state.func_ir.loc))\n",
      "/home/ec2-user/anaconda3/envs/python3/lib/python3.6/site-packages/numba/core/object_mode_passes.py:162: NumbaDeprecationWarning: \u001b[1m\n",
      "Fall-back from the nopython compilation path to the object mode compilation path has been detected, this is deprecated behaviour.\n",
      "\n",
      "For more information visit https://numba.pydata.org/numba-doc/latest/reference/deprecation.html#deprecation-of-object-mode-fall-back-behaviour-when-using-jit\n",
      "\u001b[1m\n",
      "File \"<ipython-input-31-07a83d46d1da>\", line 2:\u001b[0m\n",
      "\u001b[1m@jit\n",
      "\u001b[1mdef LLAtoXYZ_jit (latitude, longitude, altitude, geoidSepIn = 0, return_array = False):\n",
      "\u001b[0m\u001b[1m^\u001b[0m\u001b[0m\n",
      "\u001b[0m\n",
      "  state.func_ir.loc))\n"
     ]
    },
    {
     "name": "stdout",
     "output_type": "stream",
     "text": [
      "The slowest run took 5.23 times longer than the fastest. This could mean that an intermediate result is being cached.\n",
      "3.73 ms ± 3.42 ms per loop (mean ± std. dev. of 5 runs, 50 loops each)\n",
      "227 ms ± 1.12 ms per loop (mean ± std. dev. of 5 runs, 50 loops each)\n"
     ]
    }
   ],
   "source": [
    "test_config_name = 'Numba (with Numpy Arrays)'\n",
    "for points in points_obj_np:\n",
    "    r = %timeit -n 50 -r 5 -o results = LLAtoXYZ_jit(points[:,0],points[:,1],points[:,2],points[:,3],True)\n",
    "    row = timing_results_filler(r)\n",
    "    row['Name'] = test_config_name\n",
    "    row['Num of Points'] = points.shape[0]\n",
    "    timing_results = timing_results.append(pd.Series(row),ignore_index=True)"
   ]
  },
  {
   "cell_type": "code",
   "execution_count": 33,
   "metadata": {
    "ExecuteTime": {
     "end_time": "2016-10-10T15:28:10.204080",
     "start_time": "2016-10-10T19:12:06.394Z"
    }
   },
   "outputs": [
    {
     "name": "stderr",
     "output_type": "stream",
     "text": [
      "<ipython-input-31-07a83d46d1da>:1: NumbaWarning: \u001b[1m\n",
      "Compilation is falling back to object mode WITH looplifting enabled because Function \"LLAtoXYZ_jit\" failed type inference due to: \u001b[1m\u001b[1mnon-precise type pyobject\u001b[0m\n",
      "\u001b[0m\u001b[1mDuring: typing of argument at <ipython-input-31-07a83d46d1da> (8)\u001b[0m\n",
      "\u001b[1m\n",
      "File \"<ipython-input-31-07a83d46d1da>\", line 8:\u001b[0m\n",
      "\u001b[1mdef LLAtoXYZ_jit (latitude, longitude, altitude, geoidSepIn = 0, return_array = False):\n",
      "    <source elided>\n",
      "    \n",
      "\u001b[1m    latitude_rad = radians(latitude)\n",
      "\u001b[0m    \u001b[1m^\u001b[0m\u001b[0m\n",
      "\u001b[0m\n",
      "  @jit\n",
      "/home/ec2-user/anaconda3/envs/python3/lib/python3.6/site-packages/numba/core/object_mode_passes.py:152: NumbaWarning: \u001b[1mFunction \"LLAtoXYZ_jit\" was compiled in object mode without forceobj=True.\n",
      "\u001b[1m\n",
      "File \"<ipython-input-31-07a83d46d1da>\", line 2:\u001b[0m\n",
      "\u001b[1m@jit\n",
      "\u001b[1mdef LLAtoXYZ_jit (latitude, longitude, altitude, geoidSepIn = 0, return_array = False):\n",
      "\u001b[0m\u001b[1m^\u001b[0m\u001b[0m\n",
      "\u001b[0m\n",
      "  state.func_ir.loc))\n",
      "/home/ec2-user/anaconda3/envs/python3/lib/python3.6/site-packages/numba/core/object_mode_passes.py:162: NumbaDeprecationWarning: \u001b[1m\n",
      "Fall-back from the nopython compilation path to the object mode compilation path has been detected, this is deprecated behaviour.\n",
      "\n",
      "For more information visit https://numba.pydata.org/numba-doc/latest/reference/deprecation.html#deprecation-of-object-mode-fall-back-behaviour-when-using-jit\n",
      "\u001b[1m\n",
      "File \"<ipython-input-31-07a83d46d1da>\", line 2:\u001b[0m\n",
      "\u001b[1m@jit\n",
      "\u001b[1mdef LLAtoXYZ_jit (latitude, longitude, altitude, geoidSepIn = 0, return_array = False):\n",
      "\u001b[0m\u001b[1m^\u001b[0m\u001b[0m\n",
      "\u001b[0m\n",
      "  state.func_ir.loc))\n"
     ]
    },
    {
     "name": "stdout",
     "output_type": "stream",
     "text": [
      "7.57 ms ± 2.5 ms per loop (mean ± std. dev. of 5 runs, 50 loops each)\n",
      "230 ms ± 4.4 ms per loop (mean ± std. dev. of 5 runs, 50 loops each)\n"
     ]
    }
   ],
   "source": [
    "test_config_name = 'Numba (with Pandas)'\n",
    "for points_df in points_obj_df:\n",
    "    r = %timeit -n 50 -r 5 -o points_df['X'],points_df['Y'],points_df['Z'] = LLAtoXYZ_jit(points_df['Lat'], \\\n",
    "                                                                                          points_df['Long'], \\\n",
    "                                                                                          points_df['Alt'], \\\n",
    "                                                                                          points_df['Geoid'],False)\n",
    "    row = timing_results_filler(r)\n",
    "    row['Name'] = test_config_name\n",
    "    row['Num of Points'] = len(points_df)\n",
    "    timing_results = timing_results.append(pd.Series(row),ignore_index=True)"
   ]
  },
  {
   "cell_type": "markdown",
   "metadata": {},
   "source": [
    "# Numexpr"
   ]
  },
  {
   "cell_type": "code",
   "execution_count": 34,
   "metadata": {
    "ExecuteTime": {
     "end_time": "2016-10-10T15:28:10.213655",
     "start_time": "2016-10-10T19:12:06.397Z"
    }
   },
   "outputs": [
    {
     "data": {
      "text/plain": [
       "(array(-2856867.42276246), array(-4132876.80041445), array(-3916387.57789098))"
      ]
     },
     "execution_count": 34,
     "metadata": {},
     "output_type": "execute_result"
    }
   ],
   "source": [
    "def LLAtoXYZ_ne (latitude, longitude, altitude, geoidSepIn = 0, return_array = False):\n",
    "    # LLAtoXYZ converts a position (latitude, longitude, altitude) to the ECEF X, Y, Z format.\n",
    "    # The function expects Lat and Long in degrees and Alt in meters and outputs X, Y, Z in meters. \n",
    "    # geoidSepIn is the height of the geoid above the WGS84 ellipsoid. It is optional and assumed \n",
    "    # to be 0 if not provided (meaning geoid-to-ellipsoid differences are ignored)\n",
    "    \n",
    "    latitude_rad = radians(latitude)\n",
    "    longitude_rad = radians(longitude)\n",
    "    height = altitude - geoidSepIn\n",
    "     \n",
    "    r = ne.evaluate(\"a / sqrt(1 - ee * sin(latitude_rad)**2)\")\n",
    "    x = ne.evaluate(\"(r + height) * cos(latitude_rad) * cos(longitude_rad)\")\n",
    "    y = ne.evaluate(\"(r + height) * cos(latitude_rad) * sin(longitude_rad)\")\n",
    "    z = ne.evaluate(\"((1 - ee) * r + height) * sin(latitude_rad)\")\n",
    "    \n",
    "    if return_array:\n",
    "        return np.array([x,y,z])\n",
    "    else:\n",
    "        return x,y,z\n",
    "    \n",
    "LLAtoXYZ_ne(-38.123456,-124.65432,230,-20)\n",
    "#X= -2856867.422762463\n",
    "#Y= -4132876.8004144537\n",
    "#Z= -3916387.577890978"
   ]
  },
  {
   "cell_type": "code",
   "execution_count": 35,
   "metadata": {
    "ExecuteTime": {
     "end_time": "2016-10-10T15:28:10.214670",
     "start_time": "2016-10-10T19:12:06.401Z"
    }
   },
   "outputs": [
    {
     "name": "stdout",
     "output_type": "stream",
     "text": [
      "1.32 ms ± 20 µs per loop (mean ± std. dev. of 5 runs, 50 loops each)\n",
      "85.9 ms ± 901 µs per loop (mean ± std. dev. of 5 runs, 50 loops each)\n"
     ]
    }
   ],
   "source": [
    "test_config_name = 'Numexpr (with Numpy Arrays)'\n",
    "for points in points_obj_np:\n",
    "    r = %timeit -n 50 -r 5 -o results = LLAtoXYZ_ne(points[:,0],points[:,0],points[:,0],points[:,0],True)\n",
    "    row = timing_results_filler(r)\n",
    "    row['Name'] = test_config_name\n",
    "    row['Num of Points'] = points.shape[0]\n",
    "    timing_results = timing_results.append(pd.Series(row),ignore_index=True)"
   ]
  },
  {
   "cell_type": "code",
   "execution_count": 36,
   "metadata": {
    "ExecuteTime": {
     "end_time": "2016-10-10T15:28:10.216565",
     "start_time": "2016-10-10T19:12:06.405Z"
    }
   },
   "outputs": [
    {
     "name": "stdout",
     "output_type": "stream",
     "text": [
      "2.43 ms ± 18.9 µs per loop (mean ± std. dev. of 5 runs, 50 loops each)\n",
      "89 ms ± 360 µs per loop (mean ± std. dev. of 5 runs, 50 loops each)\n"
     ]
    }
   ],
   "source": [
    "test_config_name = 'Numexpr (with Pandas)'\n",
    "for points_df in points_obj_df:\n",
    "    r = %timeit -n 50 -r 5 -o points_df['X'],points_df['Y'],points_df['Z'] = LLAtoXYZ_ne(points_df['Lat'], \\\n",
    "                                                                                         points_df['Long'], \\\n",
    "                                                                                         points_df['Alt'], \\\n",
    "                                                                                         points_df['Geoid'],False)\n",
    "    row = timing_results_filler(r)\n",
    "    row['Name'] = test_config_name\n",
    "    row['Num of Points'] = len(points_df)\n",
    "    timing_results = timing_results.append(pd.Series(row),ignore_index=True)"
   ]
  },
  {
   "cell_type": "markdown",
   "metadata": {},
   "source": [
    "# Cython"
   ]
  },
  {
   "cell_type": "code",
   "execution_count": 37,
   "metadata": {
    "ExecuteTime": {
     "end_time": "2016-10-10T15:28:10.217095",
     "start_time": "2016-10-10T19:12:06.408Z"
    }
   },
   "outputs": [],
   "source": [
    "%load_ext Cython"
   ]
  },
  {
   "cell_type": "code",
   "execution_count": 38,
   "metadata": {
    "ExecuteTime": {
     "end_time": "2016-10-10T15:28:10.217407",
     "start_time": "2016-10-10T19:12:06.417Z"
    }
   },
   "outputs": [],
   "source": [
    "%%cython\n",
    "from cython cimport boundscheck, wraparound\n",
    "from libc.math cimport sin, cos, sqrt, M_PI\n",
    "import numpy as np\n",
    "cimport numpy as cnp\n",
    "\n",
    "cdef double a = 6378137       # Semi-major axis \n",
    "cdef double b = 6356752.3142  # Semi-minor axis\n",
    "cdef double f = (a - b) / a   # flattening\n",
    "cdef double e = 0.081819191\n",
    "cdef double ecc = e*e\n",
    "cdef double radians = M_PI/180.0\n",
    "\n",
    "@boundscheck(False)\n",
    "@wraparound(False)\n",
    "def LLAtoXYZ_cy(double[:] latitude, \n",
    "                double[:] longitude, \n",
    "                double[:] altitude, \n",
    "                double[:] geoidSepIn):\n",
    "    cdef int i\n",
    "    cdef int l = len(latitude)\n",
    "    \n",
    "    cdef double[:] x = np.empty(l, dtype=np.double)\n",
    "    cdef double[:] y = np.empty(l, dtype=np.double)\n",
    "    cdef double[:] z = np.empty(l, dtype=np.double)\n",
    "    \n",
    "    cdef double latitude_rad\n",
    "    cdef double longitude_rad\n",
    "    cdef double height\n",
    "    cdef double s_lat\n",
    "    cdef double c_lat\n",
    "    cdef double r\n",
    "    \n",
    "    for i in range(l):\n",
    "        latitude_rad = radians*latitude[i]\n",
    "        longitude_rad = radians*longitude[i]\n",
    "        height = altitude[i] - geoidSepIn[i]\n",
    "        s_lat  = sin(latitude_rad)\n",
    "        c_lat  = cos(latitude_rad)\n",
    "         \n",
    "        r = a / sqrt(1 - ecc * s_lat * s_lat)\n",
    "        x[i] = (r + height) * c_lat * cos(longitude_rad)\n",
    "        y[i] = (r + height) * c_lat * sin(longitude_rad)\n",
    "        z[i] = ((1-ecc) * r + height) * s_lat\n",
    "        \n",
    "    return x,y,z"
   ]
  },
  {
   "cell_type": "code",
   "execution_count": 39,
   "metadata": {
    "ExecuteTime": {
     "end_time": "2016-10-10T15:28:10.217921",
     "start_time": "2016-10-10T19:12:06.421Z"
    }
   },
   "outputs": [
    {
     "name": "stdout",
     "output_type": "stream",
     "text": [
      "-2856867.422762463 -4132876.8004144537 -3916387.577890978\n"
     ]
    }
   ],
   "source": [
    "results_c = LLAtoXYZ_cy(np.array([-38.123456], dtype=np.double),\n",
    "                     np.array([-124.65432], dtype=np.double),\n",
    "                     np.array([230], dtype=np.double),\n",
    "                       np.array([-20], dtype=np.double))\n",
    "print (results_c[0][0], results_c[1][0], results_c[2][0])\n",
    "#X= -2856867.422762463\n",
    "#Y= -4132876.8004144537\n",
    "#Z= -3916387.577890978)"
   ]
  },
  {
   "cell_type": "code",
   "execution_count": 40,
   "metadata": {
    "ExecuteTime": {
     "end_time": "2016-10-10T15:28:10.218412",
     "start_time": "2016-10-10T19:12:06.423Z"
    }
   },
   "outputs": [
    {
     "name": "stdout",
     "output_type": "stream",
     "text": [
      "1.2 ms ± 32.7 µs per loop (mean ± std. dev. of 5 runs, 50 loops each)\n",
      "118 ms ± 102 µs per loop (mean ± std. dev. of 5 runs, 50 loops each)\n"
     ]
    }
   ],
   "source": [
    "test_config_name = 'Cython (with Numpy Arrays)'\n",
    "for points in points_obj_np:\n",
    "    r = %timeit -n 50 -r 5 -o results=LLAtoXYZ_cy(points[:,0],points[:,1],points[:,2],points[:,3])\n",
    "    row = timing_results_filler(r)\n",
    "    row['Name'] = test_config_name\n",
    "    row['Num of Points'] = points.shape[0]\n",
    "    timing_results = timing_results.append(pd.Series(row),ignore_index=True)"
   ]
  },
  {
   "cell_type": "markdown",
   "metadata": {},
   "source": [
    "# Cython (parallel)"
   ]
  },
  {
   "cell_type": "code",
   "execution_count": 41,
   "metadata": {
    "ExecuteTime": {
     "end_time": "2016-10-10T15:28:10.218963",
     "start_time": "2016-10-10T19:12:06.426Z"
    }
   },
   "outputs": [],
   "source": [
    "%%cython\n",
    "from cython cimport boundscheck, wraparound\n",
    "from cython.parallel cimport prange\n",
    "from libc.math cimport sin, cos, sqrt, M_PI\n",
    "import numpy as np\n",
    "cimport numpy as cnp\n",
    "\n",
    "cdef double a = 6378137       # Semi-major axis \n",
    "cdef double b = 6356752.3142  # Semi-minor axis\n",
    "cdef double f = (a - b) / a   # flattening\n",
    "cdef double e = 0.081819191\n",
    "cdef double ecc = e*e\n",
    "cdef double radians = M_PI/180.0\n",
    "\n",
    "@boundscheck(False)\n",
    "@wraparound(False)\n",
    "def LLAtoXYZ_cy_par(double[:] latitude, \n",
    "                double[:] longitude, \n",
    "                double[:] altitude, \n",
    "                double[:] geoidSepIn):\n",
    "    cdef int i\n",
    "    cdef int l = len(latitude)\n",
    "    \n",
    "    cdef double[:] x = np.empty(l, dtype=np.double)\n",
    "    cdef double[:] y = np.empty(l, dtype=np.double)\n",
    "    cdef double[:] z = np.empty(l, dtype=np.double)\n",
    "    \n",
    "    cdef double latitude_rad\n",
    "    cdef double longitude_rad\n",
    "    cdef double height\n",
    "    cdef double s_lat\n",
    "    cdef double c_lat\n",
    "    cdef double r\n",
    "    \n",
    "    for i in prange(l, nogil=True):\n",
    "        latitude_rad = radians*latitude[i]\n",
    "        longitude_rad = radians*longitude[i]\n",
    "        height = altitude[i] - geoidSepIn[i]\n",
    "        s_lat  = sin(latitude_rad)\n",
    "        c_lat  = cos(latitude_rad)\n",
    "         \n",
    "        r = a / sqrt(1 - ecc * s_lat * s_lat)\n",
    "        x[i] = (r + height) * c_lat * cos(longitude_rad)\n",
    "        y[i] = (r + height) * c_lat * sin(longitude_rad)\n",
    "        z[i] = ((1-ecc) * r + height) * s_lat\n",
    "        \n",
    "    return x,y,z"
   ]
  },
  {
   "cell_type": "code",
   "execution_count": 42,
   "metadata": {
    "ExecuteTime": {
     "end_time": "2016-10-10T15:28:10.219491",
     "start_time": "2016-10-10T19:12:06.432Z"
    }
   },
   "outputs": [
    {
     "name": "stdout",
     "output_type": "stream",
     "text": [
      "-2856867.422762463 -4132876.8004144537 -3916387.577890978\n"
     ]
    }
   ],
   "source": [
    "results_c = LLAtoXYZ_cy_par(np.array([-38.123456], dtype=np.double),\n",
    "                     np.array([-124.65432], dtype=np.double),\n",
    "                     np.array([230], dtype=np.double),\n",
    "                       np.array([-20], dtype=np.double))\n",
    "print (results_c[0][0], results_c[1][0], results_c[2][0])\n",
    "#X= -2856867.422762463\n",
    "#Y= -4132876.8004144537\n",
    "#Z= -3916387.577890978)"
   ]
  },
  {
   "cell_type": "code",
   "execution_count": 43,
   "metadata": {
    "ExecuteTime": {
     "end_time": "2016-10-10T15:28:10.227590",
     "start_time": "2016-10-10T19:12:06.436Z"
    }
   },
   "outputs": [
    {
     "name": "stdout",
     "output_type": "stream",
     "text": [
      "1.2 ms ± 3.48 µs per loop (mean ± std. dev. of 5 runs, 50 loops each)\n",
      "120 ms ± 69.4 µs per loop (mean ± std. dev. of 5 runs, 50 loops each)\n"
     ]
    }
   ],
   "source": [
    "test_config_name = 'Cython.Parallel (with Numpy Arrays)'\n",
    "for points in points_obj_np:\n",
    "    r = %timeit -n 50 -r 5 -o results=LLAtoXYZ_cy_par(points[:,0],points[:,1],points[:,2],points[:,3])\n",
    "    row = timing_results_filler(r)\n",
    "    row['Name'] = test_config_name\n",
    "    row['Num of Points'] = points.shape[0]\n",
    "    timing_results = timing_results.append(pd.Series(row),ignore_index=True)"
   ]
  },
  {
   "cell_type": "markdown",
   "metadata": {},
   "source": [
    "# Summary"
   ]
  },
  {
   "cell_type": "code",
   "execution_count": 44,
   "metadata": {
    "ExecuteTime": {
     "end_time": "2016-10-10T15:28:10.231555",
     "start_time": "2016-10-10T19:12:06.438Z"
    }
   },
   "outputs": [],
   "source": [
    "def results_update(data):\n",
    "    data = data.set_index('Name')\n",
    "    data['Vs Native Python'] = data.loc['Native Python']['Time (sec)'] / data['Time (sec)']\n",
    "    data['Time per Point (usec)'] = data['Time (sec)'] / data['Num of Points'] * 1000000\n",
    "    return data"
   ]
  },
  {
   "cell_type": "code",
   "execution_count": 45,
   "metadata": {
    "ExecuteTime": {
     "end_time": "2016-10-10T15:28:10.232181",
     "start_time": "2016-10-10T19:12:06.443Z"
    }
   },
   "outputs": [],
   "source": [
    "timing_results = timing_results.groupby('Num of Points').apply(results_update)"
   ]
  },
  {
   "cell_type": "code",
   "execution_count": 46,
   "metadata": {
    "ExecuteTime": {
     "end_time": "2016-10-10T15:28:10.232468",
     "start_time": "2016-10-10T19:12:06.446Z"
    }
   },
   "outputs": [
    {
     "data": {
      "text/html": [
       "<div>\n",
       "<style scoped>\n",
       "    .dataframe tbody tr th:only-of-type {\n",
       "        vertical-align: middle;\n",
       "    }\n",
       "\n",
       "    .dataframe tbody tr th {\n",
       "        vertical-align: top;\n",
       "    }\n",
       "\n",
       "    .dataframe thead th {\n",
       "        text-align: right;\n",
       "    }\n",
       "</style>\n",
       "<table border=\"1\" class=\"dataframe\">\n",
       "  <thead>\n",
       "    <tr style=\"text-align: right;\">\n",
       "      <th></th>\n",
       "      <th></th>\n",
       "      <th>Loops</th>\n",
       "      <th>Num of Points</th>\n",
       "      <th>Repeat</th>\n",
       "      <th>Time (sec)</th>\n",
       "      <th>Vs Native Python</th>\n",
       "      <th>Time per Point (usec)</th>\n",
       "    </tr>\n",
       "    <tr>\n",
       "      <th>Num of Points</th>\n",
       "      <th>Name</th>\n",
       "      <th></th>\n",
       "      <th></th>\n",
       "      <th></th>\n",
       "      <th></th>\n",
       "      <th></th>\n",
       "      <th></th>\n",
       "    </tr>\n",
       "  </thead>\n",
       "  <tbody>\n",
       "    <tr>\n",
       "      <th rowspan=\"11\" valign=\"top\">10000.0</th>\n",
       "      <th>Native Python</th>\n",
       "      <td>100.0</td>\n",
       "      <td>10000.0</td>\n",
       "      <td>7.0</td>\n",
       "      <td>0.013445</td>\n",
       "      <td>1.000000</td>\n",
       "      <td>1.344548</td>\n",
       "    </tr>\n",
       "    <tr>\n",
       "      <th>Numpy (Native)</th>\n",
       "      <td>50.0</td>\n",
       "      <td>10000.0</td>\n",
       "      <td>5.0</td>\n",
       "      <td>0.001986</td>\n",
       "      <td>6.771266</td>\n",
       "      <td>0.198567</td>\n",
       "    </tr>\n",
       "    <tr>\n",
       "      <th>Cupy (Native)</th>\n",
       "      <td>50.0</td>\n",
       "      <td>10000.0</td>\n",
       "      <td>5.0</td>\n",
       "      <td>0.000401</td>\n",
       "      <td>33.493486</td>\n",
       "      <td>0.040144</td>\n",
       "    </tr>\n",
       "    <tr>\n",
       "      <th>Pandas (Native)</th>\n",
       "      <td>50.0</td>\n",
       "      <td>10000.0</td>\n",
       "      <td>5.0</td>\n",
       "      <td>0.006039</td>\n",
       "      <td>2.226478</td>\n",
       "      <td>0.603890</td>\n",
       "    </tr>\n",
       "    <tr>\n",
       "      <th>Numpy (Vectorize)</th>\n",
       "      <td>1.0</td>\n",
       "      <td>10000.0</td>\n",
       "      <td>1.0</td>\n",
       "      <td>0.146234</td>\n",
       "      <td>0.091945</td>\n",
       "      <td>14.623436</td>\n",
       "    </tr>\n",
       "    <tr>\n",
       "      <th>Numba (with Numpy Arrays)</th>\n",
       "      <td>50.0</td>\n",
       "      <td>10000.0</td>\n",
       "      <td>5.0</td>\n",
       "      <td>0.002018</td>\n",
       "      <td>6.661854</td>\n",
       "      <td>0.201828</td>\n",
       "    </tr>\n",
       "    <tr>\n",
       "      <th>Numba (with Pandas)</th>\n",
       "      <td>50.0</td>\n",
       "      <td>10000.0</td>\n",
       "      <td>5.0</td>\n",
       "      <td>0.006309</td>\n",
       "      <td>2.131232</td>\n",
       "      <td>0.630878</td>\n",
       "    </tr>\n",
       "    <tr>\n",
       "      <th>Numexpr (with Numpy Arrays)</th>\n",
       "      <td>50.0</td>\n",
       "      <td>10000.0</td>\n",
       "      <td>5.0</td>\n",
       "      <td>0.001303</td>\n",
       "      <td>10.318788</td>\n",
       "      <td>0.130301</td>\n",
       "    </tr>\n",
       "    <tr>\n",
       "      <th>Numexpr (with Pandas)</th>\n",
       "      <td>50.0</td>\n",
       "      <td>10000.0</td>\n",
       "      <td>5.0</td>\n",
       "      <td>0.002413</td>\n",
       "      <td>5.571759</td>\n",
       "      <td>0.241315</td>\n",
       "    </tr>\n",
       "    <tr>\n",
       "      <th>Cython (with Numpy Arrays)</th>\n",
       "      <td>50.0</td>\n",
       "      <td>10000.0</td>\n",
       "      <td>5.0</td>\n",
       "      <td>0.001173</td>\n",
       "      <td>11.458662</td>\n",
       "      <td>0.117339</td>\n",
       "    </tr>\n",
       "    <tr>\n",
       "      <th>Cython.Parallel (with Numpy Arrays)</th>\n",
       "      <td>50.0</td>\n",
       "      <td>10000.0</td>\n",
       "      <td>5.0</td>\n",
       "      <td>0.001196</td>\n",
       "      <td>11.241139</td>\n",
       "      <td>0.119610</td>\n",
       "    </tr>\n",
       "    <tr>\n",
       "      <th rowspan=\"11\" valign=\"top\">1000000.0</th>\n",
       "      <th>Native Python</th>\n",
       "      <td>1.0</td>\n",
       "      <td>1000000.0</td>\n",
       "      <td>7.0</td>\n",
       "      <td>1.349125</td>\n",
       "      <td>1.000000</td>\n",
       "      <td>1.349125</td>\n",
       "    </tr>\n",
       "    <tr>\n",
       "      <th>Numpy (Native)</th>\n",
       "      <td>50.0</td>\n",
       "      <td>1000000.0</td>\n",
       "      <td>5.0</td>\n",
       "      <td>0.208478</td>\n",
       "      <td>6.471313</td>\n",
       "      <td>0.208478</td>\n",
       "    </tr>\n",
       "    <tr>\n",
       "      <th>Cupy (Native)</th>\n",
       "      <td>50.0</td>\n",
       "      <td>1000000.0</td>\n",
       "      <td>5.0</td>\n",
       "      <td>0.000966</td>\n",
       "      <td>1396.729799</td>\n",
       "      <td>0.000966</td>\n",
       "    </tr>\n",
       "    <tr>\n",
       "      <th>Pandas (Native)</th>\n",
       "      <td>50.0</td>\n",
       "      <td>1000000.0</td>\n",
       "      <td>5.0</td>\n",
       "      <td>0.232368</td>\n",
       "      <td>5.805992</td>\n",
       "      <td>0.232368</td>\n",
       "    </tr>\n",
       "    <tr>\n",
       "      <th>Numpy (Vectorize)</th>\n",
       "      <td>1.0</td>\n",
       "      <td>1000000.0</td>\n",
       "      <td>1.0</td>\n",
       "      <td>14.580661</td>\n",
       "      <td>0.092528</td>\n",
       "      <td>14.580661</td>\n",
       "    </tr>\n",
       "    <tr>\n",
       "      <th>Numba (with Numpy Arrays)</th>\n",
       "      <td>50.0</td>\n",
       "      <td>1000000.0</td>\n",
       "      <td>5.0</td>\n",
       "      <td>0.225817</td>\n",
       "      <td>5.974413</td>\n",
       "      <td>0.225817</td>\n",
       "    </tr>\n",
       "    <tr>\n",
       "      <th>Numba (with Pandas)</th>\n",
       "      <td>50.0</td>\n",
       "      <td>1000000.0</td>\n",
       "      <td>5.0</td>\n",
       "      <td>0.226945</td>\n",
       "      <td>5.944718</td>\n",
       "      <td>0.226945</td>\n",
       "    </tr>\n",
       "    <tr>\n",
       "      <th>Numexpr (with Numpy Arrays)</th>\n",
       "      <td>50.0</td>\n",
       "      <td>1000000.0</td>\n",
       "      <td>5.0</td>\n",
       "      <td>0.084840</td>\n",
       "      <td>15.901915</td>\n",
       "      <td>0.084840</td>\n",
       "    </tr>\n",
       "    <tr>\n",
       "      <th>Numexpr (with Pandas)</th>\n",
       "      <td>50.0</td>\n",
       "      <td>1000000.0</td>\n",
       "      <td>5.0</td>\n",
       "      <td>0.088496</td>\n",
       "      <td>15.244958</td>\n",
       "      <td>0.088496</td>\n",
       "    </tr>\n",
       "    <tr>\n",
       "      <th>Cython (with Numpy Arrays)</th>\n",
       "      <td>50.0</td>\n",
       "      <td>1000000.0</td>\n",
       "      <td>5.0</td>\n",
       "      <td>0.117908</td>\n",
       "      <td>11.442165</td>\n",
       "      <td>0.117908</td>\n",
       "    </tr>\n",
       "    <tr>\n",
       "      <th>Cython.Parallel (with Numpy Arrays)</th>\n",
       "      <td>50.0</td>\n",
       "      <td>1000000.0</td>\n",
       "      <td>5.0</td>\n",
       "      <td>0.120311</td>\n",
       "      <td>11.213636</td>\n",
       "      <td>0.120311</td>\n",
       "    </tr>\n",
       "  </tbody>\n",
       "</table>\n",
       "</div>"
      ],
      "text/plain": [
       "                                                   Loops  Num of Points  \\\n",
       "Num of Points Name                                                        \n",
       "10000.0       Native Python                        100.0        10000.0   \n",
       "              Numpy (Native)                        50.0        10000.0   \n",
       "              Cupy (Native)                         50.0        10000.0   \n",
       "              Pandas (Native)                       50.0        10000.0   \n",
       "              Numpy (Vectorize)                      1.0        10000.0   \n",
       "              Numba (with Numpy Arrays)             50.0        10000.0   \n",
       "              Numba (with Pandas)                   50.0        10000.0   \n",
       "              Numexpr (with Numpy Arrays)           50.0        10000.0   \n",
       "              Numexpr (with Pandas)                 50.0        10000.0   \n",
       "              Cython (with Numpy Arrays)            50.0        10000.0   \n",
       "              Cython.Parallel (with Numpy Arrays)   50.0        10000.0   \n",
       "1000000.0     Native Python                          1.0      1000000.0   \n",
       "              Numpy (Native)                        50.0      1000000.0   \n",
       "              Cupy (Native)                         50.0      1000000.0   \n",
       "              Pandas (Native)                       50.0      1000000.0   \n",
       "              Numpy (Vectorize)                      1.0      1000000.0   \n",
       "              Numba (with Numpy Arrays)             50.0      1000000.0   \n",
       "              Numba (with Pandas)                   50.0      1000000.0   \n",
       "              Numexpr (with Numpy Arrays)           50.0      1000000.0   \n",
       "              Numexpr (with Pandas)                 50.0      1000000.0   \n",
       "              Cython (with Numpy Arrays)            50.0      1000000.0   \n",
       "              Cython.Parallel (with Numpy Arrays)   50.0      1000000.0   \n",
       "\n",
       "                                                   Repeat  Time (sec)  \\\n",
       "Num of Points Name                                                      \n",
       "10000.0       Native Python                           7.0    0.013445   \n",
       "              Numpy (Native)                          5.0    0.001986   \n",
       "              Cupy (Native)                           5.0    0.000401   \n",
       "              Pandas (Native)                         5.0    0.006039   \n",
       "              Numpy (Vectorize)                       1.0    0.146234   \n",
       "              Numba (with Numpy Arrays)               5.0    0.002018   \n",
       "              Numba (with Pandas)                     5.0    0.006309   \n",
       "              Numexpr (with Numpy Arrays)             5.0    0.001303   \n",
       "              Numexpr (with Pandas)                   5.0    0.002413   \n",
       "              Cython (with Numpy Arrays)              5.0    0.001173   \n",
       "              Cython.Parallel (with Numpy Arrays)     5.0    0.001196   \n",
       "1000000.0     Native Python                           7.0    1.349125   \n",
       "              Numpy (Native)                          5.0    0.208478   \n",
       "              Cupy (Native)                           5.0    0.000966   \n",
       "              Pandas (Native)                         5.0    0.232368   \n",
       "              Numpy (Vectorize)                       1.0   14.580661   \n",
       "              Numba (with Numpy Arrays)               5.0    0.225817   \n",
       "              Numba (with Pandas)                     5.0    0.226945   \n",
       "              Numexpr (with Numpy Arrays)             5.0    0.084840   \n",
       "              Numexpr (with Pandas)                   5.0    0.088496   \n",
       "              Cython (with Numpy Arrays)              5.0    0.117908   \n",
       "              Cython.Parallel (with Numpy Arrays)     5.0    0.120311   \n",
       "\n",
       "                                                   Vs Native Python  \\\n",
       "Num of Points Name                                                    \n",
       "10000.0       Native Python                                1.000000   \n",
       "              Numpy (Native)                               6.771266   \n",
       "              Cupy (Native)                               33.493486   \n",
       "              Pandas (Native)                              2.226478   \n",
       "              Numpy (Vectorize)                            0.091945   \n",
       "              Numba (with Numpy Arrays)                    6.661854   \n",
       "              Numba (with Pandas)                          2.131232   \n",
       "              Numexpr (with Numpy Arrays)                 10.318788   \n",
       "              Numexpr (with Pandas)                        5.571759   \n",
       "              Cython (with Numpy Arrays)                  11.458662   \n",
       "              Cython.Parallel (with Numpy Arrays)         11.241139   \n",
       "1000000.0     Native Python                                1.000000   \n",
       "              Numpy (Native)                               6.471313   \n",
       "              Cupy (Native)                             1396.729799   \n",
       "              Pandas (Native)                              5.805992   \n",
       "              Numpy (Vectorize)                            0.092528   \n",
       "              Numba (with Numpy Arrays)                    5.974413   \n",
       "              Numba (with Pandas)                          5.944718   \n",
       "              Numexpr (with Numpy Arrays)                 15.901915   \n",
       "              Numexpr (with Pandas)                       15.244958   \n",
       "              Cython (with Numpy Arrays)                  11.442165   \n",
       "              Cython.Parallel (with Numpy Arrays)         11.213636   \n",
       "\n",
       "                                                   Time per Point (usec)  \n",
       "Num of Points Name                                                        \n",
       "10000.0       Native Python                                     1.344548  \n",
       "              Numpy (Native)                                    0.198567  \n",
       "              Cupy (Native)                                     0.040144  \n",
       "              Pandas (Native)                                   0.603890  \n",
       "              Numpy (Vectorize)                                14.623436  \n",
       "              Numba (with Numpy Arrays)                         0.201828  \n",
       "              Numba (with Pandas)                               0.630878  \n",
       "              Numexpr (with Numpy Arrays)                       0.130301  \n",
       "              Numexpr (with Pandas)                             0.241315  \n",
       "              Cython (with Numpy Arrays)                        0.117339  \n",
       "              Cython.Parallel (with Numpy Arrays)               0.119610  \n",
       "1000000.0     Native Python                                     1.349125  \n",
       "              Numpy (Native)                                    0.208478  \n",
       "              Cupy (Native)                                     0.000966  \n",
       "              Pandas (Native)                                   0.232368  \n",
       "              Numpy (Vectorize)                                14.580661  \n",
       "              Numba (with Numpy Arrays)                         0.225817  \n",
       "              Numba (with Pandas)                               0.226945  \n",
       "              Numexpr (with Numpy Arrays)                       0.084840  \n",
       "              Numexpr (with Pandas)                             0.088496  \n",
       "              Cython (with Numpy Arrays)                        0.117908  \n",
       "              Cython.Parallel (with Numpy Arrays)               0.120311  "
      ]
     },
     "execution_count": 46,
     "metadata": {},
     "output_type": "execute_result"
    }
   ],
   "source": [
    "timing_results"
   ]
  },
  {
   "cell_type": "code",
   "execution_count": 47,
   "metadata": {
    "ExecuteTime": {
     "end_time": "2016-10-10T15:28:10.232737",
     "start_time": "2016-10-10T19:12:06.448Z"
    }
   },
   "outputs": [],
   "source": [
    "timing_results.to_csv('results.csv')"
   ]
  },
  {
   "cell_type": "markdown",
   "metadata": {},
   "source": [
    "## Graphs"
   ]
  },
  {
   "cell_type": "code",
   "execution_count": 48,
   "metadata": {
    "ExecuteTime": {
     "end_time": "2016-10-10T15:28:10.232996",
     "start_time": "2016-10-10T19:12:06.451Z"
    }
   },
   "outputs": [
    {
     "data": {
      "image/png": "[encoded data removed]",
      "text/plain": [
       "<Figure size 432x288 with 1 Axes>"
      ]
     },
     "metadata": {},
     "output_type": "display_data"
    }
   ],
   "source": [
    "tenK_df = timing_results.where(timing_results['Num of Points'] == 10000).dropna().reset_index(0,drop=True)\n",
    "tenK_df.sort_values('Time (sec)', inplace=True, ascending=False)\n",
    "tenK_df_subset = tenK_df.reindex(columns=['Time (sec)'])\n",
    "ax_10k_time = tenK_df_subset.plot(kind='barh')\n",
    "ax_10k_time.set_yticklabels(list(tenK_df.index))\n",
    "ax_10k_time.set_xbound(upper=.004)\n",
    "ax_10k_time.set_xlabel('seconds')\n",
    "ax_10k_time.set_title('Total Time for 10K Points by Method')\n",
    "plt.savefig('time_10k.png')"
   ]
  },
  {
   "cell_type": "code",
   "execution_count": 49,
   "metadata": {
    "ExecuteTime": {
     "end_time": "2016-10-10T15:28:10.233256",
     "start_time": "2016-10-10T19:12:06.462Z"
    }
   },
   "outputs": [
    {
     "data": {
      "image/png": "[encoded data removed]",
      "text/plain": [
       "<Figure size 432x288 with 1 Axes>"
      ]
     },
     "metadata": {},
     "output_type": "display_data"
    }
   ],
   "source": [
    "tenK_df.sort_values('Vs Native Python', inplace=True, ascending=True)\n",
    "tenK_df_subset = tenK_df.reindex(columns=['Vs Native Python'])\n",
    "ax_10k_vs = tenK_df_subset.plot(kind='barh')\n",
    "ax_10k_vs.set_yticklabels(list(tenK_df.index))\n",
    "ax_10k_vs.set_xlabel('Multiplier')\n",
    "ax_10k_vs.set_title('Method Compared to Native Python (10K Points)')\n",
    "plt.savefig('compare_10k.png')"
   ]
  },
  {
   "cell_type": "code",
   "execution_count": 50,
   "metadata": {
    "ExecuteTime": {
     "end_time": "2016-10-10T15:28:10.233503",
     "start_time": "2016-10-10T19:12:06.471Z"
    }
   },
   "outputs": [
    {
     "data": {
      "image/png": "[encoded data removed]",
      "text/plain": [
       "<Figure size 432x288 with 1 Axes>"
      ]
     },
     "metadata": {},
     "output_type": "display_data"
    }
   ],
   "source": [
    "oneM_df = timing_results.where(timing_results['Num of Points'] == 1000000).dropna().reset_index(0,drop=True)\n",
    "oneM_df.sort_values('Time (sec)', inplace=True, ascending=False)\n",
    "oneM_df_subset = oneM_df.reindex(columns=['Time (sec)'])\n",
    "ax_1M_time = oneM_df_subset.plot(kind='barh')\n",
    "ax_1M_time.set_yticklabels(list(oneM_df.index))\n",
    "ax_1M_time.set_xbound(upper=.25)\n",
    "ax_1M_time.set_xlabel('seconds')\n",
    "ax_1M_time.set_title('Total Time for 1M Points by Method')\n",
    "plt.savefig('time_1M.png')"
   ]
  },
  {
   "cell_type": "code",
   "execution_count": 51,
   "metadata": {
    "ExecuteTime": {
     "end_time": "2016-10-10T15:28:10.233878",
     "start_time": "2016-10-10T19:12:06.477Z"
    }
   },
   "outputs": [
    {
     "data": {
      "image/png": "[encoded data removed]",
      "text/plain": [
       "<Figure size 432x288 with 1 Axes>"
      ]
     },
     "metadata": {},
     "output_type": "display_data"
    }
   ],
   "source": [
    "oneM_df.sort_values('Vs Native Python', inplace=True, ascending=True)\n",
    "oneM_df_subset = oneM_df.reindex(columns=['Vs Native Python'])\n",
    "ax_1M_vs = oneM_df_subset.plot(kind='barh')\n",
    "ax_1M_vs.set_yticklabels(list(oneM_df.index))\n",
    "ax_1M_vs.set_xlabel('Multiplier')\n",
    "ax_1M_vs.set_title('Method Compared to Native Python (1M Points)')\n",
    "plt.savefig('compare_1M.png')"
   ]
  },
  {
   "cell_type": "code",
   "execution_count": 53,
   "metadata": {
    "ExecuteTime": {
     "end_time": "2016-10-10T15:28:10.234185",
     "start_time": "2016-10-10T19:12:06.486Z"
    }
   },
   "outputs": [
    {
     "data": {
      "image/png": "[encoded data removed]",
      "text/plain": [
       "<Figure size 864x504 with 1 Axes>"
      ]
     },
     "metadata": {},
     "output_type": "display_data"
    }
   ],
   "source": [
    "per_pt_df = pd.DataFrame()\n",
    "per_pt_df['1M Points'] = timing_results['Time per Point (usec)'].where(timing_results['Num of Points'] == 1000000) \\\n",
    "                                                                            .dropna().reset_index(0,drop=True) * 1000\n",
    "per_pt_df['10K Points'] = timing_results['Time per Point (usec)'].where(timing_results['Num of Points'] == 10000) \\\n",
    "                                                                            .dropna().reset_index(0,drop=True) * 1000\n",
    "#del per_pt_df.index.name\n",
    "per_pt_df.sort_values('1M Points', inplace=True, ascending=False)\n",
    "ax_per_pt = per_pt_df.plot(kind='barh', width = .8, figsize=(12,7))\n",
    "ax_per_pt.set_xbound(upper=500)\n",
    "ax_per_pt.set_title('Per Point Execution Time', fontsize=18)\n",
    "ax_per_pt.set_xlabel('nanoseconds', fontsize=18)\n",
    "ax_per_pt.xaxis.grid(True, linestyle='--', which='major', color='grey', alpha=.5)\n",
    "plt.legend(fontsize=14)\n",
    "rects = ax_per_pt.patches\n",
    "labels = per_pt_df.values.flatten('F')\n",
    "ax_per_pt.tick_params(axis='y', labelsize=14)\n",
    "for rect, label in zip(rects, labels):\n",
    "    width = rect.get_width()\n",
    "    height = rect.get_height()\n",
    "    ax_per_pt.text(min(width - 20, 475), rect.get_y()+ height*3/4, int(label), color='white',fontsize=12, ha='left', va='top', weight='heavy')\n",
    "plt.savefig('exec_time.png')"
   ]
  },
  {
   "cell_type": "code",
   "execution_count": 54,
   "metadata": {
    "ExecuteTime": {
     "end_time": "2016-10-10T15:28:10.237021",
     "start_time": "2016-10-10T19:12:06.489Z"
    }
   },
   "outputs": [
    {
     "data": {
      "image/png": "[encoded data removed]",
      "text/plain": [
       "<Figure size 864x504 with 1 Axes>"
      ]
     },
     "metadata": {},
     "output_type": "display_data"
    }
   ],
   "source": [
    "vs_df = pd.DataFrame()\n",
    "vs_df['1M Points'] = timing_results['Vs Native Python'].where(timing_results['Num of Points'] == 1000000) \\\n",
    "                                                                        .dropna().reset_index(0,drop=True)\n",
    "vs_df['10K Points'] = timing_results['Vs Native Python'].where(timing_results['Num of Points'] == 10000) \\\n",
    "                                                                        .dropna().reset_index(0,drop=True)\n",
    "\n",
    "\n",
    "#del vs_df.index.name\n",
    "vs_df.sort_values('1M Points', inplace=True, ascending=False)\n",
    "ax_vs = vs_df.plot(kind='barh', width = .8, figsize=(12,7))\n",
    "ax_vs.set_title('Method Compared to Native Python', fontsize=18)\n",
    "ax_vs.set_xlabel('Improvement Over Native Python (as Multiplier)', fontsize=18)\n",
    "ax_vs.yaxis.get_label_text()\n",
    "ax_vs.xaxis.grid(True, linestyle='--', which='major', color='grey', alpha=.5)\n",
    "plt.legend(fontsize=14)\n",
    "rects = ax_vs.patches\n",
    "labels = vs_df.values.flatten('F')\n",
    "labels = np.rint(labels)\n",
    "ax_vs.tick_params(axis='y', labelsize=14)\n",
    "for rect, label in zip(rects, labels):\n",
    "    width = rect.get_width()\n",
    "    height = rect.get_height()\n",
    "    ax_vs.text(width+0.5, rect.get_y() + height/2, int(label), \n",
    "               fontsize=12, ha='left', va='center', weight='heavy')\n",
    "plt.savefig('method_compare.png')"
   ]
  },
  {
   "cell_type": "code",
   "execution_count": null,
   "metadata": {},
   "outputs": [],
   "source": []
  }
 ],
 "metadata": {
  "anaconda-cloud": {},
  "kernelspec": {
   "display_name": "conda_python3",
   "language": "python",
   "name": "conda_python3"
  },
  "language_info": {
   "codemirror_mode": {
    "name": "ipython",
    "version": 3
   },
   "file_extension": ".py",
   "mimetype": "text/x-python",
   "name": "python",
   "nbconvert_exporter": "python",
   "pygments_lexer": "ipython3",
   "version": "3.6.13"
  }
 },
 "nbformat": 4,
 "nbformat_minor": 1
}
