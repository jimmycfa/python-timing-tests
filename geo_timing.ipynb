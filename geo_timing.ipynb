{
 "cells": [
  {
   "cell_type": "code",
   "execution_count": null,
   "metadata": {
    "ExecuteTime": {
     "end_time": "2016-10-08T20:39:25.091703",
     "start_time": "2016-10-08T20:39:22.738583"
    },
    "collapsed": false
   },
   "outputs": [],
   "source": [
    "import sys\n",
    "import platform\n",
    "import os\n",
    "import random as rnd\n",
    "from math import sqrt, sin, cos, radians\n",
    "import numpy as np\n",
    "import pandas as pd\n",
    "from numba import jit\n",
    "import numba\n",
    "import numexpr as ne\n",
    "import matplotlib.pyplot as plt\n",
    "import seaborn"
   ]
  },
  {
   "cell_type": "code",
   "execution_count": null,
   "metadata": {
    "ExecuteTime": {
     "end_time": "2016-10-08T20:39:25.135054",
     "start_time": "2016-10-08T20:39:25.093953"
    },
    "collapsed": false
   },
   "outputs": [],
   "source": [
    "%matplotlib inline \n",
    "seaborn.set()"
   ]
  },
  {
   "cell_type": "markdown",
   "metadata": {},
   "source": [
    "# Software Versions and Machine Hardware"
   ]
  },
  {
   "cell_type": "code",
   "execution_count": null,
   "metadata": {
    "ExecuteTime": {
     "end_time": "2016-10-08T20:39:25.169439",
     "start_time": "2016-10-08T20:39:25.137282"
    },
    "collapsed": false
   },
   "outputs": [],
   "source": [
    "print(\"Python: {}\\nNumpy: {}\\nPandas: {}\\nNumba: {}\\nNumexpr: {}\\n{}\".format(sys.version,\n",
    "                                                                             np.__version__,\n",
    "                                                                             pd.__version__,\n",
    "                                                                             numba.__version__,\n",
    "                                                                             ne.__version__,\n",
    "                                                                             ne.get_vml_version()))\n",
    "print(\"Processor: {}\\n# of Cores: {}\\nMachine: {}\\nArchitecture: {}\".format(platform.processor(),\n",
    "                                                                            os.cpu_count(),\n",
    "                                                                            platform.machine(),\n",
    "                                                                            platform.architecture()))\n",
    "#Note:\n",
    "#Intel64 Family 6 Model 78 Stepping 3 = Intel(R) Core(TM) i5-6300U CPU @ 2.40GHz"
   ]
  },
  {
   "cell_type": "markdown",
   "metadata": {},
   "source": [
    "# Define Sample Data"
   ]
  },
  {
   "cell_type": "markdown",
   "metadata": {},
   "source": [
    "List of tuples where list is made of tuples and each tuple has 4 values defining the point."
   ]
  },
  {
   "cell_type": "code",
   "execution_count": null,
   "metadata": {
    "ExecuteTime": {
     "end_time": "2016-10-08T20:39:27.858408",
     "start_time": "2016-10-08T20:39:25.171919"
    },
    "collapsed": false
   },
   "outputs": [],
   "source": [
    "points_10k = []\n",
    "points_1m = []\n",
    "size = (10000, 1000000)\n",
    "points_obj = (points_10k, points_1m)\n",
    "for s, var in ((size[0], points_obj[0]), (size[1], points_obj[1])):\n",
    "    for i in range(s):\n",
    "        var.append((rnd.uniform(-85,85),\n",
    "                       rnd.uniform(-175,175),\n",
    "                       rnd.uniform(-50,12000), \n",
    "                       rnd.uniform(-50,50)))\n",
    "    print ('{} of {} containing {}, length: {}.'.format(type(var),type(var[0]),type(var[0][0]),len(var)))"
   ]
  },
  {
   "cell_type": "markdown",
   "metadata": {},
   "source": [
    "Numpy arrays..."
   ]
  },
  {
   "cell_type": "code",
   "execution_count": null,
   "metadata": {
    "ExecuteTime": {
     "end_time": "2016-10-08T20:39:27.873017",
     "start_time": "2016-10-08T20:39:27.862551"
    },
    "collapsed": false
   },
   "outputs": [],
   "source": [
    "#instead of using np.random.uniform to define these arrays, converting the points list\n",
    "#so the same values are used for all methods\n",
    "points_10k_np = np.empty([4,size[0]], dtype=np.double)\n",
    "points_1m_np = np.empty([4,size[1]], dtype=np.double)\n",
    "points_obj_np = (points_10k_np, points_1m_np)\n",
    "\n",
    "for var in points_obj_np:\n",
    "    for i, point in enumerate(var):\n",
    "        var[:,i] = [point[0], point[1], point[2], point[3]]\n",
    "    print ('{}, shape: {}.'.format(type(var),var.shape))"
   ]
  },
  {
   "cell_type": "markdown",
   "metadata": {},
   "source": [
    "Pandas DataFrame of the points."
   ]
  },
  {
   "cell_type": "code",
   "execution_count": null,
   "metadata": {
    "ExecuteTime": {
     "end_time": "2016-10-08T20:39:28.314062",
     "start_time": "2016-10-08T20:39:27.875197"
    },
    "collapsed": false
   },
   "outputs": [],
   "source": [
    "points_10k_df = pd.DataFrame(points_10k, columns=['Lat','Long','Alt','Geoid'])\n",
    "points_1m_df = pd.DataFrame(points_1m, columns=['Lat','Long','Alt','Geoid'])\n",
    "points_obj_df = (points_10k_df, points_1m_df)\n",
    "for var in points_obj_df:\n",
    "    print ('{} containing {}, length: {}.'.format(type(var),\n",
    "                                                  type(var.ix[0,0]),\n",
    "                                                  len(var)))"
   ]
  },
  {
   "cell_type": "code",
   "execution_count": null,
   "metadata": {
    "ExecuteTime": {
     "end_time": "2016-10-08T20:39:28.326020",
     "start_time": "2016-10-08T20:39:28.316257"
    },
    "collapsed": false
   },
   "outputs": [],
   "source": [
    "#timing_results = pd.DataFrame(columns=['Name','Loops','Repeat','Time (sec)','Num of Points'])\n",
    "timing_results = pd.DataFrame()\n",
    "\n",
    "def timing_results_filler (r, return_size=3):\n",
    "    #TODO: remove return_size\n",
    "    returner = {}#np.zeros(return_size)\n",
    "#     if return_size < 3:\n",
    "#         print (\"error condition\")\n",
    "#         return returner\n",
    "    #Loops,Repeat,Best\n",
    "#     returner[0] = r.loops\n",
    "#     returner[1] = r.repeat\n",
    "#     returner[2] = r.best\n",
    "    returner['Loops'] = r.loops\n",
    "    returner['Repeat'] = r.repeat\n",
    "    returner['Time (sec)'] = r.best\n",
    "    return returner"
   ]
  },
  {
   "cell_type": "markdown",
   "metadata": {},
   "source": [
    "# Constants"
   ]
  },
  {
   "cell_type": "code",
   "execution_count": null,
   "metadata": {
    "ExecuteTime": {
     "end_time": "2016-10-08T20:39:28.335678",
     "start_time": "2016-10-08T20:39:28.329070"
    },
    "collapsed": false
   },
   "outputs": [],
   "source": [
    "a = 6378137  # Semi-major axis \n",
    "b = 6356752.3142  # Semi-minor axis\n",
    "f = (a - b) / a  # flattening\n",
    "e = 0.081819191 # eccentricity\n",
    "ee = e*e\n",
    "LOOPS = 50\n",
    "REPEAT = 5"
   ]
  },
  {
   "cell_type": "markdown",
   "metadata": {},
   "source": [
    "# Native Python Lists"
   ]
  },
  {
   "cell_type": "code",
   "execution_count": null,
   "metadata": {
    "ExecuteTime": {
     "end_time": "2016-10-08T20:39:28.360022",
     "start_time": "2016-10-08T20:39:28.338648"
    },
    "collapsed": false
   },
   "outputs": [],
   "source": [
    "def LLAtoXYZ_raw (latitude, longitude, altitude, geoidSepIn = 0):\n",
    "    # LLAtoXYZ converts a position (latitude, longitude, altitude) to the ECEF X, Y, Z format.\n",
    "    # The function expects Lat and Long in degrees and Alt in meters and outputs X, Y, Z in meters. \n",
    "    # geoidSepIn is the height of the geoid above the WGS84 ellipsoid. It is optional and assumed \n",
    "    # to be 0 if not provided (meaning geoid-to-ellipsoid differences are ignored)\n",
    "    \n",
    "    latitude_rad = radians(latitude)\n",
    "    longitude_rad = radians(longitude)\n",
    "    height = altitude - geoidSepIn\n",
    "    cos_lat = cos(latitude_rad)\n",
    "     \n",
    "    r = a / sqrt(1 - ee * sin(latitude_rad) * sin(latitude_rad))\n",
    "    x = (r + height) * cos_lat * cos(longitude_rad)\n",
    "    y = (r + height) * cos_lat * sin(longitude_rad)\n",
    "    z = ((1 - ee) * r + height) * sin(latitude_rad)\n",
    "        \n",
    "    return x,y,z\n",
    "LLAtoXYZ_raw(-38.123456,-124.65432,230,-20)\n",
    "#X= -2856867.422762463\n",
    "#Y= -4132876.8004144537\n",
    "#Z= -3916387.577890978"
   ]
  },
  {
   "cell_type": "code",
   "execution_count": null,
   "metadata": {
    "ExecuteTime": {
     "end_time": "2016-10-08T20:39:38.198179",
     "start_time": "2016-10-08T20:39:28.362350"
    },
    "collapsed": false
   },
   "outputs": [],
   "source": [
    "test_config_name = 'Native Python'\n",
    "for points in points_obj:\n",
    "    results = []\n",
    "    r = %timeit -n 50 -r 5 -o for p in points: results.append(LLAtoXYZ_raw(p[0],p[1],p[2],p[3]))\n",
    "    row = timing_results_filler(r)\n",
    "    row['Name'] = test_config_name\n",
    "    row['Num of Points'] = len(points)\n",
    "    timing_results = timing_results.append(pd.Series(row),ignore_index=True)"
   ]
  },
  {
   "cell_type": "markdown",
   "metadata": {},
   "source": [
    "# Numpy Arrays"
   ]
  },
  {
   "cell_type": "code",
   "execution_count": null,
   "metadata": {
    "ExecuteTime": {
     "end_time": "2016-10-08T20:39:38.203049",
     "start_time": "2016-10-08T20:39:38.200020"
    },
    "collapsed": false
   },
   "outputs": [],
   "source": [
    "#import numpy functions directly\n",
    "from numpy import sqrt, sin, cos, radians"
   ]
  },
  {
   "cell_type": "code",
   "execution_count": null,
   "metadata": {
    "ExecuteTime": {
     "end_time": "2016-10-08T20:39:38.231994",
     "start_time": "2016-10-08T20:39:38.205369"
    },
    "collapsed": false
   },
   "outputs": [],
   "source": [
    "#def LLAtoXYZ_numpy (points_np, return_array = False):\n",
    "def LLAtoXYZ_numpy (latitude, longitude, altitude, geoidSepIn = 0, return_array = False):\n",
    "    # LLAtoXYZ converts a position (latitude, longitude, altitude) to the ECEF X, Y, Z format.\n",
    "    # The function expects Lat and Long in degrees and Alt in meters and outputs X, Y, Z in meters. \n",
    "    # geoidSepIn is the height of the geoid above the WGS84 ellipsoid. It is optional and assumed \n",
    "    # to be 0 if not provided (meaning geoid-to-ellipsoid differences are ignored)\n",
    "    \n",
    "#    latitude = points_np[0]\n",
    "#    longitude = points_np[1]\n",
    "#    altitude = points_np[2]\n",
    "\n",
    "#    if min(points_np.shape) == 4:\n",
    "#        geoidSepIn = points_np[3]\n",
    "#    else:\n",
    "#        geoidSepIn = 0\n",
    "    \n",
    "    latitude_rad = radians(latitude)\n",
    "    longitude_rad = radians(longitude)\n",
    "    height = altitude - geoidSepIn\n",
    "    cos_lat = cos(latitude_rad)\n",
    "     \n",
    "    r = a / sqrt(1 - ee * sin(latitude_rad) * sin(latitude_rad))\n",
    "    x = (r + height) * cos_lat * cos(longitude_rad)\n",
    "    y = (r + height) * cos_lat * sin(longitude_rad)\n",
    "    z = ((1 - ee) * r + height) * sin(latitude_rad)\n",
    "    \n",
    "    if return_array:\n",
    "        return np.array([x,y,z])\n",
    "    else:\n",
    "        return x,y,z\n",
    "    \n",
    "LLAtoXYZ_numpy(-38.123456,-124.65432,230,-20)\n",
    "#X= -2856867.422762463\n",
    "#Y= -4132876.8004144537\n",
    "#Z= -3916387.577890978"
   ]
  },
  {
   "cell_type": "code",
   "execution_count": null,
   "metadata": {
    "ExecuteTime": {
     "end_time": "2016-10-08T20:39:38.273134",
     "start_time": "2016-10-08T20:39:38.233793"
    },
    "collapsed": false
   },
   "outputs": [],
   "source": [
    "test_config_name = 'Numpy (Native)'\n",
    "for points in points_obj_np:\n",
    "    r = %timeit -n 50 -r 5 -o results = LLAtoXYZ_numpy(points[:,0],points[:,1],points[:,2],points[:,3],True)\n",
    "    row = timing_results_filler(r)\n",
    "    row['Name'] = test_config_name\n",
    "    row['Num of Points'] = points.shape[1]\n",
    "    timing_results = timing_results.append(pd.Series(row),ignore_index=True)"
   ]
  },
  {
   "cell_type": "markdown",
   "metadata": {},
   "source": [
    "# Pandas (Serialized)\n",
    "added to show how slow pandas can be if not vectorized"
   ]
  },
  {
   "cell_type": "code",
   "execution_count": null,
   "metadata": {
    "ExecuteTime": {
     "end_time": "2016-10-08T20:39:38.277328",
     "start_time": "2016-10-08T20:39:38.274802"
    },
    "collapsed": false
   },
   "outputs": [],
   "source": [
    "# r = %timeit -n 5 -r 5 -o points_df['X'],points_df['Y'],points_df['Z'] = \\ \n",
    "#                           zip(*points_df.apply(lambda row: LLAtoXYZ_raw(row[0], \\\n",
    "#                                                                         row[1], \\\n",
    "#                                                                         row[2], \\\n",
    "#                                                                         row[3]), \\\n",
    "#                                                                         axis=1))\n",
    "# timing_results.loc['Pandas (Serialized)'] = timing_results_filler(r)"
   ]
  },
  {
   "cell_type": "markdown",
   "metadata": {},
   "source": [
    "# Pandas (Vectorized)"
   ]
  },
  {
   "cell_type": "code",
   "execution_count": null,
   "metadata": {
    "ExecuteTime": {
     "end_time": "2016-10-08T20:40:27.783163",
     "start_time": "2016-10-08T20:39:38.279012"
    },
    "collapsed": false
   },
   "outputs": [],
   "source": [
    "test_config_name = 'Pandas (Native)'\n",
    "for points_df in points_obj_df:\n",
    "    r = %timeit -n 50 -r 5 -o points_df['X'],points_df['Y'],points_df['Z'] = LLAtoXYZ_numpy(points_df['Lat'], \\\n",
    "                                                                                            points_df['Long'], \\\n",
    "                                                                                            points_df['Alt'], \\\n",
    "                                                                                            points_df['Geoid'],False)\n",
    "    row = timing_results_filler(r)\n",
    "    row['Name'] = test_config_name\n",
    "    row['Num of Points'] = len(points_df)\n",
    "    timing_results = timing_results.append(pd.Series(row),ignore_index=True)"
   ]
  },
  {
   "cell_type": "markdown",
   "metadata": {},
   "source": [
    "# Numba"
   ]
  },
  {
   "cell_type": "code",
   "execution_count": null,
   "metadata": {
    "ExecuteTime": {
     "end_time": "2016-10-08T20:40:28.483340",
     "start_time": "2016-10-08T20:40:27.785925"
    },
    "collapsed": false
   },
   "outputs": [],
   "source": [
    "@jit\n",
    "def LLAtoXYZ_jit (latitude, longitude, altitude, geoidSepIn = 0, return_array = False):\n",
    "    # LLAtoXYZ converts a position (latitude, longitude, altitude) to the ECEF X, Y, Z format.\n",
    "    # The function expects Lat and Long in degrees and Alt in meters and outputs X, Y, Z in meters. \n",
    "    # geoidSepIn is the height of the geoid above the WGS84 ellipsoid. It is optional and assumed \n",
    "    # to be 0 if not provided (meaning geoid-to-ellipsoid differences are ignored)\n",
    "    \n",
    "    latitude_rad = radians(latitude)\n",
    "    longitude_rad = radians(longitude)\n",
    "    height = altitude - geoidSepIn\n",
    "    cos_lat = cos(latitude_rad)\n",
    "     \n",
    "    r = a / np.sqrt(1 - ee * sin(latitude_rad) * sin(latitude_rad))\n",
    "    x = (r + height) * cos_lat * cos(longitude_rad)\n",
    "    y = (r + height) * cos_lat * sin(longitude_rad)\n",
    "    z = ((1 - ee) * r + height) * sin(latitude_rad)\n",
    "    \n",
    "    if return_array:\n",
    "        return np.array([x,y,z])\n",
    "    else:\n",
    "        return x,y,z\n",
    "    \n",
    "LLAtoXYZ_jit(-38.123456,-124.65432,230,-20)\n",
    "#X= -2856867.422762463\n",
    "#Y= -4132876.8004144537\n",
    "#Z= -3916387.577890978"
   ]
  },
  {
   "cell_type": "code",
   "execution_count": null,
   "metadata": {
    "ExecuteTime": {
     "end_time": "2016-10-08T20:40:28.745557",
     "start_time": "2016-10-08T20:40:28.485551"
    },
    "collapsed": false
   },
   "outputs": [],
   "source": [
    "test_config_name = 'Numba (with Numpy Arrays)'\n",
    "for points in points_obj_np:\n",
    "    r = %timeit -n 50 -r 5 -o results = LLAtoXYZ_jit(points[:,0],points[:,1],points[:,2],points[:,3],True)\n",
    "    row = timing_results_filler(r)\n",
    "    row['Name'] = test_config_name\n",
    "    row['Num of Points'] = points.shape[1]\n",
    "    timing_results = timing_results.append(pd.Series(row),ignore_index=True)"
   ]
  },
  {
   "cell_type": "code",
   "execution_count": null,
   "metadata": {
    "ExecuteTime": {
     "end_time": "2016-10-08T20:41:15.944410",
     "start_time": "2016-10-08T20:40:28.747378"
    },
    "collapsed": false
   },
   "outputs": [],
   "source": [
    "test_config_name = 'Numba (with Pandas)'\n",
    "for points_df in points_obj_df:\n",
    "    r = %timeit -n 50 -r 5 -o points_df['X'],points_df['Y'],points_df['Z'] = LLAtoXYZ_jit(points_df['Lat'], \\\n",
    "                                                                                          points_df['Long'], \\\n",
    "                                                                                          points_df['Alt'], \\\n",
    "                                                                                          points_df['Geoid'],False)\n",
    "    row = timing_results_filler(r)\n",
    "    row['Name'] = test_config_name\n",
    "    row['Num of Points'] = len(points_df)\n",
    "    timing_results = timing_results.append(pd.Series(row),ignore_index=True)"
   ]
  },
  {
   "cell_type": "markdown",
   "metadata": {},
   "source": [
    "# Numexpr"
   ]
  },
  {
   "cell_type": "code",
   "execution_count": null,
   "metadata": {
    "ExecuteTime": {
     "end_time": "2016-10-08T20:41:15.972818",
     "start_time": "2016-10-08T20:41:15.946169"
    },
    "collapsed": false
   },
   "outputs": [],
   "source": [
    "def LLAtoXYZ_ne (latitude, longitude, altitude, geoidSepIn = 0, return_array = False):\n",
    "    # LLAtoXYZ converts a position (latitude, longitude, altitude) to the ECEF X, Y, Z format.\n",
    "    # The function expects Lat and Long in degrees and Alt in meters and outputs X, Y, Z in meters. \n",
    "    # geoidSepIn is the height of the geoid above the WGS84 ellipsoid. It is optional and assumed \n",
    "    # to be 0 if not provided (meaning geoid-to-ellipsoid differences are ignored)\n",
    "    \n",
    "    latitude_rad = radians(latitude)\n",
    "    longitude_rad = radians(longitude)\n",
    "    height = altitude - geoidSepIn\n",
    "     \n",
    "    r = ne.evaluate(\"a / sqrt(1 - ee * sin(latitude_rad)**2)\")\n",
    "    x = ne.evaluate(\"(r + height) * cos(latitude_rad) * cos(longitude_rad)\")\n",
    "    y = ne.evaluate(\"(r + height) * cos(latitude_rad) * sin(longitude_rad)\")\n",
    "    z = ne.evaluate(\"((1 - ee) * r + height) * sin(latitude_rad)\")\n",
    "    \n",
    "    if return_array:\n",
    "        return np.array([x,y,z])\n",
    "    else:\n",
    "        return x,y,z\n",
    "    \n",
    "LLAtoXYZ_ne(-38.123456,-124.65432,230,-20)\n",
    "#X= -2856867.422762463\n",
    "#Y= -4132876.8004144537\n",
    "#Z= -3916387.577890978"
   ]
  },
  {
   "cell_type": "code",
   "execution_count": null,
   "metadata": {
    "ExecuteTime": {
     "end_time": "2016-10-08T20:41:16.053328",
     "start_time": "2016-10-08T20:41:15.975412"
    },
    "collapsed": false
   },
   "outputs": [],
   "source": [
    "test_config_name = 'Numexpr (with Numpy Arrays)'\n",
    "for points in points_obj_np:\n",
    "    r = %timeit -n 50 -r 5 -o results = LLAtoXYZ_ne(points[:,0],points[:,0],points[:,0],points[:,0],True)\n",
    "    row = timing_results_filler(r)\n",
    "    row['Name'] = test_config_name\n",
    "    row['Num of Points'] = points.shape[1]\n",
    "    timing_results = timing_results.append(pd.Series(row),ignore_index=True)"
   ]
  },
  {
   "cell_type": "code",
   "execution_count": null,
   "metadata": {
    "ExecuteTime": {
     "end_time": "2016-10-08T20:41:30.476309",
     "start_time": "2016-10-08T20:41:16.055170"
    },
    "collapsed": false
   },
   "outputs": [],
   "source": [
    "test_config_name = 'Numexpr (with Pandas)'\n",
    "for points_df in points_obj_df:\n",
    "    r = %timeit -n 50 -r 5 -o points_df['X'],points_df['Y'],points_df['Z'] = LLAtoXYZ_ne(points_df['Lat'], \\\n",
    "                                                                                         points_df['Long'], \\\n",
    "                                                                                         points_df['Alt'], \\\n",
    "                                                                                         points_df['Geoid'],False)\n",
    "    row = timing_results_filler(r)\n",
    "    row['Name'] = test_config_name\n",
    "    row['Num of Points'] = len(points_df)\n",
    "    timing_results = timing_results.append(pd.Series(row),ignore_index=True)"
   ]
  },
  {
   "cell_type": "markdown",
   "metadata": {},
   "source": [
    "# Cython"
   ]
  },
  {
   "cell_type": "code",
   "execution_count": null,
   "metadata": {
    "ExecuteTime": {
     "end_time": "2016-10-08T22:46:42.849107",
     "start_time": "2016-10-08T22:46:42.845433"
    },
    "collapsed": false
   },
   "outputs": [],
   "source": [
    "%load_ext Cython"
   ]
  },
  {
   "cell_type": "code",
   "execution_count": null,
   "metadata": {
    "ExecuteTime": {
     "end_time": "2016-10-08T22:46:48.131090",
     "start_time": "2016-10-08T22:46:44.485533"
    },
    "collapsed": false
   },
   "outputs": [],
   "source": [
    "%%cython\n",
    "from cython cimport boundscheck, wraparound\n",
    "from libc.math cimport sin, cos, sqrt, M_PI\n",
    "import numpy as np\n",
    "cimport numpy as cnp\n",
    "\n",
    "cdef double geoidSep = -29.701  # meters \n",
    "\n",
    "cdef double a = 6378137       # Semi-major axis \n",
    "cdef double b = 6356752.3142  # Semi-minor axis\n",
    "cdef double f = (a - b) / a   # flattening\n",
    "cdef double e = 0.081819191\n",
    "cdef double ecc = e*e\n",
    "cdef double radians = M_PI/180.0\n",
    "\n",
    "@boundscheck(False)\n",
    "@wraparound(False)\n",
    "def LLAtoXYZ_cy(double[:] latitude, \n",
    "                double[:] longitude, \n",
    "                double[:] altitude, \n",
    "                double[:] geoidSepIn):\n",
    "    cdef int i\n",
    "    cdef int l = len(latitude)\n",
    "    \n",
    "    cdef double[:] x = np.empty(l, dtype=np.double)\n",
    "    cdef double[:] y = np.empty(l, dtype=np.double)\n",
    "    cdef double[:] z = np.empty(l, dtype=np.double)\n",
    "    \n",
    "    cdef double latitude_rad\n",
    "    cdef double longitude_rad\n",
    "    cdef double height\n",
    "    cdef double s_lat\n",
    "    cdef double c_lat\n",
    "    cdef double r\n",
    "    \n",
    "    for i in range(l):\n",
    "        latitude_rad = radians*latitude[i]\n",
    "        longitude_rad = radians*longitude[i]\n",
    "        height = altitude[i] - geoidSepIn[i]\n",
    "        s_lat  = sin(latitude_rad)\n",
    "        c_lat  = cos(latitude_rad)\n",
    "         \n",
    "        r = a / sqrt(1 - ecc * s_lat * s_lat)\n",
    "        x[i] = (r + height) * c_lat * cos(longitude_rad)\n",
    "        y[i] = (r + height) * c_lat * sin(longitude_rad)\n",
    "        z[i] = ((1-ecc) * r + height) * s_lat\n",
    "        \n",
    "    return x,y,z"
   ]
  },
  {
   "cell_type": "code",
   "execution_count": null,
   "metadata": {
    "ExecuteTime": {
     "end_time": "2016-10-08T22:46:48.142321",
     "start_time": "2016-10-08T22:46:48.133497"
    },
    "collapsed": false
   },
   "outputs": [],
   "source": [
    "results_c = LLAtoXYZ_cy(np.array([-38.123456], dtype=np.double),\n",
    "                     np.array([-124.65432], dtype=np.double),\n",
    "                     np.array([230], dtype=np.double),\n",
    "                       np.array([-20], dtype=np.double))\n",
    "print (results_c[0][0], results_c[1][0], results_c[2][0])\n",
    "#X= -2856867.422762463\n",
    "#Y= -4132876.8004144537\n",
    "#Z= -3916387.577890978)"
   ]
  },
  {
   "cell_type": "code",
   "execution_count": null,
   "metadata": {
    "ExecuteTime": {
     "end_time": "2016-10-08T22:46:48.188056",
     "start_time": "2016-10-08T22:46:48.144570"
    },
    "collapsed": false
   },
   "outputs": [],
   "source": [
    "test_config_name = 'Cython (with Numpy Arrays)'\n",
    "for points in points_obj_np:\n",
    "    r = %timeit -n 50 -r 5 -o results=LLAtoXYZ_cy(points[:,0],points[:,1],points[:,2],points[:,3])\n",
    "    row = timing_results_filler(r)\n",
    "    row['Name'] = test_config_name\n",
    "    row['Num of Points'] = points.shape[1]\n",
    "    timing_results = timing_results.append(pd.Series(row),ignore_index=True)"
   ]
  },
  {
   "cell_type": "markdown",
   "metadata": {},
   "source": [
    "# Cython (parallel)"
   ]
  },
  {
   "cell_type": "code",
   "execution_count": null,
   "metadata": {
    "ExecuteTime": {
     "end_time": "2016-10-08T22:46:49.444335",
     "start_time": "2016-10-08T22:46:49.439387"
    },
    "collapsed": false
   },
   "outputs": [],
   "source": [
    "%%cython\n",
    "from cython cimport boundscheck, wraparound\n",
    "from cython.parallel cimport prange\n",
    "from libc.math cimport sin, cos, sqrt, M_PI\n",
    "import numpy as np\n",
    "cimport numpy as cnp\n",
    "\n",
    "cdef double geoidSep = -29.701  # meters \n",
    "\n",
    "cdef double a = 6378137       # Semi-major axis \n",
    "cdef double b = 6356752.3142  # Semi-minor axis\n",
    "cdef double f = (a - b) / a   # flattening\n",
    "cdef double e = 0.081819191\n",
    "cdef double ecc = e*e\n",
    "cdef double radians = M_PI/180.0\n",
    "\n",
    "@boundscheck(False)\n",
    "@wraparound(False)\n",
    "def LLAtoXYZ_cy_par(double[:] latitude, \n",
    "                double[:] longitude, \n",
    "                double[:] altitude, \n",
    "                double[:] geoidSepIn):\n",
    "    cdef int i\n",
    "    cdef int l = len(latitude)\n",
    "    \n",
    "    cdef double[:] x = np.empty(l, dtype=np.double)\n",
    "    cdef double[:] y = np.empty(l, dtype=np.double)\n",
    "    cdef double[:] z = np.empty(l, dtype=np.double)\n",
    "    \n",
    "    cdef double latitude_rad\n",
    "    cdef double longitude_rad\n",
    "    cdef double height\n",
    "    cdef double s_lat\n",
    "    cdef double c_lat\n",
    "    cdef double r\n",
    "    \n",
    "    for i in prange(l, nogil=True):\n",
    "        latitude_rad = radians*latitude[i]\n",
    "        longitude_rad = radians*longitude[i]\n",
    "        height = altitude[i] - geoidSepIn[i]\n",
    "        s_lat  = sin(latitude_rad)\n",
    "        c_lat  = cos(latitude_rad)\n",
    "         \n",
    "        r = a / sqrt(1 - ecc * s_lat * s_lat)\n",
    "        x[i] = (r + height) * c_lat * cos(longitude_rad)\n",
    "        y[i] = (r + height) * c_lat * sin(longitude_rad)\n",
    "        z[i] = ((1-ecc) * r + height) * s_lat\n",
    "        \n",
    "    return x,y,z"
   ]
  },
  {
   "cell_type": "code",
   "execution_count": null,
   "metadata": {
    "ExecuteTime": {
     "end_time": "2016-10-08T22:46:49.844513",
     "start_time": "2016-10-08T22:46:49.836579"
    },
    "collapsed": false
   },
   "outputs": [],
   "source": [
    "results_c = LLAtoXYZ_cy(np.array([-38.123456], dtype=np.double),\n",
    "                     np.array([-124.65432], dtype=np.double),\n",
    "                     np.array([230], dtype=np.double),\n",
    "                       np.array([-20], dtype=np.double))\n",
    "print (results_c[0][0], results_c[1][0], results_c[2][0])\n",
    "#X= -2856867.422762463\n",
    "#Y= -4132876.8004144537\n",
    "#Z= -3916387.577890978)"
   ]
  },
  {
   "cell_type": "code",
   "execution_count": null,
   "metadata": {
    "ExecuteTime": {
     "end_time": "2016-10-08T22:46:50.247494",
     "start_time": "2016-10-08T22:46:50.208209"
    },
    "collapsed": false
   },
   "outputs": [],
   "source": [
    "test_config_name = 'Cython.Parallel (with Numpy Arrays)'\n",
    "for points in points_obj_np:\n",
    "    r = %timeit -n 50 -r 5 -o results=LLAtoXYZ_cy_par(points[:,0],points[:,1],points[:,2],points[:,3])\n",
    "    row = timing_results_filler(r)\n",
    "    row['Name'] = test_config_name\n",
    "    row['Num of Points'] = points.shape[1]\n",
    "    timing_results = timing_results.append(pd.Series(row),ignore_index=True)"
   ]
  },
  {
   "cell_type": "markdown",
   "metadata": {},
   "source": [
    "# Summary"
   ]
  },
  {
   "cell_type": "code",
   "execution_count": null,
   "metadata": {
    "ExecuteTime": {
     "end_time": "2016-10-10T13:47:08.549196",
     "start_time": "2016-10-10T13:47:08.544635"
    },
    "collapsed": true
   },
   "outputs": [],
   "source": [
    "def results_update(data):\n",
    "    data = data.set_index('Name')\n",
    "    data['Vs Native Python'] = data.loc['Native Python']['Time (sec)'] / data['Time (sec)']\n",
    "    data['Time per Point (usec)'] = data['Time (sec)'] / data['Num of Points'] * 1000000\n",
    "    return data"
   ]
  },
  {
   "cell_type": "code",
   "execution_count": null,
   "metadata": {
    "ExecuteTime": {
     "end_time": "2016-10-10T13:47:09.560657",
     "start_time": "2016-10-10T13:47:09.546959"
    },
    "collapsed": false
   },
   "outputs": [],
   "source": [
    "timing_results = timing_results.groupby('Num of Points').apply(results_update)"
   ]
  },
  {
   "cell_type": "code",
   "execution_count": null,
   "metadata": {
    "ExecuteTime": {
     "end_time": "2016-10-10T13:47:10.943648",
     "start_time": "2016-10-10T13:47:10.918904"
    },
    "collapsed": false
   },
   "outputs": [],
   "source": [
    "timing_results"
   ]
  },
  {
   "cell_type": "code",
   "execution_count": null,
   "metadata": {
    "ExecuteTime": {
     "end_time": "2016-10-10T13:47:28.935884",
     "start_time": "2016-10-10T13:47:28.909494"
    },
    "collapsed": false
   },
   "outputs": [],
   "source": [
    "timing_results.to_csv('results.csv')"
   ]
  },
  {
   "cell_type": "markdown",
   "metadata": {},
   "source": [
    "Ran the time tests for both 10K and 1M points."
   ]
  },
  {
   "cell_type": "code",
   "execution_count": null,
   "metadata": {
    "ExecuteTime": {
     "end_time": "2016-10-10T13:58:23.855334",
     "start_time": "2016-10-10T13:58:23.448508"
    },
    "collapsed": false
   },
   "outputs": [],
   "source": [
    "tenK_df = timing_results.where(timing_results['Num of Points'] == 10000).dropna().reset_index(0,drop=True)\n",
    "tenK_df.sort_values('Time (sec)', inplace=True, ascending=False)\n",
    "tenK_df_subset = tenK_df.reindex(columns=['Time (sec)'])\n",
    "ax_10k_time = tenK_df_subset.plot(kind='barh')\n",
    "ax_10k_time.set_yticklabels(list(tenK_df.index))\n",
    "ax_10k_time.set_xbound(upper=.004)\n",
    "ax_10k_time.set_xlabel('seconds')\n",
    "ax_10k_time.set_title('Total Time for 10K Points by Method')\n",
    "plt.savefig('time_10k.png')"
   ]
  },
  {
   "cell_type": "code",
   "execution_count": null,
   "metadata": {
    "ExecuteTime": {
     "end_time": "2016-10-10T13:59:09.070767",
     "start_time": "2016-10-10T13:59:08.640948"
    },
    "collapsed": false
   },
   "outputs": [],
   "source": [
    "tenK_df.sort_values('Vs Native Python', inplace=True, ascending=True)\n",
    "tenK_df_subset = tenK_df.reindex(columns=['Vs Native Python'])\n",
    "ax_10k_vs = tenK_df_subset.plot(kind='barh')\n",
    "ax_10k_vs.set_yticklabels(list(tenK_df.index))\n",
    "ax_10k_vs.set_xlabel('Multiplier')\n",
    "ax_10k_vs.set_title('Method Compared to Native Python (10K Points)')\n",
    "plt.savefig('compare_10k.png')"
   ]
  },
  {
   "cell_type": "code",
   "execution_count": null,
   "metadata": {
    "ExecuteTime": {
     "end_time": "2016-10-10T13:59:42.955952",
     "start_time": "2016-10-10T13:59:42.565413"
    },
    "collapsed": false
   },
   "outputs": [],
   "source": [
    "oneM_df = timing_results.where(timing_results['Num of Points'] == 1000000).dropna().reset_index(0,drop=True)\n",
    "oneM_df.sort_values('Time (sec)', inplace=True, ascending=False)\n",
    "oneM_df_subset = oneM_df.reindex(columns=['Time (sec)'])\n",
    "ax_1M_time = oneM_df_subset.plot(kind='barh')\n",
    "ax_1M_time.set_yticklabels(list(oneM_df.index))\n",
    "ax_1M_time.set_xbound(upper=.25)\n",
    "ax_1M_time.set_xlabel('seconds')\n",
    "ax_1M_time.set_title('Total Time for 1M Points by Method')\n",
    "plt.savefig('time_1M.png')"
   ]
  },
  {
   "cell_type": "code",
   "execution_count": null,
   "metadata": {
    "ExecuteTime": {
     "end_time": "2016-10-10T14:00:12.268247",
     "start_time": "2016-10-10T14:00:11.760870"
    },
    "collapsed": false
   },
   "outputs": [],
   "source": [
    "oneM_df.sort_values('Vs Native Python', inplace=True, ascending=True)\n",
    "oneM_df_subset = oneM_df.reindex(columns=['Vs Native Python'])\n",
    "ax_1M_vs = oneM_df_subset.plot(kind='barh')\n",
    "ax_1M_vs.set_yticklabels(list(oneM_df.index))\n",
    "ax_1M_vs.set_xlabel('Multiplier')\n",
    "ax_1M_vs.set_title('Method Compared to Native Python (1M Points)')\n",
    "plt.savefig('compare_1M.png')"
   ]
  },
  {
   "cell_type": "code",
   "execution_count": null,
   "metadata": {
    "ExecuteTime": {
     "end_time": "2016-10-10T14:00:38.280510",
     "start_time": "2016-10-10T14:00:37.666200"
    },
    "collapsed": false
   },
   "outputs": [],
   "source": [
    "oneM_per_pt = pd.Series(oneM_df['Time per Point (usec)'],name='1M Points')\n",
    "tenK_per_pt = pd.Series(tenK_df['Time per Point (usec)'],name='10K Points')\n",
    "oneM_per_pt = oneM_per_pt * 1000\n",
    "tenK_per_pt = tenK_per_pt * 1000\n",
    "per_pt_df = pd.concat((oneM_per_pt, tenK_per_pt),axis=1)\n",
    "per_pt_df.sort_values('1M Points', inplace=True, ascending=False)\n",
    "ax_per_pt = per_pt_df.plot(kind='barh', width = .8, figsize=(12,7))\n",
    "ax_per_pt.set_xbound(upper=500)\n",
    "ax_per_pt.set_title('Per Point Execution Time', fontsize=18)\n",
    "ax_per_pt.set_xlabel('nanoseconds', fontsize=18)\n",
    "ax_per_pt.xaxis.grid(True, linestyle='--', which='major', color='grey', alpha=.5)\n",
    "plt.legend(fontsize=14)\n",
    "rects = ax_per_pt.patches\n",
    "labels = per_pt_df.values.flatten('F')\n",
    "ax_per_pt.tick_params(axis='y', labelsize=14)\n",
    "for rect, label in zip(rects, labels):\n",
    "    width = rect.get_width()\n",
    "    height = rect.get_height()\n",
    "    ax_per_pt.text(min(width - 20, 475), rect.get_y()+ height*3/4, int(label), color='white',fontsize=12, ha='left', va='top', weight='heavy')\n",
    "plt.savefig('exec_time.png')"
   ]
  },
  {
   "cell_type": "code",
   "execution_count": null,
   "metadata": {
    "ExecuteTime": {
     "end_time": "2016-10-10T14:03:30.404561",
     "start_time": "2016-10-10T14:03:29.770461"
    },
    "collapsed": false
   },
   "outputs": [],
   "source": [
    "oneM_vs = pd.Series(oneM_df['Vs Native Python'],name='1M Points')\n",
    "tenK_vs = pd.Series(tenK_df['Vs Native Python'],name='10K Points')\n",
    "vs_df = pd.concat((oneM_vs, tenK_vs),axis=1)\n",
    "vs_df.sort_values('1M Points', inplace=True, ascending=False)\n",
    "ax_vs = vs_df.plot(kind='barh', width = .8, figsize=(12,7))\n",
    "ax_vs.set_title('Method Compared to Native Python', fontsize=18)\n",
    "ax_vs.set_xlabel('Improvement Over Native Python (as Multiplier)', fontsize=18)\n",
    "ax_vs.xaxis.grid(True, linestyle='--', which='major', color='grey', alpha=.5)\n",
    "plt.legend(fontsize=14)\n",
    "rects = ax_vs.patches\n",
    "labels = vs_df.values.flatten('F')\n",
    "labels = np.rint(labels)\n",
    "ax_vs.tick_params(axis='y', labelsize=14)\n",
    "for rect, label in zip(rects, labels):\n",
    "    width = rect.get_width()\n",
    "    ax_vs.text(width + 50, rect.get_y() + height/2, int(label), \n",
    "               fontsize=12, ha='left', va='center', weight='heavy')\n",
    "plt.savefig('method_compare.png')"
   ]
  },
  {
   "cell_type": "code",
   "execution_count": null,
   "metadata": {
    "collapsed": true
   },
   "outputs": [],
   "source": []
  }
 ],
 "metadata": {
  "anaconda-cloud": {},
  "kernelspec": {
   "display_name": "Python [Py3.5]",
   "language": "python",
   "name": "Python [Py3.5]"
  },
  "language_info": {
   "codemirror_mode": {
    "name": "ipython",
    "version": 3
   },
   "file_extension": ".py",
   "mimetype": "text/x-python",
   "name": "python",
   "nbconvert_exporter": "python",
   "pygments_lexer": "ipython3",
   "version": "3.5.2"
  }
 },
 "nbformat": 4,
 "nbformat_minor": 0
}
