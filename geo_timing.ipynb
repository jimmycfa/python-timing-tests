{
 "cells": [
  {
   "cell_type": "code",
   "execution_count": 7,
   "metadata": {
    "collapsed": false
   },
   "outputs": [],
   "source": [
    "import sys\n",
    "import platform\n",
    "import os\n",
    "import random as rnd\n",
    "from math import sqrt, sin, cos, radians\n",
    "import numpy as np\n",
    "import pandas as pd\n",
    "from numba import jit\n",
    "import numba\n",
    "import numexpr as ne"
   ]
  },
  {
   "cell_type": "markdown",
   "metadata": {},
   "source": [
    "# Software Versions and Machine Hardware"
   ]
  },
  {
   "cell_type": "code",
   "execution_count": 8,
   "metadata": {
    "collapsed": false
   },
   "outputs": [
    {
     "name": "stdout",
     "output_type": "stream",
     "text": [
      "Python: 3.4.4 |Anaconda 2.3.0 (x86_64)| (default, Jan  9 2016, 17:30:09) \n",
      "[GCC 4.2.1 (Apple Inc. build 5577)]\n",
      "Numpy: 1.10.4\n",
      "Pandas: 0.18.0\n",
      "Numba: 0.19.1\n",
      "Numexpr: 2.5.2\n",
      "Intel(R) Math Kernel Library Version 11.3.3 Product Build 20160413 for Intel(R) 64 architecture applications\n",
      "Processor: i386\n",
      "# of Cores: 4\n",
      "Machine: x86_64\n",
      "Architecture: ('64bit', '')\n"
     ]
    }
   ],
   "source": [
    "print(\"Python: {}\\nNumpy: {}\\nPandas: {}\\nNumba: {}\\nNumexpr: {}\\n{}\".format(sys.version,\n",
    "                                                                                   np.__version__,\n",
    "                                                                                   pd.__version__,\n",
    "                                                                                   numba.__version__,\n",
    "                                                                                   ne.__version__,\n",
    "                                                                                   ne.get_vml_version()))\n",
    "print(\"Processor: {}\\n# of Cores: {}\\nMachine: {}\\nArchitecture: {}\".format(platform.processor(),\n",
    "                                                                            os.cpu_count(),\n",
    "                                                                            platform.machine(),\n",
    "                                                                            platform.architecture()))\n",
    "#Note:\n",
    "#Intel64 Family 6 Model 78 Stepping 3 = Intel(R) Core(TM) i5-6300U CPU @ 2.40GHz"
   ]
  },
  {
   "cell_type": "markdown",
   "metadata": {},
   "source": [
    "# Define Sample Data"
   ]
  },
  {
   "cell_type": "markdown",
   "metadata": {},
   "source": [
    "List of tuples where list is 1,000,000 long and each tuple has 4 values defining the point."
   ]
  },
  {
   "cell_type": "code",
   "execution_count": 36,
   "metadata": {
    "collapsed": false
   },
   "outputs": [
    {
     "name": "stdout",
     "output_type": "stream",
     "text": [
      "<class 'list'> of <class 'tuple'> containing <class 'float'>.\n"
     ]
    }
   ],
   "source": [
    "size = 1000000\n",
    "points = []\n",
    "for i in range(size):\n",
    "    points.append((rnd.uniform(-85,85),rnd.uniform(-175,175),rnd.uniform(-50,12000), rnd.uniform(-50,50)))\n",
    "print ('{} of {} containing {}.'.format(type(points),type(points[0]),type(points[0][0])))"
   ]
  },
  {
   "cell_type": "markdown",
   "metadata": {},
   "source": [
    "Numpy arrays, 4 arrays each 1,000,000 long."
   ]
  },
  {
   "cell_type": "code",
   "execution_count": 37,
   "metadata": {
    "collapsed": false
   },
   "outputs": [
    {
     "name": "stdout",
     "output_type": "stream",
     "text": [
      "<class 'numpy.ndarray'> (x4) containing <class 'numpy.float64'>.\n"
     ]
    }
   ],
   "source": [
    "#instead of using np.random.uniform to define these arrays, converting the points list\n",
    "#so the same values are used for all methods\n",
    "lat_np = np.empty(size, dtype=np.double)\n",
    "long_np = np.empty(size, dtype=np.double)\n",
    "alt_np = np.empty(size, dtype=np.double)\n",
    "geoid_np = np.empty(size, dtype=np.double)\n",
    "for i, point in enumerate(points):\n",
    "    lat_np[i] = point[0]\n",
    "    long_np[i] = point[1]\n",
    "    alt_np[i] = point[2]\n",
    "    geoid_np[i] = point[3]\n",
    "print ('{} (x4) containing {}.'.format(type(lat_np),type(lat_np[0])))"
   ]
  },
  {
   "cell_type": "markdown",
   "metadata": {},
   "source": [
    "Pandas DataFrame of the points."
   ]
  },
  {
   "cell_type": "code",
   "execution_count": 38,
   "metadata": {
    "collapsed": false
   },
   "outputs": [
    {
     "name": "stdout",
     "output_type": "stream",
     "text": [
      "<class 'pandas.core.frame.DataFrame'> containing <class 'numpy.float64'>.\n"
     ]
    }
   ],
   "source": [
    "points_df = pd.DataFrame(points, columns=['Lat','Long','Alt','Geoid'])\n",
    "print ('{} containing {}.'.format(type(points_df),type(points_df.ix[0,0])))"
   ]
  },
  {
   "cell_type": "code",
   "execution_count": 39,
   "metadata": {
    "collapsed": false
   },
   "outputs": [],
   "source": [
    "#results df\n",
    "timing_results = pd.DataFrame(columns=['Loops','Repeat','Best (sec)'])\n",
    "def timing_results_filler (r):\n",
    "    #Loops,Repeat,Best\n",
    "    return [r.loops, r.repeat, r.best]"
   ]
  },
  {
   "cell_type": "markdown",
   "metadata": {},
   "source": [
    "# Constants"
   ]
  },
  {
   "cell_type": "code",
   "execution_count": 40,
   "metadata": {
    "collapsed": false
   },
   "outputs": [],
   "source": [
    "a = 6378137  # Semi-major axis \n",
    "b = 6356752.3142  # Semi-minor axis\n",
    "f = (a - b) / a  # flattening\n",
    "e = 0.081819191 # eccentricity\n",
    "ee = e*e"
   ]
  },
  {
   "cell_type": "markdown",
   "metadata": {},
   "source": [
    "# Native Python Lists"
   ]
  },
  {
   "cell_type": "code",
   "execution_count": 41,
   "metadata": {
    "collapsed": false
   },
   "outputs": [
    {
     "data": {
      "text/plain": [
       "(-2856867.422762463, -4132876.8004144537, -3916387.577890978)"
      ]
     },
     "execution_count": 41,
     "metadata": {},
     "output_type": "execute_result"
    }
   ],
   "source": [
    "def LLAtoXYZ_raw (latitude, longitude, altitude, geoidSepIn = 0):\n",
    "    # LLAtoXYZ converts a position (latitude, longitude, altitude) to the ECEF X, Y, Z format.\n",
    "    # The function expects Lat and Long in degrees and Alt in meters and outputs X, Y, Z in meters. \n",
    "    # geoidSepIn is the height of the geoid above the WGS84 ellipsoid. It is optional and assumed \n",
    "    # to be 0 if not provided (meaning geoid-to-ellipsoid differences are ignored)\n",
    "    \n",
    "    latitude_rad = radians(latitude)\n",
    "    longitude_rad = radians(longitude)\n",
    "    height = altitude - geoidSepIn\n",
    "    cos_lat = cos(latitude_rad)\n",
    "     \n",
    "    r = a / sqrt(1 - ee * sin(latitude_rad) * sin(latitude_rad))\n",
    "    x = (r + height) * cos_lat * cos(longitude_rad)\n",
    "    y = (r + height) * cos_lat * sin(longitude_rad)\n",
    "    z = ((1 - ee) * r + height) * sin(latitude_rad)\n",
    "        \n",
    "    return x,y,z\n",
    "LLAtoXYZ_raw(-38.123456,-124.65432,230,-20)\n",
    "#X= -2856867.422762463\n",
    "#Y= -4132876.8004144537\n",
    "#Z= -3916387.577890978"
   ]
  },
  {
   "cell_type": "code",
   "execution_count": 43,
   "metadata": {
    "collapsed": false
   },
   "outputs": [
    {
     "name": "stdout",
     "output_type": "stream",
     "text": [
      "1 loop, best of 5: 1.82 s per loop\n"
     ]
    }
   ],
   "source": [
    "results = []\n",
    "r = %timeit -n 1 -r 5 -o for p in points: results.append(LLAtoXYZ_raw(p[0],p[1],p[2],p[3]))\n",
    "timing_results.loc['Native Python'] = timing_results_filler(r)"
   ]
  },
  {
   "cell_type": "markdown",
   "metadata": {},
   "source": [
    "# Numpy Arrays"
   ]
  },
  {
   "cell_type": "code",
   "execution_count": 45,
   "metadata": {
    "collapsed": false
   },
   "outputs": [],
   "source": [
    "#import numpy functions directly\n",
    "from numpy import sqrt, sin, cos, radians"
   ]
  },
  {
   "cell_type": "code",
   "execution_count": 46,
   "metadata": {
    "collapsed": false
   },
   "outputs": [
    {
     "data": {
      "text/plain": [
       "(-2856867.4227624629, -4132876.8004144537, -3916387.5778909782)"
      ]
     },
     "execution_count": 46,
     "metadata": {},
     "output_type": "execute_result"
    }
   ],
   "source": [
    "def LLAtoXYZ_numpy (latitude, longitude, altitude, geoidSepIn = 0, return_array = False):\n",
    "    # LLAtoXYZ converts a position (latitude, longitude, altitude) to the ECEF X, Y, Z format.\n",
    "    # The function expects Lat and Long in degrees and Alt in meters and outputs X, Y, Z in meters. \n",
    "    # geoidSepIn is the height of the geoid above the WGS84 ellipsoid. It is optional and assumed \n",
    "    # to be 0 if not provided (meaning geoid-to-ellipsoid differences are ignored)\n",
    "    \n",
    "    latitude_rad = radians(latitude)\n",
    "    longitude_rad = radians(longitude)\n",
    "    height = altitude - geoidSepIn\n",
    "    cos_lat = cos(latitude_rad)\n",
    "     \n",
    "    r = a / sqrt(1 - ee * sin(latitude_rad) * sin(latitude_rad))\n",
    "    x = (r + height) * cos_lat * cos(longitude_rad)\n",
    "    y = (r + height) * cos_lat * sin(longitude_rad)\n",
    "    z = ((1 - ee) * r + height) * sin(latitude_rad)\n",
    "    \n",
    "    if return_array:\n",
    "        return np.array([x,y,z])\n",
    "    else:\n",
    "        return x,y,z\n",
    "    \n",
    "LLAtoXYZ_numpy(-38.123456,-124.65432,230,-20)\n",
    "#X= -2856867.422762463\n",
    "#Y= -4132876.8004144537\n",
    "#Z= -3916387.577890978"
   ]
  },
  {
   "cell_type": "code",
   "execution_count": 47,
   "metadata": {
    "collapsed": false
   },
   "outputs": [
    {
     "name": "stdout",
     "output_type": "stream",
     "text": [
      "1 loop, best of 5: 173 ms per loop\n"
     ]
    }
   ],
   "source": [
    "r = %timeit -n 1 -r 5 -o results=LLAtoXYZ_numpy(lat_np,long_np,alt_np,geoid_np,True)\n",
    "timing_results.loc['Numpy'] = timing_results_filler(r)"
   ]
  },
  {
   "cell_type": "markdown",
   "metadata": {},
   "source": [
    "# Pandas (Serialized)"
   ]
  },
  {
   "cell_type": "code",
   "execution_count": null,
   "metadata": {
    "collapsed": false
   },
   "outputs": [],
   "source": [
    "r = %timeit -n 1 -r 5 -o points_df['X'],points_df['Y'],points_df['Z']  = zip(*points_df.apply(lambda row: LLAtoXYZ_raw(row[0],row[1],row[2],row[3]), axis=1))\n",
    "timing_results.loc['Pandas (Serialized)'] = timing_results_filler(r)"
   ]
  },
  {
   "cell_type": "markdown",
   "metadata": {},
   "source": [
    "# Pandas (Vectorized)"
   ]
  },
  {
   "cell_type": "code",
   "execution_count": 48,
   "metadata": {
    "collapsed": false
   },
   "outputs": [
    {
     "name": "stdout",
     "output_type": "stream",
     "text": [
      "1 loop, best of 5: 169 ms per loop\n"
     ]
    }
   ],
   "source": [
    "r = %timeit -n 1 -r 5 -o points_df['X'],points_df['Y'],points_df['Z'] = LLAtoXYZ_numpy(points_df['Lat'],points_df['Long'],points_df['Alt'],points_df['Geoid'],False)\n",
    "timing_results.loc['Pandas (Vectorized)'] = timing_results_filler(r)"
   ]
  },
  {
   "cell_type": "markdown",
   "metadata": {},
   "source": [
    "# Numba"
   ]
  },
  {
   "cell_type": "code",
   "execution_count": 49,
   "metadata": {
    "collapsed": false
   },
   "outputs": [
    {
     "data": {
      "text/plain": [
       "(-2856867.4227624629, -4132876.8004144537, -3916387.5778909782)"
      ]
     },
     "execution_count": 49,
     "metadata": {},
     "output_type": "execute_result"
    }
   ],
   "source": [
    "@jit\n",
    "def LLAtoXYZ_jit (latitude, longitude, altitude, geoidSepIn = 0, return_array = False):\n",
    "    # LLAtoXYZ converts a position (latitude, longitude, altitude) to the ECEF X, Y, Z format.\n",
    "    # The function expects Lat and Long in degrees and Alt in meters and outputs X, Y, Z in meters. \n",
    "    # geoidSepIn is the height of the geoid above the WGS84 ellipsoid. It is optional and assumed \n",
    "    # to be 0 if not provided (meaning geoid-to-ellipsoid differences are ignored)\n",
    "    \n",
    "    latitude_rad = radians(latitude)\n",
    "    longitude_rad = radians(longitude)\n",
    "    height = altitude - geoidSepIn\n",
    "    cos_lat = cos(latitude_rad)\n",
    "     \n",
    "    r = a / np.sqrt(1 - ee * sin(latitude_rad) * sin(latitude_rad))\n",
    "    x = (r + height) * cos_lat * cos(longitude_rad)\n",
    "    y = (r + height) * cos_lat * sin(longitude_rad)\n",
    "    z = ((1 - ee) * r + height) * sin(latitude_rad)\n",
    "    \n",
    "    if return_array:\n",
    "        return np.array([x,y,z])\n",
    "    else:\n",
    "        return x,y,z\n",
    "    \n",
    "LLAtoXYZ_jit(-38.123456,-124.65432,230,-20)\n",
    "#X= -2856867.422762463\n",
    "#Y= -4132876.8004144537\n",
    "#Z= -3916387.577890978"
   ]
  },
  {
   "cell_type": "code",
   "execution_count": 50,
   "metadata": {
    "collapsed": false
   },
   "outputs": [
    {
     "name": "stdout",
     "output_type": "stream",
     "text": [
      "1 loop, best of 5: 183 ms per loop\n"
     ]
    }
   ],
   "source": [
    "r = %timeit -n 1 -r 5 -o results = LLAtoXYZ_jit(lat_np,long_np,alt_np,geoid_np,True)\n",
    "timing_results.loc['Numba with Numpy Arrays'] = timing_results_filler(r)"
   ]
  },
  {
   "cell_type": "code",
   "execution_count": 51,
   "metadata": {
    "collapsed": false
   },
   "outputs": [
    {
     "name": "stdout",
     "output_type": "stream",
     "text": [
      "1 loop, best of 5: 175 ms per loop\n"
     ]
    }
   ],
   "source": [
    "r = %timeit -n 1 -r 5 -o points_df['X'],points_df['Y'],points_df['Z'] = LLAtoXYZ_jit(points_df['Lat'],points_df['Long'],points_df['Alt'],points_df['Geoid'],False)\n",
    "timing_results.loc['Numba with Vectorized Pandas'] = timing_results_filler(r)"
   ]
  },
  {
   "cell_type": "markdown",
   "metadata": {},
   "source": [
    "# Numexpr"
   ]
  },
  {
   "cell_type": "code",
   "execution_count": 52,
   "metadata": {
    "collapsed": false
   },
   "outputs": [
    {
     "data": {
      "text/plain": [
       "(array(-2856867.422762463),\n",
       " array(-4132876.8004144537),\n",
       " array(-3916387.577890978))"
      ]
     },
     "execution_count": 52,
     "metadata": {},
     "output_type": "execute_result"
    }
   ],
   "source": [
    "def LLAtoXYZ_ne (latitude, longitude, altitude, geoidSepIn = 0, return_array = False):\n",
    "    # LLAtoXYZ converts a position (latitude, longitude, altitude) to the ECEF X, Y, Z format.\n",
    "    # The function expects Lat and Long in degrees and Alt in meters and outputs X, Y, Z in meters. \n",
    "    # geoidSepIn is the height of the geoid above the WGS84 ellipsoid. It is optional and assumed \n",
    "    # to be 0 if not provided (meaning geoid-to-ellipsoid differences are ignored)\n",
    "    \n",
    "    latitude_rad = radians(latitude)\n",
    "    longitude_rad = radians(longitude)\n",
    "    height = altitude - geoidSepIn\n",
    "     \n",
    "    r = ne.evaluate(\"a / sqrt(1 - ee * sin(latitude_rad)**2)\")\n",
    "    x = ne.evaluate(\"(r + height) * cos(latitude_rad) * cos(longitude_rad)\")\n",
    "    y = ne.evaluate(\"(r + height) * cos(latitude_rad) * sin(longitude_rad)\")\n",
    "    z = ne.evaluate(\"((1 - ee) * r + height) * sin(latitude_rad)\")\n",
    "    \n",
    "    if return_array:\n",
    "        return np.array([x,y,z])\n",
    "    else:\n",
    "        return x,y,z\n",
    "    \n",
    "LLAtoXYZ_ne(-38.123456,-124.65432,230,-20)\n",
    "#X= -2856867.422762463\n",
    "#Y= -4132876.8004144537\n",
    "#Z= -3916387.577890978"
   ]
  },
  {
   "cell_type": "code",
   "execution_count": 53,
   "metadata": {
    "collapsed": false
   },
   "outputs": [
    {
     "name": "stdout",
     "output_type": "stream",
     "text": [
      "1 loop, best of 5: 43.2 ms per loop\n"
     ]
    }
   ],
   "source": [
    "r = %timeit -n 1 -r 5 -o results = LLAtoXYZ_ne(lat_np,long_np,alt_np,geoid_np,True)\n",
    "timing_results.loc['Numexpr with Numpy Arrays'] = timing_results_filler(r)"
   ]
  },
  {
   "cell_type": "code",
   "execution_count": 54,
   "metadata": {
    "collapsed": false
   },
   "outputs": [
    {
     "name": "stdout",
     "output_type": "stream",
     "text": [
      "1 loop, best of 5: 49 ms per loop\n"
     ]
    }
   ],
   "source": [
    "r = %timeit -n 1 -r 5 -o points_df['X'],points_df['Y'],points_df['Z'] = LLAtoXYZ_ne(points_df['Lat'],points_df['Long'],points_df['Alt'],points_df['Geoid'],False)\n",
    "timing_results.loc['Numexpr with Vectorized Pandas'] = timing_results_filler(r)"
   ]
  },
  {
   "cell_type": "markdown",
   "metadata": {},
   "source": [
    "# Cython"
   ]
  },
  {
   "cell_type": "code",
   "execution_count": 55,
   "metadata": {
    "collapsed": false
   },
   "outputs": [
    {
     "name": "stdout",
     "output_type": "stream",
     "text": [
      "The Cython extension is already loaded. To reload it, use:\n",
      "  %reload_ext Cython\n"
     ]
    }
   ],
   "source": [
    "%load_ext Cython"
   ]
  },
  {
   "cell_type": "code",
   "execution_count": 56,
   "metadata": {
    "collapsed": false
   },
   "outputs": [
    {
     "name": "stderr",
     "output_type": "stream",
     "text": [
      "/Users/lukestarnes/anaconda/lib/python3.4/site-packages/IPython/utils/path.py:264: UserWarning: get_ipython_cache_dir has moved to the IPython.paths module\n",
      "  warn(\"get_ipython_cache_dir has moved to the IPython.paths module\")\n"
     ]
    }
   ],
   "source": [
    "%%cython\n",
    "from cython cimport boundscheck, wraparound\n",
    "from libc.math cimport sin, cos, sqrt, M_PI\n",
    "import numpy as np\n",
    "cimport numpy as cnp\n",
    "\n",
    "cdef double geoidSep = -29.701  # meters \n",
    "\n",
    "cdef double a = 6378137       # Semi-major axis \n",
    "cdef double b = 6356752.3142  # Semi-minor axis\n",
    "cdef double f = (a - b) / a   # flattening\n",
    "cdef double e = 0.081819191\n",
    "cdef double ecc = e*e\n",
    "cdef double radians = M_PI/180.0\n",
    "\n",
    "@boundscheck(False)\n",
    "@wraparound(False)\n",
    "def LLAtoXYZ_cy(double[:] latitude, \n",
    "                double[:] longitude, \n",
    "                double[:] altitude, \n",
    "                double[:] geoidSepIn):\n",
    "    cdef int i\n",
    "    cdef int l = len(latitude)\n",
    "    \n",
    "    cdef double[:] x = np.empty(l, dtype=np.double)\n",
    "    cdef double[:] y = np.empty(l, dtype=np.double)\n",
    "    cdef double[:] z = np.empty(l, dtype=np.double)\n",
    "    \n",
    "    cdef double latitude_rad\n",
    "    cdef double longitude_rad\n",
    "    cdef double height\n",
    "    cdef double s_lat\n",
    "    cdef double c_lat\n",
    "    cdef double r\n",
    "    \n",
    "    for i in range(l):\n",
    "        latitude_rad = radians*latitude[i]\n",
    "        longitude_rad = radians*longitude[i]\n",
    "        height = altitude[i] - geoidSepIn[i]\n",
    "        s_lat  = sin(latitude_rad)\n",
    "        c_lat  = cos(latitude_rad)\n",
    "         \n",
    "        r = a / sqrt(1 - ecc * s_lat * s_lat)\n",
    "        x[i] = (r + height) * c_lat * cos(longitude_rad)\n",
    "        y[i] = (r + height) * c_lat * sin(longitude_rad)\n",
    "        z[i] = ((1-ecc) * r + height) * s_lat\n",
    "        \n",
    "    return x,y,z"
   ]
  },
  {
   "cell_type": "code",
   "execution_count": 57,
   "metadata": {
    "collapsed": false
   },
   "outputs": [
    {
     "name": "stdout",
     "output_type": "stream",
     "text": [
      "-2856867.422762463 -4132876.8004144537 -3916387.577890978\n"
     ]
    }
   ],
   "source": [
    "results_c = LLAtoXYZ_cy(np.array([-38.123456], dtype=np.double),\n",
    "                     np.array([-124.65432], dtype=np.double),\n",
    "                     np.array([230], dtype=np.double),\n",
    "                       np.array([-20], dtype=np.double))\n",
    "print (results_c[0][0], results_c[1][0], results_c[2][0])\n",
    "#X= -2856867.422762463\n",
    "#Y= -4132876.8004144537\n",
    "#Z= -3916387.577890978)"
   ]
  },
  {
   "cell_type": "code",
   "execution_count": 58,
   "metadata": {
    "collapsed": false
   },
   "outputs": [
    {
     "name": "stdout",
     "output_type": "stream",
     "text": [
      "1 loop, best of 5: 61.3 ms per loop\n"
     ]
    }
   ],
   "source": [
    "r = %timeit -n 1 -r 5 -o results=LLAtoXYZ_cy(lat_np,long_np,alt_np,geoid_np)\n",
    "timing_results.loc['Cython'] = timing_results_filler(r)"
   ]
  },
  {
   "cell_type": "markdown",
   "metadata": {},
   "source": [
    "# Summary"
   ]
  },
  {
   "cell_type": "code",
   "execution_count": 59,
   "metadata": {
    "collapsed": true
   },
   "outputs": [],
   "source": [
    "timing_results['Vs Native Python'] = timing_results.loc['Native Python']['Best (sec)'] / timing_results['Best (sec)']"
   ]
  },
  {
   "cell_type": "code",
   "execution_count": 60,
   "metadata": {
    "collapsed": false
   },
   "outputs": [
    {
     "data": {
      "text/html": [
       "<div>\n",
       "<table border=\"1\" class=\"dataframe\">\n",
       "  <thead>\n",
       "    <tr style=\"text-align: right;\">\n",
       "      <th></th>\n",
       "      <th>Loops</th>\n",
       "      <th>Repeat</th>\n",
       "      <th>Best (sec)</th>\n",
       "      <th>Vs Native Python</th>\n",
       "    </tr>\n",
       "  </thead>\n",
       "  <tbody>\n",
       "    <tr>\n",
       "      <th>Numexpr with Numpy Arrays</th>\n",
       "      <td>1.0</td>\n",
       "      <td>5.0</td>\n",
       "      <td>0.043212</td>\n",
       "      <td>42.227313</td>\n",
       "    </tr>\n",
       "    <tr>\n",
       "      <th>Numexpr with Vectorized Pandas</th>\n",
       "      <td>1.0</td>\n",
       "      <td>5.0</td>\n",
       "      <td>0.048998</td>\n",
       "      <td>37.241017</td>\n",
       "    </tr>\n",
       "    <tr>\n",
       "      <th>Cython</th>\n",
       "      <td>1.0</td>\n",
       "      <td>5.0</td>\n",
       "      <td>0.061287</td>\n",
       "      <td>29.773641</td>\n",
       "    </tr>\n",
       "    <tr>\n",
       "      <th>Pandas (Vectorized)</th>\n",
       "      <td>1.0</td>\n",
       "      <td>5.0</td>\n",
       "      <td>0.169171</td>\n",
       "      <td>10.786283</td>\n",
       "    </tr>\n",
       "    <tr>\n",
       "      <th>Numpy</th>\n",
       "      <td>1.0</td>\n",
       "      <td>5.0</td>\n",
       "      <td>0.172981</td>\n",
       "      <td>10.548699</td>\n",
       "    </tr>\n",
       "    <tr>\n",
       "      <th>Numba with Vectorized Pandas</th>\n",
       "      <td>1.0</td>\n",
       "      <td>5.0</td>\n",
       "      <td>0.174612</td>\n",
       "      <td>10.450185</td>\n",
       "    </tr>\n",
       "    <tr>\n",
       "      <th>Numba with Numpy Arrays</th>\n",
       "      <td>1.0</td>\n",
       "      <td>5.0</td>\n",
       "      <td>0.183170</td>\n",
       "      <td>9.961918</td>\n",
       "    </tr>\n",
       "    <tr>\n",
       "      <th>Native Python</th>\n",
       "      <td>1.0</td>\n",
       "      <td>5.0</td>\n",
       "      <td>1.824724</td>\n",
       "      <td>1.000000</td>\n",
       "    </tr>\n",
       "  </tbody>\n",
       "</table>\n",
       "</div>"
      ],
      "text/plain": [
       "                                Loops  Repeat  Best (sec)  Vs Native Python\n",
       "Numexpr with Numpy Arrays         1.0     5.0    0.043212         42.227313\n",
       "Numexpr with Vectorized Pandas    1.0     5.0    0.048998         37.241017\n",
       "Cython                            1.0     5.0    0.061287         29.773641\n",
       "Pandas (Vectorized)               1.0     5.0    0.169171         10.786283\n",
       "Numpy                             1.0     5.0    0.172981         10.548699\n",
       "Numba with Vectorized Pandas      1.0     5.0    0.174612         10.450185\n",
       "Numba with Numpy Arrays           1.0     5.0    0.183170          9.961918\n",
       "Native Python                     1.0     5.0    1.824724          1.000000"
      ]
     },
     "execution_count": 60,
     "metadata": {},
     "output_type": "execute_result"
    }
   ],
   "source": [
    "timing_results.sort_values('Best (sec)')"
   ]
  },
  {
   "cell_type": "markdown",
   "metadata": {},
   "source": [
    "Note: %timeit runs the function X number of loops and then repeats this for Y runs. It reports the average loop time (time for run / X) for the best of the Y runs. X is termed \"Loops\" and Y is termed \"Repeat\". \n",
    "Example: Loops = X = 1000 & Repeat = Y = 3. Best = 20ms. This would mean that it ran 3000 total loops (3 times of running 1000 loops) and the fastest of the 3 super cycles was 20,000 ms meaning the average time was 20ms."
   ]
  }
 ],
 "metadata": {
  "anaconda-cloud": {},
  "kernelspec": {
   "display_name": "Python 3",
   "language": "python",
   "name": "python3"
  },
  "language_info": {
   "codemirror_mode": {
    "name": "ipython",
    "version": 3
   },
   "file_extension": ".py",
   "mimetype": "text/x-python",
   "name": "python",
   "nbconvert_exporter": "python",
   "pygments_lexer": "ipython3",
   "version": "3.4.4"
  }
 },
 "nbformat": 4,
 "nbformat_minor": 0
}
